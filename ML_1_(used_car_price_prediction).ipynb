{
  "nbformat": 4,
  "nbformat_minor": 0,
  "metadata": {
    "kernelspec": {
      "display_name": "Python 3",
      "language": "python",
      "name": "python3"
    },
    "language_info": {
      "codemirror_mode": {
        "name": "ipython",
        "version": 3
      },
      "file_extension": ".py",
      "mimetype": "text/x-python",
      "name": "python",
      "nbconvert_exporter": "python",
      "pygments_lexer": "ipython3",
      "version": "3.8.11"
    },
    "colab": {
      "name": "ML-1 (used_car_price_prediction)",
      "provenance": [],
      "collapsed_sections": [
        "m79bZ3ojbV82",
        "Zu7fPn5HbV87",
        "EyXAGsjnbV8_",
        "12PKntblbV9C",
        "Pe9yr6oCbV9I",
        "IxhZbAYsbV9L",
        "KMJ-3iGxbV9O",
        "6T7pkytsbV9Q",
        "Xf8mmQdSbV9R",
        "ngfv0b5vbnO6",
        "PbnRHneJbV9T",
        "B_T57TpNbV9V",
        "26QEobIEbV9X"
      ],
      "include_colab_link": true
    }
  },
  "cells": [
    {
      "cell_type": "markdown",
      "metadata": {
        "id": "view-in-github",
        "colab_type": "text"
      },
      "source": [
        "<a href=\"https://colab.research.google.com/github/MerveKaragulTabas/ML-Machine-Learning-/blob/main/ML_1_(used_car_price_prediction).ipynb\" target=\"_parent\"><img src=\"https://colab.research.google.com/assets/colab-badge.svg\" alt=\"Open In Colab\"/></a>"
      ]
    },
    {
      "cell_type": "markdown",
      "metadata": {
        "id": "curQqdpMbV8a"
      },
      "source": [
        "<img src=\"https://miro.medium.com/max/647/1*ZOcUPrSXLYucFxppoI-dYg.png\">"
      ]
    },
    {
      "cell_type": "markdown",
      "metadata": {
        "id": "vIdfp9zXbV8w"
      },
      "source": [
        "# Problem definition\n"
      ]
    },
    {
      "cell_type": "markdown",
      "metadata": {
        "id": "_f1vwRmsbV8z"
      },
      "source": [
        "For this project we are using a car dataset, where we want to predict the selling price of car based on its certain features.\n",
        "Since we need to find the real value, with real calculation, therefore this problem is regression problem. \n",
        "We will be using linear regression to solve this problem.\n",
        "\n",
        "General equation of Multiple Linear Regression:\n",
        "$$y = \\beta_0 + \\beta_{1}x_1 + \\beta_{2}x_2 + \\beta_{3}x_3 + \\beta_{4}x_4 + ... + \\beta_{n}x_n$$"
      ]
    },
    {
      "cell_type": "markdown",
      "metadata": {
        "id": "m79bZ3ojbV82"
      },
      "source": [
        "# Libraries"
      ]
    },
    {
      "cell_type": "code",
      "metadata": {
        "id": "zk6tvPRBbV84"
      },
      "source": [
        "import pandas as pd\n",
        "import numpy as np\n",
        "import matplotlib.pyplot as plt\n",
        "import seaborn as sns\n",
        "plt.rcParams[\"figure.figsize\"] = (9,5)\n",
        "import warnings\n",
        "warnings.filterwarnings('ignore')"
      ],
      "execution_count": null,
      "outputs": []
    },
    {
      "cell_type": "markdown",
      "metadata": {
        "id": "Zu7fPn5HbV87"
      },
      "source": [
        "# Data Gathering"
      ]
    },
    {
      "cell_type": "code",
      "metadata": {
        "id": "Hgyy7dkrbV89",
        "outputId": "af4797af-9691-4958-d74c-fc6ebb10bc7e",
        "colab": {
          "base_uri": "https://localhost:8080/",
          "height": 206
        }
      },
      "source": [
        "df=pd.read_csv(\"car_dataset.csv\")\n",
        "df.head()"
      ],
      "execution_count": null,
      "outputs": [
        {
          "output_type": "execute_result",
          "data": {
            "text/html": [
              "\n",
              "  <div id=\"df-c11fcb91-f232-45a0-9e0f-9008de38c016\">\n",
              "    <div class=\"colab-df-container\">\n",
              "      <div>\n",
              "<style scoped>\n",
              "    .dataframe tbody tr th:only-of-type {\n",
              "        vertical-align: middle;\n",
              "    }\n",
              "\n",
              "    .dataframe tbody tr th {\n",
              "        vertical-align: top;\n",
              "    }\n",
              "\n",
              "    .dataframe thead th {\n",
              "        text-align: right;\n",
              "    }\n",
              "</style>\n",
              "<table border=\"1\" class=\"dataframe\">\n",
              "  <thead>\n",
              "    <tr style=\"text-align: right;\">\n",
              "      <th></th>\n",
              "      <th>Car_Name</th>\n",
              "      <th>Year</th>\n",
              "      <th>Selling_Price</th>\n",
              "      <th>Present_Price</th>\n",
              "      <th>Kms_Driven</th>\n",
              "      <th>Fuel_Type</th>\n",
              "      <th>Seller_Type</th>\n",
              "      <th>Transmission</th>\n",
              "      <th>Owner</th>\n",
              "    </tr>\n",
              "  </thead>\n",
              "  <tbody>\n",
              "    <tr>\n",
              "      <th>0</th>\n",
              "      <td>ritz</td>\n",
              "      <td>2014</td>\n",
              "      <td>3.35</td>\n",
              "      <td>5.59</td>\n",
              "      <td>27000</td>\n",
              "      <td>Petrol</td>\n",
              "      <td>Dealer</td>\n",
              "      <td>Manual</td>\n",
              "      <td>0</td>\n",
              "    </tr>\n",
              "    <tr>\n",
              "      <th>1</th>\n",
              "      <td>sx4</td>\n",
              "      <td>2013</td>\n",
              "      <td>4.75</td>\n",
              "      <td>9.54</td>\n",
              "      <td>43000</td>\n",
              "      <td>Diesel</td>\n",
              "      <td>Dealer</td>\n",
              "      <td>Manual</td>\n",
              "      <td>0</td>\n",
              "    </tr>\n",
              "    <tr>\n",
              "      <th>2</th>\n",
              "      <td>ciaz</td>\n",
              "      <td>2017</td>\n",
              "      <td>7.25</td>\n",
              "      <td>9.85</td>\n",
              "      <td>6900</td>\n",
              "      <td>Petrol</td>\n",
              "      <td>Dealer</td>\n",
              "      <td>Manual</td>\n",
              "      <td>0</td>\n",
              "    </tr>\n",
              "    <tr>\n",
              "      <th>3</th>\n",
              "      <td>wagon r</td>\n",
              "      <td>2011</td>\n",
              "      <td>2.85</td>\n",
              "      <td>4.15</td>\n",
              "      <td>5200</td>\n",
              "      <td>Petrol</td>\n",
              "      <td>Dealer</td>\n",
              "      <td>Manual</td>\n",
              "      <td>0</td>\n",
              "    </tr>\n",
              "    <tr>\n",
              "      <th>4</th>\n",
              "      <td>swift</td>\n",
              "      <td>2014</td>\n",
              "      <td>4.60</td>\n",
              "      <td>6.87</td>\n",
              "      <td>42450</td>\n",
              "      <td>Diesel</td>\n",
              "      <td>Dealer</td>\n",
              "      <td>Manual</td>\n",
              "      <td>0</td>\n",
              "    </tr>\n",
              "  </tbody>\n",
              "</table>\n",
              "</div>\n",
              "      <button class=\"colab-df-convert\" onclick=\"convertToInteractive('df-c11fcb91-f232-45a0-9e0f-9008de38c016')\"\n",
              "              title=\"Convert this dataframe to an interactive table.\"\n",
              "              style=\"display:none;\">\n",
              "        \n",
              "  <svg xmlns=\"http://www.w3.org/2000/svg\" height=\"24px\"viewBox=\"0 0 24 24\"\n",
              "       width=\"24px\">\n",
              "    <path d=\"M0 0h24v24H0V0z\" fill=\"none\"/>\n",
              "    <path d=\"M18.56 5.44l.94 2.06.94-2.06 2.06-.94-2.06-.94-.94-2.06-.94 2.06-2.06.94zm-11 1L8.5 8.5l.94-2.06 2.06-.94-2.06-.94L8.5 2.5l-.94 2.06-2.06.94zm10 10l.94 2.06.94-2.06 2.06-.94-2.06-.94-.94-2.06-.94 2.06-2.06.94z\"/><path d=\"M17.41 7.96l-1.37-1.37c-.4-.4-.92-.59-1.43-.59-.52 0-1.04.2-1.43.59L10.3 9.45l-7.72 7.72c-.78.78-.78 2.05 0 2.83L4 21.41c.39.39.9.59 1.41.59.51 0 1.02-.2 1.41-.59l7.78-7.78 2.81-2.81c.8-.78.8-2.07 0-2.86zM5.41 20L4 18.59l7.72-7.72 1.47 1.35L5.41 20z\"/>\n",
              "  </svg>\n",
              "      </button>\n",
              "      \n",
              "  <style>\n",
              "    .colab-df-container {\n",
              "      display:flex;\n",
              "      flex-wrap:wrap;\n",
              "      gap: 12px;\n",
              "    }\n",
              "\n",
              "    .colab-df-convert {\n",
              "      background-color: #E8F0FE;\n",
              "      border: none;\n",
              "      border-radius: 50%;\n",
              "      cursor: pointer;\n",
              "      display: none;\n",
              "      fill: #1967D2;\n",
              "      height: 32px;\n",
              "      padding: 0 0 0 0;\n",
              "      width: 32px;\n",
              "    }\n",
              "\n",
              "    .colab-df-convert:hover {\n",
              "      background-color: #E2EBFA;\n",
              "      box-shadow: 0px 1px 2px rgba(60, 64, 67, 0.3), 0px 1px 3px 1px rgba(60, 64, 67, 0.15);\n",
              "      fill: #174EA6;\n",
              "    }\n",
              "\n",
              "    [theme=dark] .colab-df-convert {\n",
              "      background-color: #3B4455;\n",
              "      fill: #D2E3FC;\n",
              "    }\n",
              "\n",
              "    [theme=dark] .colab-df-convert:hover {\n",
              "      background-color: #434B5C;\n",
              "      box-shadow: 0px 1px 3px 1px rgba(0, 0, 0, 0.15);\n",
              "      filter: drop-shadow(0px 1px 2px rgba(0, 0, 0, 0.3));\n",
              "      fill: #FFFFFF;\n",
              "    }\n",
              "  </style>\n",
              "\n",
              "      <script>\n",
              "        const buttonEl =\n",
              "          document.querySelector('#df-c11fcb91-f232-45a0-9e0f-9008de38c016 button.colab-df-convert');\n",
              "        buttonEl.style.display =\n",
              "          google.colab.kernel.accessAllowed ? 'block' : 'none';\n",
              "\n",
              "        async function convertToInteractive(key) {\n",
              "          const element = document.querySelector('#df-c11fcb91-f232-45a0-9e0f-9008de38c016');\n",
              "          const dataTable =\n",
              "            await google.colab.kernel.invokeFunction('convertToInteractive',\n",
              "                                                     [key], {});\n",
              "          if (!dataTable) return;\n",
              "\n",
              "          const docLinkHtml = 'Like what you see? Visit the ' +\n",
              "            '<a target=\"_blank\" href=https://colab.research.google.com/notebooks/data_table.ipynb>data table notebook</a>'\n",
              "            + ' to learn more about interactive tables.';\n",
              "          element.innerHTML = '';\n",
              "          dataTable['output_type'] = 'display_data';\n",
              "          await google.colab.output.renderOutput(dataTable, element);\n",
              "          const docLink = document.createElement('div');\n",
              "          docLink.innerHTML = docLinkHtml;\n",
              "          element.appendChild(docLink);\n",
              "        }\n",
              "      </script>\n",
              "    </div>\n",
              "  </div>\n",
              "  "
            ],
            "text/plain": [
              "  Car_Name  Year  Selling_Price  ...  Seller_Type  Transmission Owner\n",
              "0     ritz  2014           3.35  ...       Dealer        Manual     0\n",
              "1      sx4  2013           4.75  ...       Dealer        Manual     0\n",
              "2     ciaz  2017           7.25  ...       Dealer        Manual     0\n",
              "3  wagon r  2011           2.85  ...       Dealer        Manual     0\n",
              "4    swift  2014           4.60  ...       Dealer        Manual     0\n",
              "\n",
              "[5 rows x 9 columns]"
            ]
          },
          "metadata": {},
          "execution_count": 2
        }
      ]
    },
    {
      "cell_type": "code",
      "source": [
        "df.shape"
      ],
      "metadata": {
        "id": "1DIpGmqt7M9E",
        "outputId": "c19c5382-02c3-450a-afc4-6a88b9982a6a",
        "colab": {
          "base_uri": "https://localhost:8080/"
        }
      },
      "execution_count": null,
      "outputs": [
        {
          "output_type": "execute_result",
          "data": {
            "text/plain": [
              "(301, 9)"
            ]
          },
          "metadata": {},
          "execution_count": 3
        }
      ]
    },
    {
      "cell_type": "code",
      "source": [
        "df.info()"
      ],
      "metadata": {
        "id": "I7Lsvdgk7PAg",
        "outputId": "7a3938ae-8119-4690-c2c2-9b505ea6d7be",
        "colab": {
          "base_uri": "https://localhost:8080/"
        }
      },
      "execution_count": null,
      "outputs": [
        {
          "output_type": "stream",
          "name": "stdout",
          "text": [
            "<class 'pandas.core.frame.DataFrame'>\n",
            "RangeIndex: 301 entries, 0 to 300\n",
            "Data columns (total 9 columns):\n",
            " #   Column         Non-Null Count  Dtype  \n",
            "---  ------         --------------  -----  \n",
            " 0   Car_Name       301 non-null    object \n",
            " 1   Year           301 non-null    int64  \n",
            " 2   Selling_Price  301 non-null    float64\n",
            " 3   Present_Price  301 non-null    float64\n",
            " 4   Kms_Driven     301 non-null    int64  \n",
            " 5   Fuel_Type      301 non-null    object \n",
            " 6   Seller_Type    301 non-null    object \n",
            " 7   Transmission   301 non-null    object \n",
            " 8   Owner          301 non-null    int64  \n",
            "dtypes: float64(2), int64(3), object(4)\n",
            "memory usage: 21.3+ KB\n"
          ]
        }
      ]
    },
    {
      "cell_type": "code",
      "source": [
        "df.describe()"
      ],
      "metadata": {
        "id": "vMh5TfyQ7SWp",
        "outputId": "ae82545c-5b47-4fde-a489-4a24a30a0e20",
        "colab": {
          "base_uri": "https://localhost:8080/",
          "height": 300
        }
      },
      "execution_count": null,
      "outputs": [
        {
          "output_type": "execute_result",
          "data": {
            "text/html": [
              "\n",
              "  <div id=\"df-2b0a2608-1519-4ac0-9b71-085a0462487c\">\n",
              "    <div class=\"colab-df-container\">\n",
              "      <div>\n",
              "<style scoped>\n",
              "    .dataframe tbody tr th:only-of-type {\n",
              "        vertical-align: middle;\n",
              "    }\n",
              "\n",
              "    .dataframe tbody tr th {\n",
              "        vertical-align: top;\n",
              "    }\n",
              "\n",
              "    .dataframe thead th {\n",
              "        text-align: right;\n",
              "    }\n",
              "</style>\n",
              "<table border=\"1\" class=\"dataframe\">\n",
              "  <thead>\n",
              "    <tr style=\"text-align: right;\">\n",
              "      <th></th>\n",
              "      <th>Year</th>\n",
              "      <th>Selling_Price</th>\n",
              "      <th>Present_Price</th>\n",
              "      <th>Kms_Driven</th>\n",
              "      <th>Owner</th>\n",
              "    </tr>\n",
              "  </thead>\n",
              "  <tbody>\n",
              "    <tr>\n",
              "      <th>count</th>\n",
              "      <td>301.000000</td>\n",
              "      <td>301.000000</td>\n",
              "      <td>301.000000</td>\n",
              "      <td>301.000000</td>\n",
              "      <td>301.000000</td>\n",
              "    </tr>\n",
              "    <tr>\n",
              "      <th>mean</th>\n",
              "      <td>2013.627907</td>\n",
              "      <td>4.661296</td>\n",
              "      <td>7.628472</td>\n",
              "      <td>36947.205980</td>\n",
              "      <td>0.043189</td>\n",
              "    </tr>\n",
              "    <tr>\n",
              "      <th>std</th>\n",
              "      <td>2.891554</td>\n",
              "      <td>5.082812</td>\n",
              "      <td>8.644115</td>\n",
              "      <td>38886.883882</td>\n",
              "      <td>0.247915</td>\n",
              "    </tr>\n",
              "    <tr>\n",
              "      <th>min</th>\n",
              "      <td>2003.000000</td>\n",
              "      <td>0.100000</td>\n",
              "      <td>0.320000</td>\n",
              "      <td>500.000000</td>\n",
              "      <td>0.000000</td>\n",
              "    </tr>\n",
              "    <tr>\n",
              "      <th>25%</th>\n",
              "      <td>2012.000000</td>\n",
              "      <td>0.900000</td>\n",
              "      <td>1.200000</td>\n",
              "      <td>15000.000000</td>\n",
              "      <td>0.000000</td>\n",
              "    </tr>\n",
              "    <tr>\n",
              "      <th>50%</th>\n",
              "      <td>2014.000000</td>\n",
              "      <td>3.600000</td>\n",
              "      <td>6.400000</td>\n",
              "      <td>32000.000000</td>\n",
              "      <td>0.000000</td>\n",
              "    </tr>\n",
              "    <tr>\n",
              "      <th>75%</th>\n",
              "      <td>2016.000000</td>\n",
              "      <td>6.000000</td>\n",
              "      <td>9.900000</td>\n",
              "      <td>48767.000000</td>\n",
              "      <td>0.000000</td>\n",
              "    </tr>\n",
              "    <tr>\n",
              "      <th>max</th>\n",
              "      <td>2018.000000</td>\n",
              "      <td>35.000000</td>\n",
              "      <td>92.600000</td>\n",
              "      <td>500000.000000</td>\n",
              "      <td>3.000000</td>\n",
              "    </tr>\n",
              "  </tbody>\n",
              "</table>\n",
              "</div>\n",
              "      <button class=\"colab-df-convert\" onclick=\"convertToInteractive('df-2b0a2608-1519-4ac0-9b71-085a0462487c')\"\n",
              "              title=\"Convert this dataframe to an interactive table.\"\n",
              "              style=\"display:none;\">\n",
              "        \n",
              "  <svg xmlns=\"http://www.w3.org/2000/svg\" height=\"24px\"viewBox=\"0 0 24 24\"\n",
              "       width=\"24px\">\n",
              "    <path d=\"M0 0h24v24H0V0z\" fill=\"none\"/>\n",
              "    <path d=\"M18.56 5.44l.94 2.06.94-2.06 2.06-.94-2.06-.94-.94-2.06-.94 2.06-2.06.94zm-11 1L8.5 8.5l.94-2.06 2.06-.94-2.06-.94L8.5 2.5l-.94 2.06-2.06.94zm10 10l.94 2.06.94-2.06 2.06-.94-2.06-.94-.94-2.06-.94 2.06-2.06.94z\"/><path d=\"M17.41 7.96l-1.37-1.37c-.4-.4-.92-.59-1.43-.59-.52 0-1.04.2-1.43.59L10.3 9.45l-7.72 7.72c-.78.78-.78 2.05 0 2.83L4 21.41c.39.39.9.59 1.41.59.51 0 1.02-.2 1.41-.59l7.78-7.78 2.81-2.81c.8-.78.8-2.07 0-2.86zM5.41 20L4 18.59l7.72-7.72 1.47 1.35L5.41 20z\"/>\n",
              "  </svg>\n",
              "      </button>\n",
              "      \n",
              "  <style>\n",
              "    .colab-df-container {\n",
              "      display:flex;\n",
              "      flex-wrap:wrap;\n",
              "      gap: 12px;\n",
              "    }\n",
              "\n",
              "    .colab-df-convert {\n",
              "      background-color: #E8F0FE;\n",
              "      border: none;\n",
              "      border-radius: 50%;\n",
              "      cursor: pointer;\n",
              "      display: none;\n",
              "      fill: #1967D2;\n",
              "      height: 32px;\n",
              "      padding: 0 0 0 0;\n",
              "      width: 32px;\n",
              "    }\n",
              "\n",
              "    .colab-df-convert:hover {\n",
              "      background-color: #E2EBFA;\n",
              "      box-shadow: 0px 1px 2px rgba(60, 64, 67, 0.3), 0px 1px 3px 1px rgba(60, 64, 67, 0.15);\n",
              "      fill: #174EA6;\n",
              "    }\n",
              "\n",
              "    [theme=dark] .colab-df-convert {\n",
              "      background-color: #3B4455;\n",
              "      fill: #D2E3FC;\n",
              "    }\n",
              "\n",
              "    [theme=dark] .colab-df-convert:hover {\n",
              "      background-color: #434B5C;\n",
              "      box-shadow: 0px 1px 3px 1px rgba(0, 0, 0, 0.15);\n",
              "      filter: drop-shadow(0px 1px 2px rgba(0, 0, 0, 0.3));\n",
              "      fill: #FFFFFF;\n",
              "    }\n",
              "  </style>\n",
              "\n",
              "      <script>\n",
              "        const buttonEl =\n",
              "          document.querySelector('#df-2b0a2608-1519-4ac0-9b71-085a0462487c button.colab-df-convert');\n",
              "        buttonEl.style.display =\n",
              "          google.colab.kernel.accessAllowed ? 'block' : 'none';\n",
              "\n",
              "        async function convertToInteractive(key) {\n",
              "          const element = document.querySelector('#df-2b0a2608-1519-4ac0-9b71-085a0462487c');\n",
              "          const dataTable =\n",
              "            await google.colab.kernel.invokeFunction('convertToInteractive',\n",
              "                                                     [key], {});\n",
              "          if (!dataTable) return;\n",
              "\n",
              "          const docLinkHtml = 'Like what you see? Visit the ' +\n",
              "            '<a target=\"_blank\" href=https://colab.research.google.com/notebooks/data_table.ipynb>data table notebook</a>'\n",
              "            + ' to learn more about interactive tables.';\n",
              "          element.innerHTML = '';\n",
              "          dataTable['output_type'] = 'display_data';\n",
              "          await google.colab.output.renderOutput(dataTable, element);\n",
              "          const docLink = document.createElement('div');\n",
              "          docLink.innerHTML = docLinkHtml;\n",
              "          element.appendChild(docLink);\n",
              "        }\n",
              "      </script>\n",
              "    </div>\n",
              "  </div>\n",
              "  "
            ],
            "text/plain": [
              "              Year  Selling_Price  Present_Price     Kms_Driven       Owner\n",
              "count   301.000000     301.000000     301.000000     301.000000  301.000000\n",
              "mean   2013.627907       4.661296       7.628472   36947.205980    0.043189\n",
              "std       2.891554       5.082812       8.644115   38886.883882    0.247915\n",
              "min    2003.000000       0.100000       0.320000     500.000000    0.000000\n",
              "25%    2012.000000       0.900000       1.200000   15000.000000    0.000000\n",
              "50%    2014.000000       3.600000       6.400000   32000.000000    0.000000\n",
              "75%    2016.000000       6.000000       9.900000   48767.000000    0.000000\n",
              "max    2018.000000      35.000000      92.600000  500000.000000    3.000000"
            ]
          },
          "metadata": {},
          "execution_count": 5
        }
      ]
    },
    {
      "cell_type": "code",
      "source": [
        "for i,col in enumerate(df.columns):\n",
        "    plt.figure(i)\n",
        "    sns.histplot(df[col])"
      ],
      "metadata": {
        "id": "4yZdpbaS7XtZ",
        "outputId": "6ef43af7-f075-42f3-9e92-3b98374dee7b",
        "colab": {
          "base_uri": "https://localhost:8080/",
          "height": 1000
        }
      },
      "execution_count": null,
      "outputs": [
        {
          "output_type": "display_data",
          "data": {
            "image/png": "[encoded data removed]",
            "text/plain": [
              "<Figure size 432x288 with 1 Axes>"
            ]
          },
          "metadata": {
            "needs_background": "light"
          }
        },
        {
          "output_type": "display_data",
          "data": {
            "image/png": "[encoded data removed]",
            "text/plain": [
              "<Figure size 432x288 with 1 Axes>"
            ]
          },
          "metadata": {
            "needs_background": "light"
          }
        },
        {
          "output_type": "display_data",
          "data": {
            "image/png": "[encoded data removed]",
            "text/plain": [
              "<Figure size 432x288 with 1 Axes>"
            ]
          },
          "metadata": {
            "needs_background": "light"
          }
        },
        {
          "output_type": "display_data",
          "data": {
            "image/png": "[encoded data removed]",
            "text/plain": [
              "<Figure size 432x288 with 1 Axes>"
            ]
          },
          "metadata": {
            "needs_background": "light"
          }
        },
        {
          "output_type": "display_data",
          "data": {
            "image/png": "[encoded data removed]",
            "text/plain": [
              "<Figure size 432x288 with 1 Axes>"
            ]
          },
          "metadata": {
            "needs_background": "light"
          }
        },
        {
          "output_type": "display_data",
          "data": {
            "image/png": "[encoded data removed]",
            "text/plain": [
              "<Figure size 432x288 with 1 Axes>"
            ]
          },
          "metadata": {
            "needs_background": "light"
          }
        },
        {
          "output_type": "display_data",
          "data": {
            "image/png": "[encoded data removed]",
            "text/plain": [
              "<Figure size 432x288 with 1 Axes>"
            ]
          },
          "metadata": {
            "needs_background": "light"
          }
        },
        {
          "output_type": "display_data",
          "data": {
            "image/png": "[encoded data removed]",
            "text/plain": [
              "<Figure size 432x288 with 1 Axes>"
            ]
          },
          "metadata": {
            "needs_background": "light"
          }
        },
        {
          "output_type": "display_data",
          "data": {
            "image/png": "[encoded data removed]",
            "text/plain": [
              "<Figure size 432x288 with 1 Axes>"
            ]
          },
          "metadata": {
            "needs_background": "light"
          }
        }
      ]
    },
    {
      "cell_type": "markdown",
      "metadata": {
        "id": "EyXAGsjnbV8_"
      },
      "source": [
        "# Data Preparation"
      ]
    },
    {
      "cell_type": "code",
      "metadata": {
        "id": "zoySlXabbV9B",
        "outputId": "5174a1b8-a9b8-497f-c1cd-0047b532008a",
        "colab": {
          "base_uri": "https://localhost:8080/",
          "height": 1000
        }
      },
      "source": [
        "for i,col in enumerate(df.columns):\n",
        "    plt.figure(i)\n",
        "    sns.histplot(df[col])"
      ],
      "execution_count": null,
      "outputs": [
        {
          "output_type": "display_data",
          "data": {
            "image/png": "[encoded data removed]",
            "text/plain": [
              "<Figure size 432x288 with 1 Axes>"
            ]
          },
          "metadata": {
            "needs_background": "light"
          }
        },
        {
          "output_type": "display_data",
          "data": {
            "image/png": "[encoded data removed]",
            "text/plain": [
              "<Figure size 432x288 with 1 Axes>"
            ]
          },
          "metadata": {
            "needs_background": "light"
          }
        },
        {
          "output_type": "display_data",
          "data": {
            "image/png": "[encoded data removed]",
            "text/plain": [
              "<Figure size 432x288 with 1 Axes>"
            ]
          },
          "metadata": {
            "needs_background": "light"
          }
        },
        {
          "output_type": "display_data",
          "data": {
            "image/png": "[encoded data removed]",
            "text/plain": [
              "<Figure size 432x288 with 1 Axes>"
            ]
          },
          "metadata": {
            "needs_background": "light"
          }
        },
        {
          "output_type": "display_data",
          "data": {
            "image/png": "[encoded data removed]",
            "text/plain": [
              "<Figure size 432x288 with 1 Axes>"
            ]
          },
          "metadata": {
            "needs_background": "light"
          }
        },
        {
          "output_type": "display_data",
          "data": {
            "image/png": "[encoded data removed]",
            "text/plain": [
              "<Figure size 432x288 with 1 Axes>"
            ]
          },
          "metadata": {
            "needs_background": "light"
          }
        },
        {
          "output_type": "display_data",
          "data": {
            "image/png": "[encoded data removed]",
            "text/plain": [
              "<Figure size 432x288 with 1 Axes>"
            ]
          },
          "metadata": {
            "needs_background": "light"
          }
        },
        {
          "output_type": "display_data",
          "data": {
            "image/png": "[encoded data removed]",
            "text/plain": [
              "<Figure size 432x288 with 1 Axes>"
            ]
          },
          "metadata": {
            "needs_background": "light"
          }
        },
        {
          "output_type": "display_data",
          "data": {
            "image/png": "[encoded data removed]",
            "text/plain": [
              "<Figure size 432x288 with 1 Axes>"
            ]
          },
          "metadata": {
            "needs_background": "light"
          }
        }
      ]
    },
    {
      "cell_type": "code",
      "source": [
        "sns.heatmap(df.corr(), annot=True)\n",
        "plt.show()"
      ],
      "metadata": {
        "id": "2lAA5VdZ7gO1",
        "outputId": "d76598a7-9a1e-414b-cccc-55e964c6bcd0",
        "colab": {
          "base_uri": "https://localhost:8080/",
          "height": 326
        }
      },
      "execution_count": null,
      "outputs": [
        {
          "output_type": "display_data",
          "data": {
            "image/png": "[encoded data removed]",
            "text/plain": [
              "<Figure size 432x288 with 2 Axes>"
            ]
          },
          "metadata": {
            "needs_background": "light"
          }
        }
      ]
    },
    {
      "cell_type": "code",
      "source": [
        "df.head()"
      ],
      "metadata": {
        "id": "YcugSFEL7jhN",
        "outputId": "f5fed488-273f-47ff-a681-53ec5d14b1d9",
        "colab": {
          "base_uri": "https://localhost:8080/",
          "height": 206
        }
      },
      "execution_count": null,
      "outputs": [
        {
          "output_type": "execute_result",
          "data": {
            "text/html": [
              "\n",
              "  <div id=\"df-a24a09bf-ac66-470a-8e4e-202e64c4929b\">\n",
              "    <div class=\"colab-df-container\">\n",
              "      <div>\n",
              "<style scoped>\n",
              "    .dataframe tbody tr th:only-of-type {\n",
              "        vertical-align: middle;\n",
              "    }\n",
              "\n",
              "    .dataframe tbody tr th {\n",
              "        vertical-align: top;\n",
              "    }\n",
              "\n",
              "    .dataframe thead th {\n",
              "        text-align: right;\n",
              "    }\n",
              "</style>\n",
              "<table border=\"1\" class=\"dataframe\">\n",
              "  <thead>\n",
              "    <tr style=\"text-align: right;\">\n",
              "      <th></th>\n",
              "      <th>Car_Name</th>\n",
              "      <th>Year</th>\n",
              "      <th>Selling_Price</th>\n",
              "      <th>Present_Price</th>\n",
              "      <th>Kms_Driven</th>\n",
              "      <th>Fuel_Type</th>\n",
              "      <th>Seller_Type</th>\n",
              "      <th>Transmission</th>\n",
              "      <th>Owner</th>\n",
              "    </tr>\n",
              "  </thead>\n",
              "  <tbody>\n",
              "    <tr>\n",
              "      <th>0</th>\n",
              "      <td>ritz</td>\n",
              "      <td>2014</td>\n",
              "      <td>3.35</td>\n",
              "      <td>5.59</td>\n",
              "      <td>27000</td>\n",
              "      <td>Petrol</td>\n",
              "      <td>Dealer</td>\n",
              "      <td>Manual</td>\n",
              "      <td>0</td>\n",
              "    </tr>\n",
              "    <tr>\n",
              "      <th>1</th>\n",
              "      <td>sx4</td>\n",
              "      <td>2013</td>\n",
              "      <td>4.75</td>\n",
              "      <td>9.54</td>\n",
              "      <td>43000</td>\n",
              "      <td>Diesel</td>\n",
              "      <td>Dealer</td>\n",
              "      <td>Manual</td>\n",
              "      <td>0</td>\n",
              "    </tr>\n",
              "    <tr>\n",
              "      <th>2</th>\n",
              "      <td>ciaz</td>\n",
              "      <td>2017</td>\n",
              "      <td>7.25</td>\n",
              "      <td>9.85</td>\n",
              "      <td>6900</td>\n",
              "      <td>Petrol</td>\n",
              "      <td>Dealer</td>\n",
              "      <td>Manual</td>\n",
              "      <td>0</td>\n",
              "    </tr>\n",
              "    <tr>\n",
              "      <th>3</th>\n",
              "      <td>wagon r</td>\n",
              "      <td>2011</td>\n",
              "      <td>2.85</td>\n",
              "      <td>4.15</td>\n",
              "      <td>5200</td>\n",
              "      <td>Petrol</td>\n",
              "      <td>Dealer</td>\n",
              "      <td>Manual</td>\n",
              "      <td>0</td>\n",
              "    </tr>\n",
              "    <tr>\n",
              "      <th>4</th>\n",
              "      <td>swift</td>\n",
              "      <td>2014</td>\n",
              "      <td>4.60</td>\n",
              "      <td>6.87</td>\n",
              "      <td>42450</td>\n",
              "      <td>Diesel</td>\n",
              "      <td>Dealer</td>\n",
              "      <td>Manual</td>\n",
              "      <td>0</td>\n",
              "    </tr>\n",
              "  </tbody>\n",
              "</table>\n",
              "</div>\n",
              "      <button class=\"colab-df-convert\" onclick=\"convertToInteractive('df-a24a09bf-ac66-470a-8e4e-202e64c4929b')\"\n",
              "              title=\"Convert this dataframe to an interactive table.\"\n",
              "              style=\"display:none;\">\n",
              "        \n",
              "  <svg xmlns=\"http://www.w3.org/2000/svg\" height=\"24px\"viewBox=\"0 0 24 24\"\n",
              "       width=\"24px\">\n",
              "    <path d=\"M0 0h24v24H0V0z\" fill=\"none\"/>\n",
              "    <path d=\"M18.56 5.44l.94 2.06.94-2.06 2.06-.94-2.06-.94-.94-2.06-.94 2.06-2.06.94zm-11 1L8.5 8.5l.94-2.06 2.06-.94-2.06-.94L8.5 2.5l-.94 2.06-2.06.94zm10 10l.94 2.06.94-2.06 2.06-.94-2.06-.94-.94-2.06-.94 2.06-2.06.94z\"/><path d=\"M17.41 7.96l-1.37-1.37c-.4-.4-.92-.59-1.43-.59-.52 0-1.04.2-1.43.59L10.3 9.45l-7.72 7.72c-.78.78-.78 2.05 0 2.83L4 21.41c.39.39.9.59 1.41.59.51 0 1.02-.2 1.41-.59l7.78-7.78 2.81-2.81c.8-.78.8-2.07 0-2.86zM5.41 20L4 18.59l7.72-7.72 1.47 1.35L5.41 20z\"/>\n",
              "  </svg>\n",
              "      </button>\n",
              "      \n",
              "  <style>\n",
              "    .colab-df-container {\n",
              "      display:flex;\n",
              "      flex-wrap:wrap;\n",
              "      gap: 12px;\n",
              "    }\n",
              "\n",
              "    .colab-df-convert {\n",
              "      background-color: #E8F0FE;\n",
              "      border: none;\n",
              "      border-radius: 50%;\n",
              "      cursor: pointer;\n",
              "      display: none;\n",
              "      fill: #1967D2;\n",
              "      height: 32px;\n",
              "      padding: 0 0 0 0;\n",
              "      width: 32px;\n",
              "    }\n",
              "\n",
              "    .colab-df-convert:hover {\n",
              "      background-color: #E2EBFA;\n",
              "      box-shadow: 0px 1px 2px rgba(60, 64, 67, 0.3), 0px 1px 3px 1px rgba(60, 64, 67, 0.15);\n",
              "      fill: #174EA6;\n",
              "    }\n",
              "\n",
              "    [theme=dark] .colab-df-convert {\n",
              "      background-color: #3B4455;\n",
              "      fill: #D2E3FC;\n",
              "    }\n",
              "\n",
              "    [theme=dark] .colab-df-convert:hover {\n",
              "      background-color: #434B5C;\n",
              "      box-shadow: 0px 1px 3px 1px rgba(0, 0, 0, 0.15);\n",
              "      filter: drop-shadow(0px 1px 2px rgba(0, 0, 0, 0.3));\n",
              "      fill: #FFFFFF;\n",
              "    }\n",
              "  </style>\n",
              "\n",
              "      <script>\n",
              "        const buttonEl =\n",
              "          document.querySelector('#df-a24a09bf-ac66-470a-8e4e-202e64c4929b button.colab-df-convert');\n",
              "        buttonEl.style.display =\n",
              "          google.colab.kernel.accessAllowed ? 'block' : 'none';\n",
              "\n",
              "        async function convertToInteractive(key) {\n",
              "          const element = document.querySelector('#df-a24a09bf-ac66-470a-8e4e-202e64c4929b');\n",
              "          const dataTable =\n",
              "            await google.colab.kernel.invokeFunction('convertToInteractive',\n",
              "                                                     [key], {});\n",
              "          if (!dataTable) return;\n",
              "\n",
              "          const docLinkHtml = 'Like what you see? Visit the ' +\n",
              "            '<a target=\"_blank\" href=https://colab.research.google.com/notebooks/data_table.ipynb>data table notebook</a>'\n",
              "            + ' to learn more about interactive tables.';\n",
              "          element.innerHTML = '';\n",
              "          dataTable['output_type'] = 'display_data';\n",
              "          await google.colab.output.renderOutput(dataTable, element);\n",
              "          const docLink = document.createElement('div');\n",
              "          docLink.innerHTML = docLinkHtml;\n",
              "          element.appendChild(docLink);\n",
              "        }\n",
              "      </script>\n",
              "    </div>\n",
              "  </div>\n",
              "  "
            ],
            "text/plain": [
              "  Car_Name  Year  Selling_Price  ...  Seller_Type  Transmission Owner\n",
              "0     ritz  2014           3.35  ...       Dealer        Manual     0\n",
              "1      sx4  2013           4.75  ...       Dealer        Manual     0\n",
              "2     ciaz  2017           7.25  ...       Dealer        Manual     0\n",
              "3  wagon r  2011           2.85  ...       Dealer        Manual     0\n",
              "4    swift  2014           4.60  ...       Dealer        Manual     0\n",
              "\n",
              "[5 rows x 9 columns]"
            ]
          },
          "metadata": {},
          "execution_count": 9
        }
      ]
    },
    {
      "cell_type": "code",
      "source": [
        "df[\"vehicle_age\"]=2021-df.Year"
      ],
      "metadata": {
        "id": "pTcSgq0o7nRM"
      },
      "execution_count": null,
      "outputs": []
    },
    {
      "cell_type": "code",
      "source": [
        "df.head()"
      ],
      "metadata": {
        "id": "UXuPrGWS7qPY",
        "outputId": "2041c69c-b376-4f26-a11d-b7d5bc8e7564",
        "colab": {
          "base_uri": "https://localhost:8080/",
          "height": 206
        }
      },
      "execution_count": null,
      "outputs": [
        {
          "output_type": "execute_result",
          "data": {
            "text/html": [
              "\n",
              "  <div id=\"df-bea79c8c-02e2-482a-86b7-88d43424f980\">\n",
              "    <div class=\"colab-df-container\">\n",
              "      <div>\n",
              "<style scoped>\n",
              "    .dataframe tbody tr th:only-of-type {\n",
              "        vertical-align: middle;\n",
              "    }\n",
              "\n",
              "    .dataframe tbody tr th {\n",
              "        vertical-align: top;\n",
              "    }\n",
              "\n",
              "    .dataframe thead th {\n",
              "        text-align: right;\n",
              "    }\n",
              "</style>\n",
              "<table border=\"1\" class=\"dataframe\">\n",
              "  <thead>\n",
              "    <tr style=\"text-align: right;\">\n",
              "      <th></th>\n",
              "      <th>Car_Name</th>\n",
              "      <th>Year</th>\n",
              "      <th>Selling_Price</th>\n",
              "      <th>Present_Price</th>\n",
              "      <th>Kms_Driven</th>\n",
              "      <th>Fuel_Type</th>\n",
              "      <th>Seller_Type</th>\n",
              "      <th>Transmission</th>\n",
              "      <th>Owner</th>\n",
              "      <th>vehicle_age</th>\n",
              "    </tr>\n",
              "  </thead>\n",
              "  <tbody>\n",
              "    <tr>\n",
              "      <th>0</th>\n",
              "      <td>ritz</td>\n",
              "      <td>2014</td>\n",
              "      <td>3.35</td>\n",
              "      <td>5.59</td>\n",
              "      <td>27000</td>\n",
              "      <td>Petrol</td>\n",
              "      <td>Dealer</td>\n",
              "      <td>Manual</td>\n",
              "      <td>0</td>\n",
              "      <td>7</td>\n",
              "    </tr>\n",
              "    <tr>\n",
              "      <th>1</th>\n",
              "      <td>sx4</td>\n",
              "      <td>2013</td>\n",
              "      <td>4.75</td>\n",
              "      <td>9.54</td>\n",
              "      <td>43000</td>\n",
              "      <td>Diesel</td>\n",
              "      <td>Dealer</td>\n",
              "      <td>Manual</td>\n",
              "      <td>0</td>\n",
              "      <td>8</td>\n",
              "    </tr>\n",
              "    <tr>\n",
              "      <th>2</th>\n",
              "      <td>ciaz</td>\n",
              "      <td>2017</td>\n",
              "      <td>7.25</td>\n",
              "      <td>9.85</td>\n",
              "      <td>6900</td>\n",
              "      <td>Petrol</td>\n",
              "      <td>Dealer</td>\n",
              "      <td>Manual</td>\n",
              "      <td>0</td>\n",
              "      <td>4</td>\n",
              "    </tr>\n",
              "    <tr>\n",
              "      <th>3</th>\n",
              "      <td>wagon r</td>\n",
              "      <td>2011</td>\n",
              "      <td>2.85</td>\n",
              "      <td>4.15</td>\n",
              "      <td>5200</td>\n",
              "      <td>Petrol</td>\n",
              "      <td>Dealer</td>\n",
              "      <td>Manual</td>\n",
              "      <td>0</td>\n",
              "      <td>10</td>\n",
              "    </tr>\n",
              "    <tr>\n",
              "      <th>4</th>\n",
              "      <td>swift</td>\n",
              "      <td>2014</td>\n",
              "      <td>4.60</td>\n",
              "      <td>6.87</td>\n",
              "      <td>42450</td>\n",
              "      <td>Diesel</td>\n",
              "      <td>Dealer</td>\n",
              "      <td>Manual</td>\n",
              "      <td>0</td>\n",
              "      <td>7</td>\n",
              "    </tr>\n",
              "  </tbody>\n",
              "</table>\n",
              "</div>\n",
              "      <button class=\"colab-df-convert\" onclick=\"convertToInteractive('df-bea79c8c-02e2-482a-86b7-88d43424f980')\"\n",
              "              title=\"Convert this dataframe to an interactive table.\"\n",
              "              style=\"display:none;\">\n",
              "        \n",
              "  <svg xmlns=\"http://www.w3.org/2000/svg\" height=\"24px\"viewBox=\"0 0 24 24\"\n",
              "       width=\"24px\">\n",
              "    <path d=\"M0 0h24v24H0V0z\" fill=\"none\"/>\n",
              "    <path d=\"M18.56 5.44l.94 2.06.94-2.06 2.06-.94-2.06-.94-.94-2.06-.94 2.06-2.06.94zm-11 1L8.5 8.5l.94-2.06 2.06-.94-2.06-.94L8.5 2.5l-.94 2.06-2.06.94zm10 10l.94 2.06.94-2.06 2.06-.94-2.06-.94-.94-2.06-.94 2.06-2.06.94z\"/><path d=\"M17.41 7.96l-1.37-1.37c-.4-.4-.92-.59-1.43-.59-.52 0-1.04.2-1.43.59L10.3 9.45l-7.72 7.72c-.78.78-.78 2.05 0 2.83L4 21.41c.39.39.9.59 1.41.59.51 0 1.02-.2 1.41-.59l7.78-7.78 2.81-2.81c.8-.78.8-2.07 0-2.86zM5.41 20L4 18.59l7.72-7.72 1.47 1.35L5.41 20z\"/>\n",
              "  </svg>\n",
              "      </button>\n",
              "      \n",
              "  <style>\n",
              "    .colab-df-container {\n",
              "      display:flex;\n",
              "      flex-wrap:wrap;\n",
              "      gap: 12px;\n",
              "    }\n",
              "\n",
              "    .colab-df-convert {\n",
              "      background-color: #E8F0FE;\n",
              "      border: none;\n",
              "      border-radius: 50%;\n",
              "      cursor: pointer;\n",
              "      display: none;\n",
              "      fill: #1967D2;\n",
              "      height: 32px;\n",
              "      padding: 0 0 0 0;\n",
              "      width: 32px;\n",
              "    }\n",
              "\n",
              "    .colab-df-convert:hover {\n",
              "      background-color: #E2EBFA;\n",
              "      box-shadow: 0px 1px 2px rgba(60, 64, 67, 0.3), 0px 1px 3px 1px rgba(60, 64, 67, 0.15);\n",
              "      fill: #174EA6;\n",
              "    }\n",
              "\n",
              "    [theme=dark] .colab-df-convert {\n",
              "      background-color: #3B4455;\n",
              "      fill: #D2E3FC;\n",
              "    }\n",
              "\n",
              "    [theme=dark] .colab-df-convert:hover {\n",
              "      background-color: #434B5C;\n",
              "      box-shadow: 0px 1px 3px 1px rgba(0, 0, 0, 0.15);\n",
              "      filter: drop-shadow(0px 1px 2px rgba(0, 0, 0, 0.3));\n",
              "      fill: #FFFFFF;\n",
              "    }\n",
              "  </style>\n",
              "\n",
              "      <script>\n",
              "        const buttonEl =\n",
              "          document.querySelector('#df-bea79c8c-02e2-482a-86b7-88d43424f980 button.colab-df-convert');\n",
              "        buttonEl.style.display =\n",
              "          google.colab.kernel.accessAllowed ? 'block' : 'none';\n",
              "\n",
              "        async function convertToInteractive(key) {\n",
              "          const element = document.querySelector('#df-bea79c8c-02e2-482a-86b7-88d43424f980');\n",
              "          const dataTable =\n",
              "            await google.colab.kernel.invokeFunction('convertToInteractive',\n",
              "                                                     [key], {});\n",
              "          if (!dataTable) return;\n",
              "\n",
              "          const docLinkHtml = 'Like what you see? Visit the ' +\n",
              "            '<a target=\"_blank\" href=https://colab.research.google.com/notebooks/data_table.ipynb>data table notebook</a>'\n",
              "            + ' to learn more about interactive tables.';\n",
              "          element.innerHTML = '';\n",
              "          dataTable['output_type'] = 'display_data';\n",
              "          await google.colab.output.renderOutput(dataTable, element);\n",
              "          const docLink = document.createElement('div');\n",
              "          docLink.innerHTML = docLinkHtml;\n",
              "          element.appendChild(docLink);\n",
              "        }\n",
              "      </script>\n",
              "    </div>\n",
              "  </div>\n",
              "  "
            ],
            "text/plain": [
              "  Car_Name  Year  Selling_Price  ...  Transmission  Owner vehicle_age\n",
              "0     ritz  2014           3.35  ...        Manual      0           7\n",
              "1      sx4  2013           4.75  ...        Manual      0           8\n",
              "2     ciaz  2017           7.25  ...        Manual      0           4\n",
              "3  wagon r  2011           2.85  ...        Manual      0          10\n",
              "4    swift  2014           4.60  ...        Manual      0           7\n",
              "\n",
              "[5 rows x 10 columns]"
            ]
          },
          "metadata": {},
          "execution_count": 11
        }
      ]
    },
    {
      "cell_type": "code",
      "source": [
        "df.Car_Name.value_counts()"
      ],
      "metadata": {
        "id": "8HmW_wJL7tvp",
        "outputId": "6b3a9b65-c185-4519-95a5-794813db0df3",
        "colab": {
          "base_uri": "https://localhost:8080/"
        }
      },
      "execution_count": null,
      "outputs": [
        {
          "output_type": "execute_result",
          "data": {
            "text/plain": [
              "city                  26\n",
              "corolla altis         16\n",
              "verna                 14\n",
              "fortuner              11\n",
              "brio                  10\n",
              "                      ..\n",
              "Bajaj  ct 100          1\n",
              "800                    1\n",
              "TVS Wego               1\n",
              "Hyosung GT250R         1\n",
              "Hero  Ignitor Disc     1\n",
              "Name: Car_Name, Length: 98, dtype: int64"
            ]
          },
          "metadata": {},
          "execution_count": 12
        }
      ]
    },
    {
      "cell_type": "code",
      "source": [
        "df.drop(columns=[\"Car_Name\", \"Year\"], inplace=True)"
      ],
      "metadata": {
        "id": "RS6tiTfn7tr5"
      },
      "execution_count": null,
      "outputs": []
    },
    {
      "cell_type": "code",
      "source": [
        "df=pd.get_dummies(df, drop_first=True)"
      ],
      "metadata": {
        "id": "5QS7ZLqx7tjn"
      },
      "execution_count": null,
      "outputs": []
    },
    {
      "cell_type": "code",
      "source": [
        "df.head()"
      ],
      "metadata": {
        "id": "ANpDSxeN73p6",
        "outputId": "cfe7849b-1db2-48f8-8a2f-e790e3e7308c",
        "colab": {
          "base_uri": "https://localhost:8080/",
          "height": 270
        }
      },
      "execution_count": null,
      "outputs": [
        {
          "output_type": "execute_result",
          "data": {
            "text/html": [
              "\n",
              "  <div id=\"df-31d8c187-c9cc-45a5-8f9a-2f95e0d0e7b1\">\n",
              "    <div class=\"colab-df-container\">\n",
              "      <div>\n",
              "<style scoped>\n",
              "    .dataframe tbody tr th:only-of-type {\n",
              "        vertical-align: middle;\n",
              "    }\n",
              "\n",
              "    .dataframe tbody tr th {\n",
              "        vertical-align: top;\n",
              "    }\n",
              "\n",
              "    .dataframe thead th {\n",
              "        text-align: right;\n",
              "    }\n",
              "</style>\n",
              "<table border=\"1\" class=\"dataframe\">\n",
              "  <thead>\n",
              "    <tr style=\"text-align: right;\">\n",
              "      <th></th>\n",
              "      <th>Selling_Price</th>\n",
              "      <th>Present_Price</th>\n",
              "      <th>Kms_Driven</th>\n",
              "      <th>Owner</th>\n",
              "      <th>vehicle_age</th>\n",
              "      <th>Fuel_Type_Diesel</th>\n",
              "      <th>Fuel_Type_Petrol</th>\n",
              "      <th>Seller_Type_Individual</th>\n",
              "      <th>Transmission_Manual</th>\n",
              "    </tr>\n",
              "  </thead>\n",
              "  <tbody>\n",
              "    <tr>\n",
              "      <th>0</th>\n",
              "      <td>3.35</td>\n",
              "      <td>5.59</td>\n",
              "      <td>27000</td>\n",
              "      <td>0</td>\n",
              "      <td>7</td>\n",
              "      <td>0</td>\n",
              "      <td>1</td>\n",
              "      <td>0</td>\n",
              "      <td>1</td>\n",
              "    </tr>\n",
              "    <tr>\n",
              "      <th>1</th>\n",
              "      <td>4.75</td>\n",
              "      <td>9.54</td>\n",
              "      <td>43000</td>\n",
              "      <td>0</td>\n",
              "      <td>8</td>\n",
              "      <td>1</td>\n",
              "      <td>0</td>\n",
              "      <td>0</td>\n",
              "      <td>1</td>\n",
              "    </tr>\n",
              "    <tr>\n",
              "      <th>2</th>\n",
              "      <td>7.25</td>\n",
              "      <td>9.85</td>\n",
              "      <td>6900</td>\n",
              "      <td>0</td>\n",
              "      <td>4</td>\n",
              "      <td>0</td>\n",
              "      <td>1</td>\n",
              "      <td>0</td>\n",
              "      <td>1</td>\n",
              "    </tr>\n",
              "    <tr>\n",
              "      <th>3</th>\n",
              "      <td>2.85</td>\n",
              "      <td>4.15</td>\n",
              "      <td>5200</td>\n",
              "      <td>0</td>\n",
              "      <td>10</td>\n",
              "      <td>0</td>\n",
              "      <td>1</td>\n",
              "      <td>0</td>\n",
              "      <td>1</td>\n",
              "    </tr>\n",
              "    <tr>\n",
              "      <th>4</th>\n",
              "      <td>4.60</td>\n",
              "      <td>6.87</td>\n",
              "      <td>42450</td>\n",
              "      <td>0</td>\n",
              "      <td>7</td>\n",
              "      <td>1</td>\n",
              "      <td>0</td>\n",
              "      <td>0</td>\n",
              "      <td>1</td>\n",
              "    </tr>\n",
              "  </tbody>\n",
              "</table>\n",
              "</div>\n",
              "      <button class=\"colab-df-convert\" onclick=\"convertToInteractive('df-31d8c187-c9cc-45a5-8f9a-2f95e0d0e7b1')\"\n",
              "              title=\"Convert this dataframe to an interactive table.\"\n",
              "              style=\"display:none;\">\n",
              "        \n",
              "  <svg xmlns=\"http://www.w3.org/2000/svg\" height=\"24px\"viewBox=\"0 0 24 24\"\n",
              "       width=\"24px\">\n",
              "    <path d=\"M0 0h24v24H0V0z\" fill=\"none\"/>\n",
              "    <path d=\"M18.56 5.44l.94 2.06.94-2.06 2.06-.94-2.06-.94-.94-2.06-.94 2.06-2.06.94zm-11 1L8.5 8.5l.94-2.06 2.06-.94-2.06-.94L8.5 2.5l-.94 2.06-2.06.94zm10 10l.94 2.06.94-2.06 2.06-.94-2.06-.94-.94-2.06-.94 2.06-2.06.94z\"/><path d=\"M17.41 7.96l-1.37-1.37c-.4-.4-.92-.59-1.43-.59-.52 0-1.04.2-1.43.59L10.3 9.45l-7.72 7.72c-.78.78-.78 2.05 0 2.83L4 21.41c.39.39.9.59 1.41.59.51 0 1.02-.2 1.41-.59l7.78-7.78 2.81-2.81c.8-.78.8-2.07 0-2.86zM5.41 20L4 18.59l7.72-7.72 1.47 1.35L5.41 20z\"/>\n",
              "  </svg>\n",
              "      </button>\n",
              "      \n",
              "  <style>\n",
              "    .colab-df-container {\n",
              "      display:flex;\n",
              "      flex-wrap:wrap;\n",
              "      gap: 12px;\n",
              "    }\n",
              "\n",
              "    .colab-df-convert {\n",
              "      background-color: #E8F0FE;\n",
              "      border: none;\n",
              "      border-radius: 50%;\n",
              "      cursor: pointer;\n",
              "      display: none;\n",
              "      fill: #1967D2;\n",
              "      height: 32px;\n",
              "      padding: 0 0 0 0;\n",
              "      width: 32px;\n",
              "    }\n",
              "\n",
              "    .colab-df-convert:hover {\n",
              "      background-color: #E2EBFA;\n",
              "      box-shadow: 0px 1px 2px rgba(60, 64, 67, 0.3), 0px 1px 3px 1px rgba(60, 64, 67, 0.15);\n",
              "      fill: #174EA6;\n",
              "    }\n",
              "\n",
              "    [theme=dark] .colab-df-convert {\n",
              "      background-color: #3B4455;\n",
              "      fill: #D2E3FC;\n",
              "    }\n",
              "\n",
              "    [theme=dark] .colab-df-convert:hover {\n",
              "      background-color: #434B5C;\n",
              "      box-shadow: 0px 1px 3px 1px rgba(0, 0, 0, 0.15);\n",
              "      filter: drop-shadow(0px 1px 2px rgba(0, 0, 0, 0.3));\n",
              "      fill: #FFFFFF;\n",
              "    }\n",
              "  </style>\n",
              "\n",
              "      <script>\n",
              "        const buttonEl =\n",
              "          document.querySelector('#df-31d8c187-c9cc-45a5-8f9a-2f95e0d0e7b1 button.colab-df-convert');\n",
              "        buttonEl.style.display =\n",
              "          google.colab.kernel.accessAllowed ? 'block' : 'none';\n",
              "\n",
              "        async function convertToInteractive(key) {\n",
              "          const element = document.querySelector('#df-31d8c187-c9cc-45a5-8f9a-2f95e0d0e7b1');\n",
              "          const dataTable =\n",
              "            await google.colab.kernel.invokeFunction('convertToInteractive',\n",
              "                                                     [key], {});\n",
              "          if (!dataTable) return;\n",
              "\n",
              "          const docLinkHtml = 'Like what you see? Visit the ' +\n",
              "            '<a target=\"_blank\" href=https://colab.research.google.com/notebooks/data_table.ipynb>data table notebook</a>'\n",
              "            + ' to learn more about interactive tables.';\n",
              "          element.innerHTML = '';\n",
              "          dataTable['output_type'] = 'display_data';\n",
              "          await google.colab.output.renderOutput(dataTable, element);\n",
              "          const docLink = document.createElement('div');\n",
              "          docLink.innerHTML = docLinkHtml;\n",
              "          element.appendChild(docLink);\n",
              "        }\n",
              "      </script>\n",
              "    </div>\n",
              "  </div>\n",
              "  "
            ],
            "text/plain": [
              "   Selling_Price  Present_Price  ...  Seller_Type_Individual  Transmission_Manual\n",
              "0           3.35           5.59  ...                       0                    1\n",
              "1           4.75           9.54  ...                       0                    1\n",
              "2           7.25           9.85  ...                       0                    1\n",
              "3           2.85           4.15  ...                       0                    1\n",
              "4           4.60           6.87  ...                       0                    1\n",
              "\n",
              "[5 rows x 9 columns]"
            ]
          },
          "metadata": {},
          "execution_count": 15
        }
      ]
    },
    {
      "cell_type": "markdown",
      "metadata": {
        "id": "12PKntblbV9C"
      },
      "source": [
        "# Feature Engineering"
      ]
    },
    {
      "cell_type": "markdown",
      "metadata": {
        "id": "P49wP0afbV9E"
      },
      "source": [
        "<ul>Fuel_Type feature:\n",
        "    <li>Fuel is Petrol if Fuel_type_diesel = 0 ,Fuel_Type_Petrol = 1</li>\n",
        "    <li>Fuel is Diesel if Fuel_type_diesel = 1 ,Fuel_Type_Petrol = 0</li>\n",
        "    <li>Fuel is cng if Fuel_type_diesel = 0 ,Fuel_Type_Petrol = 0</li>\n",
        "   </ul>\n",
        "<ul>Transmission feature:\n",
        "    <li>transmission is manual if Transmission_Manual = 1</li> \n",
        "    <li>transmission is automatic if Transmission_Manual = 0</li></ul>\n",
        "<ul>Seller_Type feature:\n",
        "    <li>Seller_Type is Individual if Seller_Type_Individual = 1 </li> \n",
        "    <li>Seller_Type is dealer if Seller_Type_Individual = 0</li> </ul>\n",
        "    \n"
      ]
    },
    {
      "cell_type": "markdown",
      "metadata": {
        "id": "Pe9yr6oCbV9I"
      },
      "source": [
        "### Features and target variable"
      ]
    },
    {
      "cell_type": "code",
      "metadata": {
        "id": "OMnKPR41bV9K"
      },
      "source": [
        "X=df.drop(\"Selling_Price\", axis=1)\n",
        "y=df.Selling_Price"
      ],
      "execution_count": null,
      "outputs": []
    },
    {
      "cell_type": "markdown",
      "metadata": {
        "id": "IxhZbAYsbV9L"
      },
      "source": [
        "### Splitting data into training and testing"
      ]
    },
    {
      "cell_type": "code",
      "metadata": {
        "id": "aS1EZ-6bbV9N",
        "outputId": "93ebf647-75a6-49be-fcf2-980792151d00",
        "colab": {
          "base_uri": "https://localhost:8080/"
        }
      },
      "source": [
        "from sklearn.model_selection import train_test_split\n",
        "X_train,X_test,y_train,y_test=train_test_split(X,y,test_size=0.2, random_state=5)\n",
        "print(\"Train features shape : \", X_train.shape)\n",
        "print(\"Train target shape   : \", y_train.shape)\n",
        "print(\"Test features shape  : \", X_test.shape)\n",
        "print(\"Test target shape    : \", y_test.shape)"
      ],
      "execution_count": null,
      "outputs": [
        {
          "output_type": "stream",
          "name": "stdout",
          "text": [
            "Train features shape :  (240, 8)\n",
            "Train target shape   :  (240,)\n",
            "Test features shape  :  (61, 8)\n",
            "Test target shape    :  (61,)\n"
          ]
        }
      ]
    },
    {
      "cell_type": "markdown",
      "metadata": {
        "id": "KMJ-3iGxbV9O"
      },
      "source": [
        "##  Model Building (Linear Regression)"
      ]
    },
    {
      "cell_type": "code",
      "metadata": {
        "id": "VEOdF27LbV9P"
      },
      "source": [
        "from sklearn.linear_model import LinearRegression\n",
        "model=LinearRegression(normalize=True).fit(X_train,y_train)"
      ],
      "execution_count": null,
      "outputs": []
    },
    {
      "cell_type": "markdown",
      "metadata": {
        "id": "6T7pkytsbV9Q"
      },
      "source": [
        "# Interpret the model"
      ]
    },
    {
      "cell_type": "code",
      "metadata": {
        "id": "TS-KF0JtbV9R",
        "outputId": "31f2068d-dc9b-4e9a-ac5e-c5d1a88e52b1",
        "colab": {
          "base_uri": "https://localhost:8080/"
        }
      },
      "source": [
        "model.coef_"
      ],
      "execution_count": null,
      "outputs": [
        {
          "output_type": "execute_result",
          "data": {
            "text/plain": [
              "array([ 4.45257970e-01, -1.87067298e-05, -8.13577578e-01, -3.19047765e-01,\n",
              "        2.61924627e+00,  6.06486867e-01, -1.22016745e+00, -1.00868282e+00])"
            ]
          },
          "metadata": {},
          "execution_count": 53
        }
      ]
    },
    {
      "cell_type": "code",
      "source": [
        "print(\"Model intercept  : \", model.intercept_, \"\\n\")\n",
        "for i in range(len(X.columns)):\n",
        "    print(X.columns[i], \": \", model.coef_[i])"
      ],
      "metadata": {
        "id": "YE49O9-X8HwJ",
        "outputId": "9184b620-0374-494a-dbf6-c02e0bc34aea",
        "colab": {
          "base_uri": "https://localhost:8080/"
        }
      },
      "execution_count": null,
      "outputs": [
        {
          "output_type": "stream",
          "name": "stdout",
          "text": [
            "Model intercept  :  4.604429051576995 \n",
            "\n",
            "Present_Price :  0.4452579698976289\n",
            "Kms_Driven :  -1.870672975702182e-05\n",
            "Owner :  -0.81357757765867\n",
            "vehicle_age :  -0.3190477645588865\n",
            "Fuel_Type_Diesel :  2.6192462729450945\n",
            "Fuel_Type_Petrol :  0.6064868667913306\n",
            "Seller_Type_Individual :  -1.2201674460429661\n",
            "Transmission_Manual :  -1.0086828216162702\n"
          ]
        }
      ]
    },
    {
      "cell_type": "code",
      "source": [
        "coeff_df=pd.DataFrame(model.coef_, X.columns, columns=[\"Coefficient\"])\n",
        "coeff_df"
      ],
      "metadata": {
        "id": "F2oi1igs8LJ8",
        "outputId": "ca9caad7-e40b-4d05-d20c-b9be798be29f",
        "colab": {
          "base_uri": "https://localhost:8080/",
          "height": 364
        }
      },
      "execution_count": null,
      "outputs": [
        {
          "output_type": "execute_result",
          "data": {
            "text/html": [
              "\n",
              "  <div id=\"df-f50a1f3e-bf9e-4bf1-a4f2-fcebd21ad87b\">\n",
              "    <div class=\"colab-df-container\">\n",
              "      <div>\n",
              "<style scoped>\n",
              "    .dataframe tbody tr th:only-of-type {\n",
              "        vertical-align: middle;\n",
              "    }\n",
              "\n",
              "    .dataframe tbody tr th {\n",
              "        vertical-align: top;\n",
              "    }\n",
              "\n",
              "    .dataframe thead th {\n",
              "        text-align: right;\n",
              "    }\n",
              "</style>\n",
              "<table border=\"1\" class=\"dataframe\">\n",
              "  <thead>\n",
              "    <tr style=\"text-align: right;\">\n",
              "      <th></th>\n",
              "      <th>Coefficient</th>\n",
              "    </tr>\n",
              "  </thead>\n",
              "  <tbody>\n",
              "    <tr>\n",
              "      <th>Present_Price</th>\n",
              "      <td>0.445258</td>\n",
              "    </tr>\n",
              "    <tr>\n",
              "      <th>Kms_Driven</th>\n",
              "      <td>-0.000019</td>\n",
              "    </tr>\n",
              "    <tr>\n",
              "      <th>Owner</th>\n",
              "      <td>-0.813578</td>\n",
              "    </tr>\n",
              "    <tr>\n",
              "      <th>vehicle_age</th>\n",
              "      <td>-0.319048</td>\n",
              "    </tr>\n",
              "    <tr>\n",
              "      <th>Fuel_Type_Diesel</th>\n",
              "      <td>2.619246</td>\n",
              "    </tr>\n",
              "    <tr>\n",
              "      <th>Fuel_Type_Petrol</th>\n",
              "      <td>0.606487</td>\n",
              "    </tr>\n",
              "    <tr>\n",
              "      <th>Seller_Type_Individual</th>\n",
              "      <td>-1.220167</td>\n",
              "    </tr>\n",
              "    <tr>\n",
              "      <th>Transmission_Manual</th>\n",
              "      <td>-1.008683</td>\n",
              "    </tr>\n",
              "  </tbody>\n",
              "</table>\n",
              "</div>\n",
              "      <button class=\"colab-df-convert\" onclick=\"convertToInteractive('df-f50a1f3e-bf9e-4bf1-a4f2-fcebd21ad87b')\"\n",
              "              title=\"Convert this dataframe to an interactive table.\"\n",
              "              style=\"display:none;\">\n",
              "        \n",
              "  <svg xmlns=\"http://www.w3.org/2000/svg\" height=\"24px\"viewBox=\"0 0 24 24\"\n",
              "       width=\"24px\">\n",
              "    <path d=\"M0 0h24v24H0V0z\" fill=\"none\"/>\n",
              "    <path d=\"M18.56 5.44l.94 2.06.94-2.06 2.06-.94-2.06-.94-.94-2.06-.94 2.06-2.06.94zm-11 1L8.5 8.5l.94-2.06 2.06-.94-2.06-.94L8.5 2.5l-.94 2.06-2.06.94zm10 10l.94 2.06.94-2.06 2.06-.94-2.06-.94-.94-2.06-.94 2.06-2.06.94z\"/><path d=\"M17.41 7.96l-1.37-1.37c-.4-.4-.92-.59-1.43-.59-.52 0-1.04.2-1.43.59L10.3 9.45l-7.72 7.72c-.78.78-.78 2.05 0 2.83L4 21.41c.39.39.9.59 1.41.59.51 0 1.02-.2 1.41-.59l7.78-7.78 2.81-2.81c.8-.78.8-2.07 0-2.86zM5.41 20L4 18.59l7.72-7.72 1.47 1.35L5.41 20z\"/>\n",
              "  </svg>\n",
              "      </button>\n",
              "      \n",
              "  <style>\n",
              "    .colab-df-container {\n",
              "      display:flex;\n",
              "      flex-wrap:wrap;\n",
              "      gap: 12px;\n",
              "    }\n",
              "\n",
              "    .colab-df-convert {\n",
              "      background-color: #E8F0FE;\n",
              "      border: none;\n",
              "      border-radius: 50%;\n",
              "      cursor: pointer;\n",
              "      display: none;\n",
              "      fill: #1967D2;\n",
              "      height: 32px;\n",
              "      padding: 0 0 0 0;\n",
              "      width: 32px;\n",
              "    }\n",
              "\n",
              "    .colab-df-convert:hover {\n",
              "      background-color: #E2EBFA;\n",
              "      box-shadow: 0px 1px 2px rgba(60, 64, 67, 0.3), 0px 1px 3px 1px rgba(60, 64, 67, 0.15);\n",
              "      fill: #174EA6;\n",
              "    }\n",
              "\n",
              "    [theme=dark] .colab-df-convert {\n",
              "      background-color: #3B4455;\n",
              "      fill: #D2E3FC;\n",
              "    }\n",
              "\n",
              "    [theme=dark] .colab-df-convert:hover {\n",
              "      background-color: #434B5C;\n",
              "      box-shadow: 0px 1px 3px 1px rgba(0, 0, 0, 0.15);\n",
              "      filter: drop-shadow(0px 1px 2px rgba(0, 0, 0, 0.3));\n",
              "      fill: #FFFFFF;\n",
              "    }\n",
              "  </style>\n",
              "\n",
              "      <script>\n",
              "        const buttonEl =\n",
              "          document.querySelector('#df-f50a1f3e-bf9e-4bf1-a4f2-fcebd21ad87b button.colab-df-convert');\n",
              "        buttonEl.style.display =\n",
              "          google.colab.kernel.accessAllowed ? 'block' : 'none';\n",
              "\n",
              "        async function convertToInteractive(key) {\n",
              "          const element = document.querySelector('#df-f50a1f3e-bf9e-4bf1-a4f2-fcebd21ad87b');\n",
              "          const dataTable =\n",
              "            await google.colab.kernel.invokeFunction('convertToInteractive',\n",
              "                                                     [key], {});\n",
              "          if (!dataTable) return;\n",
              "\n",
              "          const docLinkHtml = 'Like what you see? Visit the ' +\n",
              "            '<a target=\"_blank\" href=https://colab.research.google.com/notebooks/data_table.ipynb>data table notebook</a>'\n",
              "            + ' to learn more about interactive tables.';\n",
              "          element.innerHTML = '';\n",
              "          dataTable['output_type'] = 'display_data';\n",
              "          await google.colab.output.renderOutput(dataTable, element);\n",
              "          const docLink = document.createElement('div');\n",
              "          docLink.innerHTML = docLinkHtml;\n",
              "          element.appendChild(docLink);\n",
              "        }\n",
              "      </script>\n",
              "    </div>\n",
              "  </div>\n",
              "  "
            ],
            "text/plain": [
              "                        Coefficient\n",
              "Present_Price              0.445258\n",
              "Kms_Driven                -0.000019\n",
              "Owner                     -0.813578\n",
              "vehicle_age               -0.319048\n",
              "Fuel_Type_Diesel           2.619246\n",
              "Fuel_Type_Petrol           0.606487\n",
              "Seller_Type_Individual    -1.220167\n",
              "Transmission_Manual       -1.008683"
            ]
          },
          "metadata": {},
          "execution_count": 55
        }
      ]
    },
    {
      "cell_type": "markdown",
      "metadata": {
        "id": "Xf8mmQdSbV9R"
      },
      "source": [
        "# Model Evaluation"
      ]
    },
    {
      "cell_type": "code",
      "metadata": {
        "id": "cZTXxOlxbV9T"
      },
      "source": [
        "from sklearn.metrics import r2_score, mean_absolute_error, mean_squared_error"
      ],
      "execution_count": null,
      "outputs": []
    },
    {
      "cell_type": "code",
      "source": [
        "y_pred=model.predict(X_test)"
      ],
      "metadata": {
        "id": "-V89sPw18SL8"
      },
      "execution_count": null,
      "outputs": []
    },
    {
      "cell_type": "code",
      "source": [
        "y_pred"
      ],
      "metadata": {
        "id": "qk6UIYfT8VDk",
        "outputId": "a3cc1dba-aa9a-4cfc-f97a-cf912069d00c",
        "colab": {
          "base_uri": "https://localhost:8080/"
        }
      },
      "execution_count": null,
      "outputs": [
        {
          "output_type": "execute_result",
          "data": {
            "text/plain": [
              "array([10.70729552, 10.87520713,  4.43096899,  5.91337788,  2.54941855,\n",
              "        9.03674575,  7.2737809 ,  1.49360032, 16.02286635,  4.74188631,\n",
              "        6.7140433 ,  6.40320371,  3.4644454 ,  3.4148824 , -0.60954639,\n",
              "        4.17855023,  9.09429896, -0.30209302,  9.1878139 ,  1.18733586,\n",
              "        7.5000935 , 18.19046601, 19.54269265,  0.21434982,  2.15321632,\n",
              "        4.76671337,  4.95716413,  6.82822836,  5.23694236,  5.48340774,\n",
              "        4.36427226,  7.93602233,  5.74539229, -0.54343788,  0.66628503,\n",
              "        7.00623246,  7.3790224 ,  5.4235689 ,  1.17465734,  1.16263268,\n",
              "        2.06339611,  5.1531104 , 14.03667284, -9.2787032 ,  1.39494051,\n",
              "        3.97812269, -0.91681301,  8.44163201,  4.34565296,  4.84278586,\n",
              "        5.18366168, 16.39104119,  0.85271469,  1.65187499,  1.6335204 ,\n",
              "       -1.42292807,  2.85945813,  0.66521417, -1.75047375,  1.6120861 ,\n",
              "        0.6862596 ])"
            ]
          },
          "metadata": {},
          "execution_count": 58
        }
      ]
    },
    {
      "cell_type": "code",
      "source": [
        "rmse=(np.sqrt(mean_squared_error(y_test,y_pred)))\n",
        "mae=mean_absolute_error(y_test,y_pred)\n",
        "R2_score=r2_score(y_test,y_pred)"
      ],
      "metadata": {
        "id": "hrlywwM68Y7Q"
      },
      "execution_count": null,
      "outputs": []
    },
    {
      "cell_type": "code",
      "source": [
        "from yellowbrick.regressor import PredictionError\n",
        "lm= LinearRegression(normalize=True)\n",
        "visualizer = PredictionError(model)\n",
        "visualizer.fit(X_train, y_train)\n",
        "visualizer.score(X_test, y_test)\n",
        "visualizer.show()"
      ],
      "metadata": {
        "id": "aK7ivKTw8Y4e",
        "outputId": "f7e81375-495f-490d-9b29-e0a397c9d335",
        "colab": {
          "base_uri": "https://localhost:8080/",
          "height": 72
        }
      },
      "execution_count": null,
      "outputs": [
        {
          "output_type": "display_data",
          "data": {
            "image/png": "[encoded data removed]",
            "text/plain": [
              "<Figure size 576x396 with 1 Axes>"
            ]
          },
          "metadata": {}
        },
        {
          "output_type": "execute_result",
          "data": {
            "text/plain": [
              "<matplotlib.axes._subplots.AxesSubplot at 0x7f4abf73c890>"
            ]
          },
          "metadata": {},
          "execution_count": 60
        }
      ]
    },
    {
      "cell_type": "code",
      "source": [
        "results = pd.DataFrame({'Actual': y_test, 'Predicted': y_pred})\n",
        "result_sample = results\n",
        "result_sample"
      ],
      "metadata": {
        "id": "fz5_hJa88Y0n",
        "outputId": "3a7ad327-a7eb-4d4b-bf7b-ad539e9c200c",
        "colab": {
          "base_uri": "https://localhost:8080/",
          "height": 488
        }
      },
      "execution_count": null,
      "outputs": [
        {
          "output_type": "execute_result",
          "data": {
            "text/html": [
              "\n",
              "  <div id=\"df-5985fcd4-0bcd-48dc-ad6a-95e7a3ac68f9\">\n",
              "    <div class=\"colab-df-container\">\n",
              "      <div>\n",
              "<style scoped>\n",
              "    .dataframe tbody tr th:only-of-type {\n",
              "        vertical-align: middle;\n",
              "    }\n",
              "\n",
              "    .dataframe tbody tr th {\n",
              "        vertical-align: top;\n",
              "    }\n",
              "\n",
              "    .dataframe thead th {\n",
              "        text-align: right;\n",
              "    }\n",
              "</style>\n",
              "<table border=\"1\" class=\"dataframe\">\n",
              "  <thead>\n",
              "    <tr style=\"text-align: right;\">\n",
              "      <th></th>\n",
              "      <th>Actual</th>\n",
              "      <th>Predicted</th>\n",
              "    </tr>\n",
              "  </thead>\n",
              "  <tbody>\n",
              "    <tr>\n",
              "      <th>67</th>\n",
              "      <td>9.25</td>\n",
              "      <td>10.707296</td>\n",
              "    </tr>\n",
              "    <tr>\n",
              "      <th>99</th>\n",
              "      <td>9.65</td>\n",
              "      <td>10.875207</td>\n",
              "    </tr>\n",
              "    <tr>\n",
              "      <th>266</th>\n",
              "      <td>3.65</td>\n",
              "      <td>4.430969</td>\n",
              "    </tr>\n",
              "    <tr>\n",
              "      <th>222</th>\n",
              "      <td>6.00</td>\n",
              "      <td>5.913378</td>\n",
              "    </tr>\n",
              "    <tr>\n",
              "      <th>24</th>\n",
              "      <td>2.90</td>\n",
              "      <td>2.549419</td>\n",
              "    </tr>\n",
              "    <tr>\n",
              "      <th>...</th>\n",
              "      <td>...</td>\n",
              "      <td>...</td>\n",
              "    </tr>\n",
              "    <tr>\n",
              "      <th>25</th>\n",
              "      <td>3.00</td>\n",
              "      <td>2.859458</td>\n",
              "    </tr>\n",
              "    <tr>\n",
              "      <th>181</th>\n",
              "      <td>0.30</td>\n",
              "      <td>0.665214</td>\n",
              "    </tr>\n",
              "    <tr>\n",
              "      <th>194</th>\n",
              "      <td>0.20</td>\n",
              "      <td>-1.750474</td>\n",
              "    </tr>\n",
              "    <tr>\n",
              "      <th>127</th>\n",
              "      <td>0.75</td>\n",
              "      <td>1.612086</td>\n",
              "    </tr>\n",
              "    <tr>\n",
              "      <th>161</th>\n",
              "      <td>0.45</td>\n",
              "      <td>0.686260</td>\n",
              "    </tr>\n",
              "  </tbody>\n",
              "</table>\n",
              "<p>61 rows × 2 columns</p>\n",
              "</div>\n",
              "      <button class=\"colab-df-convert\" onclick=\"convertToInteractive('df-5985fcd4-0bcd-48dc-ad6a-95e7a3ac68f9')\"\n",
              "              title=\"Convert this dataframe to an interactive table.\"\n",
              "              style=\"display:none;\">\n",
              "        \n",
              "  <svg xmlns=\"http://www.w3.org/2000/svg\" height=\"24px\"viewBox=\"0 0 24 24\"\n",
              "       width=\"24px\">\n",
              "    <path d=\"M0 0h24v24H0V0z\" fill=\"none\"/>\n",
              "    <path d=\"M18.56 5.44l.94 2.06.94-2.06 2.06-.94-2.06-.94-.94-2.06-.94 2.06-2.06.94zm-11 1L8.5 8.5l.94-2.06 2.06-.94-2.06-.94L8.5 2.5l-.94 2.06-2.06.94zm10 10l.94 2.06.94-2.06 2.06-.94-2.06-.94-.94-2.06-.94 2.06-2.06.94z\"/><path d=\"M17.41 7.96l-1.37-1.37c-.4-.4-.92-.59-1.43-.59-.52 0-1.04.2-1.43.59L10.3 9.45l-7.72 7.72c-.78.78-.78 2.05 0 2.83L4 21.41c.39.39.9.59 1.41.59.51 0 1.02-.2 1.41-.59l7.78-7.78 2.81-2.81c.8-.78.8-2.07 0-2.86zM5.41 20L4 18.59l7.72-7.72 1.47 1.35L5.41 20z\"/>\n",
              "  </svg>\n",
              "      </button>\n",
              "      \n",
              "  <style>\n",
              "    .colab-df-container {\n",
              "      display:flex;\n",
              "      flex-wrap:wrap;\n",
              "      gap: 12px;\n",
              "    }\n",
              "\n",
              "    .colab-df-convert {\n",
              "      background-color: #E8F0FE;\n",
              "      border: none;\n",
              "      border-radius: 50%;\n",
              "      cursor: pointer;\n",
              "      display: none;\n",
              "      fill: #1967D2;\n",
              "      height: 32px;\n",
              "      padding: 0 0 0 0;\n",
              "      width: 32px;\n",
              "    }\n",
              "\n",
              "    .colab-df-convert:hover {\n",
              "      background-color: #E2EBFA;\n",
              "      box-shadow: 0px 1px 2px rgba(60, 64, 67, 0.3), 0px 1px 3px 1px rgba(60, 64, 67, 0.15);\n",
              "      fill: #174EA6;\n",
              "    }\n",
              "\n",
              "    [theme=dark] .colab-df-convert {\n",
              "      background-color: #3B4455;\n",
              "      fill: #D2E3FC;\n",
              "    }\n",
              "\n",
              "    [theme=dark] .colab-df-convert:hover {\n",
              "      background-color: #434B5C;\n",
              "      box-shadow: 0px 1px 3px 1px rgba(0, 0, 0, 0.15);\n",
              "      filter: drop-shadow(0px 1px 2px rgba(0, 0, 0, 0.3));\n",
              "      fill: #FFFFFF;\n",
              "    }\n",
              "  </style>\n",
              "\n",
              "      <script>\n",
              "        const buttonEl =\n",
              "          document.querySelector('#df-5985fcd4-0bcd-48dc-ad6a-95e7a3ac68f9 button.colab-df-convert');\n",
              "        buttonEl.style.display =\n",
              "          google.colab.kernel.accessAllowed ? 'block' : 'none';\n",
              "\n",
              "        async function convertToInteractive(key) {\n",
              "          const element = document.querySelector('#df-5985fcd4-0bcd-48dc-ad6a-95e7a3ac68f9');\n",
              "          const dataTable =\n",
              "            await google.colab.kernel.invokeFunction('convertToInteractive',\n",
              "                                                     [key], {});\n",
              "          if (!dataTable) return;\n",
              "\n",
              "          const docLinkHtml = 'Like what you see? Visit the ' +\n",
              "            '<a target=\"_blank\" href=https://colab.research.google.com/notebooks/data_table.ipynb>data table notebook</a>'\n",
              "            + ' to learn more about interactive tables.';\n",
              "          element.innerHTML = '';\n",
              "          dataTable['output_type'] = 'display_data';\n",
              "          await google.colab.output.renderOutput(dataTable, element);\n",
              "          const docLink = document.createElement('div');\n",
              "          docLink.innerHTML = docLinkHtml;\n",
              "          element.appendChild(docLink);\n",
              "        }\n",
              "      </script>\n",
              "    </div>\n",
              "  </div>\n",
              "  "
            ],
            "text/plain": [
              "     Actual  Predicted\n",
              "67     9.25  10.707296\n",
              "99     9.65  10.875207\n",
              "266    3.65   4.430969\n",
              "222    6.00   5.913378\n",
              "24     2.90   2.549419\n",
              "..      ...        ...\n",
              "25     3.00   2.859458\n",
              "181    0.30   0.665214\n",
              "194    0.20  -1.750474\n",
              "127    0.75   1.612086\n",
              "161    0.45   0.686260\n",
              "\n",
              "[61 rows x 2 columns]"
            ]
          },
          "metadata": {},
          "execution_count": 61
        }
      ]
    },
    {
      "cell_type": "code",
      "source": [
        "result_sample.plot(kind='bar',figsize=(20,9))\n",
        "plt.grid(linestyle=':', linewidth='0.5', color='green')\n",
        "plt.show()"
      ],
      "metadata": {
        "id": "kIeuVdeY80yL",
        "outputId": "b7fb3e40-50f6-4009-c2a6-f3c959080302",
        "colab": {
          "base_uri": "https://localhost:8080/",
          "height": 54
        }
      },
      "execution_count": null,
      "outputs": [
        {
          "output_type": "display_data",
          "data": {
            "image/png": "[encoded data removed]",
            "text/plain": [
              "<Figure size 1440x648 with 1 Axes>"
            ]
          },
          "metadata": {}
        }
      ]
    },
    {
      "cell_type": "markdown",
      "metadata": {
        "id": "ngfv0b5vbnO6"
      },
      "source": [
        "# Regularization"
      ]
    },
    {
      "cell_type": "markdown",
      "metadata": {
        "id": "PbnRHneJbV9T"
      },
      "source": [
        "# Ridge"
      ]
    },
    {
      "cell_type": "code",
      "metadata": {
        "id": "sLbDL68AbV9V"
      },
      "source": [
        "def show_metrics(y_test, y_pred):\n",
        "    rmse=(np.sqrt(mean_squared_error(y_test,y_pred)))\n",
        "    mae=mean_absolute_error(y_test,y_pred)\n",
        "    R2_score=r2_score(y_test,y_pred)\n",
        "    print(\"Model testing performance:\")\n",
        "    print(\"--------------------------\")\n",
        "    print('RMSE {:25}'.format(rmse))\n",
        "    print(\"MAE {:26}\".format(mae))\n",
        "    print('R2 {:27}'.format(R2_score))"
      ],
      "execution_count": null,
      "outputs": []
    },
    {
      "cell_type": "code",
      "source": [
        "from sklearn.linear_model import Ridge, RidgeCV\n",
        "from sklearn.preprocessing import MinMaxScaler"
      ],
      "metadata": {
        "id": "RlH7lssI8-PL"
      },
      "execution_count": null,
      "outputs": []
    },
    {
      "cell_type": "code",
      "source": [
        "scaler=MinMaxScaler()\n",
        "scaler.fit(X_train)\n",
        "X_train=scaler.transform(X_train)\n",
        "X_test=scaler.transform(X_test)"
      ],
      "metadata": {
        "id": "XESzignG8-It"
      },
      "execution_count": null,
      "outputs": []
    },
    {
      "cell_type": "code",
      "source": [
        "X_train"
      ],
      "metadata": {
        "id": "vi13f56g9GsO",
        "outputId": "40706846-ff59-4799-9a62-e09aba03be1e",
        "colab": {
          "base_uri": "https://localhost:8080/"
        }
      },
      "execution_count": null,
      "outputs": [
        {
          "output_type": "execute_result",
          "data": {
            "text/plain": [
              "array([[0.07780668, 0.28566118, 0.        , ..., 1.        , 0.        ,\n",
              "        1.        ],\n",
              "       [0.14390984, 0.13516706, 0.        , ..., 1.        , 0.        ,\n",
              "        1.        ],\n",
              "       [0.15680537, 0.20251765, 0.        , ..., 0.        , 0.        ,\n",
              "        1.        ],\n",
              "       ...,\n",
              "       [0.01246207, 0.12      , 0.        , ..., 1.        , 1.        ,\n",
              "        1.        ],\n",
              "       [0.00270915, 0.25647059, 0.        , ..., 1.        , 1.        ,\n",
              "        1.        ],\n",
              "       [0.07379714, 0.05637176, 0.        , ..., 1.        , 0.        ,\n",
              "        1.        ]])"
            ]
          },
          "metadata": {},
          "execution_count": 66
        }
      ]
    },
    {
      "cell_type": "code",
      "source": [
        "ridge_model = Ridge()\n",
        "ridge_model.fit(X_train, y_train)\n",
        "y_pred = ridge_model.predict(X_test)"
      ],
      "metadata": {
        "id": "XjELIBix9KUj"
      },
      "execution_count": null,
      "outputs": []
    },
    {
      "cell_type": "code",
      "source": [
        "show_metrics(y_test,y_pred)"
      ],
      "metadata": {
        "id": "qfYq3UIy9NQ3",
        "outputId": "c74d53f8-901f-4ec5-d1a2-21458c91670d",
        "colab": {
          "base_uri": "https://localhost:8080/"
        }
      },
      "execution_count": null,
      "outputs": [
        {
          "output_type": "stream",
          "name": "stdout",
          "text": [
            "Model testing performance:\n",
            "--------------------------\n",
            "RMSE        1.9026594573849422\n",
            "MAE         1.1854250171898175\n",
            "R2          0.8651263662232391\n"
          ]
        }
      ]
    },
    {
      "cell_type": "code",
      "source": [
        "ridge_model.alpha"
      ],
      "metadata": {
        "id": "crzSGJ5X9NHp",
        "outputId": "2584f3ef-49d4-47b5-c826-65d48b1eef00",
        "colab": {
          "base_uri": "https://localhost:8080/"
        }
      },
      "execution_count": null,
      "outputs": [
        {
          "output_type": "execute_result",
          "data": {
            "text/plain": [
              "1.0"
            ]
          },
          "metadata": {},
          "execution_count": 69
        }
      ]
    },
    {
      "cell_type": "code",
      "source": [
        "alpha_space = np.linspace(0.1, 20, 100)\n",
        "alpha_space"
      ],
      "metadata": {
        "id": "yniMNzLj9TEf",
        "outputId": "3f4f142e-8a22-45c0-c2f3-d107dab69a7f",
        "colab": {
          "base_uri": "https://localhost:8080/"
        }
      },
      "execution_count": null,
      "outputs": [
        {
          "output_type": "execute_result",
          "data": {
            "text/plain": [
              "array([ 0.1       ,  0.3010101 ,  0.5020202 ,  0.7030303 ,  0.9040404 ,\n",
              "        1.10505051,  1.30606061,  1.50707071,  1.70808081,  1.90909091,\n",
              "        2.11010101,  2.31111111,  2.51212121,  2.71313131,  2.91414141,\n",
              "        3.11515152,  3.31616162,  3.51717172,  3.71818182,  3.91919192,\n",
              "        4.12020202,  4.32121212,  4.52222222,  4.72323232,  4.92424242,\n",
              "        5.12525253,  5.32626263,  5.52727273,  5.72828283,  5.92929293,\n",
              "        6.13030303,  6.33131313,  6.53232323,  6.73333333,  6.93434343,\n",
              "        7.13535354,  7.33636364,  7.53737374,  7.73838384,  7.93939394,\n",
              "        8.14040404,  8.34141414,  8.54242424,  8.74343434,  8.94444444,\n",
              "        9.14545455,  9.34646465,  9.54747475,  9.74848485,  9.94949495,\n",
              "       10.15050505, 10.35151515, 10.55252525, 10.75353535, 10.95454545,\n",
              "       11.15555556, 11.35656566, 11.55757576, 11.75858586, 11.95959596,\n",
              "       12.16060606, 12.36161616, 12.56262626, 12.76363636, 12.96464646,\n",
              "       13.16565657, 13.36666667, 13.56767677, 13.76868687, 13.96969697,\n",
              "       14.17070707, 14.37171717, 14.57272727, 14.77373737, 14.97474747,\n",
              "       15.17575758, 15.37676768, 15.57777778, 15.77878788, 15.97979798,\n",
              "       16.18080808, 16.38181818, 16.58282828, 16.78383838, 16.98484848,\n",
              "       17.18585859, 17.38686869, 17.58787879, 17.78888889, 17.98989899,\n",
              "       18.19090909, 18.39191919, 18.59292929, 18.79393939, 18.99494949,\n",
              "       19.1959596 , 19.3969697 , 19.5979798 , 19.7989899 , 20.        ])"
            ]
          },
          "metadata": {},
          "execution_count": 70
        }
      ]
    },
    {
      "cell_type": "code",
      "source": [
        "ridgecv = RidgeCV(alphas=alpha_space, cv=10)\n",
        "ridgecv.fit(X_train, y_train)"
      ],
      "metadata": {
        "id": "ZszDtjVS9Vqt",
        "outputId": "e5e43a0e-fd5a-4367-b880-57a59b632c99",
        "colab": {
          "base_uri": "https://localhost:8080/"
        }
      },
      "execution_count": null,
      "outputs": [
        {
          "output_type": "execute_result",
          "data": {
            "text/plain": [
              "RidgeCV(alphas=array([ 0.1       ,  0.3010101 ,  0.5020202 ,  0.7030303 ,  0.9040404 ,\n",
              "        1.10505051,  1.30606061,  1.50707071,  1.70808081,  1.90909091,\n",
              "        2.11010101,  2.31111111,  2.51212121,  2.71313131,  2.91414141,\n",
              "        3.11515152,  3.31616162,  3.51717172,  3.71818182,  3.91919192,\n",
              "        4.12020202,  4.32121212,  4.52222222,  4.72323232,  4.92424242,\n",
              "        5.12525253,  5.32626263,  5.52727273,  5.72828283,  5.92929293,\n",
              "        6.1303030...\n",
              "       14.17070707, 14.37171717, 14.57272727, 14.77373737, 14.97474747,\n",
              "       15.17575758, 15.37676768, 15.57777778, 15.77878788, 15.97979798,\n",
              "       16.18080808, 16.38181818, 16.58282828, 16.78383838, 16.98484848,\n",
              "       17.18585859, 17.38686869, 17.58787879, 17.78888889, 17.98989899,\n",
              "       18.19090909, 18.39191919, 18.59292929, 18.79393939, 18.99494949,\n",
              "       19.1959596 , 19.3969697 , 19.5979798 , 19.7989899 , 20.        ]),\n",
              "        cv=10)"
            ]
          },
          "metadata": {},
          "execution_count": 71
        }
      ]
    },
    {
      "cell_type": "code",
      "source": [
        "ridgecv.alpha_"
      ],
      "metadata": {
        "id": "RWntwXTX9YoC",
        "outputId": "6c6eed9b-4d28-43ea-a849-8f8ef89bcf12",
        "colab": {
          "base_uri": "https://localhost:8080/"
        }
      },
      "execution_count": null,
      "outputs": [
        {
          "output_type": "execute_result",
          "data": {
            "text/plain": [
              "0.1"
            ]
          },
          "metadata": {},
          "execution_count": 72
        }
      ]
    },
    {
      "cell_type": "code",
      "source": [
        "alpha_space = np.linspace(0.01, 10, 100)\n",
        "ridgecv = RidgeCV(alphas=alpha_space, cv=10)\n",
        "ridgecv.fit(X_train, y_train)"
      ],
      "metadata": {
        "id": "pTVJwiAl9YkZ",
        "outputId": "57385623-0cf8-4fc2-bbff-294a3e52e834",
        "colab": {
          "base_uri": "https://localhost:8080/"
        }
      },
      "execution_count": null,
      "outputs": [
        {
          "output_type": "execute_result",
          "data": {
            "text/plain": [
              "RidgeCV(alphas=array([ 0.01      ,  0.11090909,  0.21181818,  0.31272727,  0.41363636,\n",
              "        0.51454545,  0.61545455,  0.71636364,  0.81727273,  0.91818182,\n",
              "        1.01909091,  1.12      ,  1.22090909,  1.32181818,  1.42272727,\n",
              "        1.52363636,  1.62454545,  1.72545455,  1.82636364,  1.92727273,\n",
              "        2.02818182,  2.12909091,  2.23      ,  2.33090909,  2.43181818,\n",
              "        2.53272727,  2.63363636,  2.73454545,  2.83545455,  2.93636364,\n",
              "        3.03727273,  3.138...\n",
              "        6.56909091,  6.67      ,  6.77090909,  6.87181818,  6.97272727,\n",
              "        7.07363636,  7.17454545,  7.27545455,  7.37636364,  7.47727273,\n",
              "        7.57818182,  7.67909091,  7.78      ,  7.88090909,  7.98181818,\n",
              "        8.08272727,  8.18363636,  8.28454545,  8.38545455,  8.48636364,\n",
              "        8.58727273,  8.68818182,  8.78909091,  8.89      ,  8.99090909,\n",
              "        9.09181818,  9.19272727,  9.29363636,  9.39454545,  9.49545455,\n",
              "        9.59636364,  9.69727273,  9.79818182,  9.89909091, 10.        ]),\n",
              "        cv=10)"
            ]
          },
          "metadata": {},
          "execution_count": 73
        }
      ]
    },
    {
      "cell_type": "code",
      "source": [
        "ridgecv.alpha_"
      ],
      "metadata": {
        "id": "jEb7FVhf9fzE",
        "outputId": "c2b21a2b-234d-43c7-da63-d5f9f3d8d264",
        "colab": {
          "base_uri": "https://localhost:8080/"
        }
      },
      "execution_count": null,
      "outputs": [
        {
          "output_type": "execute_result",
          "data": {
            "text/plain": [
              "0.21181818181818182"
            ]
          },
          "metadata": {},
          "execution_count": 74
        }
      ]
    },
    {
      "cell_type": "code",
      "source": [
        "from yellowbrick.regressor import ManualAlphaSelection\n",
        "alpha_space = np.linspace(0.01, 10, 100)\n",
        "visualizer = ManualAlphaSelection(Ridge(), alphas=alpha_space, cv=10)\n",
        "visualizer.fit(X_train, y_train)\n",
        "visualizer.show()"
      ],
      "metadata": {
        "id": "xvOOU9NK9fvf",
        "outputId": "af37cb92-862f-4b5f-d176-8ae29fd2fff3",
        "colab": {
          "base_uri": "https://localhost:8080/",
          "height": 72
        }
      },
      "execution_count": null,
      "outputs": [
        {
          "output_type": "display_data",
          "data": {
            "image/png": "[encoded data removed]",
            "text/plain": [
              "<Figure size 576x396 with 1 Axes>"
            ]
          },
          "metadata": {}
        },
        {
          "output_type": "execute_result",
          "data": {
            "text/plain": [
              "<matplotlib.axes._subplots.AxesSubplot at 0x7f4abf73c5d0>"
            ]
          },
          "metadata": {},
          "execution_count": 75
        }
      ]
    },
    {
      "cell_type": "code",
      "source": [
        "y_pred=ridgecv.predict(X_test)"
      ],
      "metadata": {
        "id": "e-vfeErq9fro"
      },
      "execution_count": null,
      "outputs": []
    },
    {
      "cell_type": "code",
      "source": [
        "from yellowbrick.model_selection import FeatureImportances\n",
        "labels = list(map(lambda s: s.title(), X.columns))\n",
        "viz = FeatureImportances(ridge_model, labels=labels, relative=False)\n",
        "viz.fit(X_train, y_train)\n",
        "viz.show()"
      ],
      "metadata": {
        "id": "mguS65KA9rAX",
        "outputId": "313e7d3f-c78e-46f1-80ca-ae7f5089e30a",
        "colab": {
          "base_uri": "https://localhost:8080/",
          "height": 72
        }
      },
      "execution_count": null,
      "outputs": [
        {
          "output_type": "display_data",
          "data": {
            "image/png": "[encoded data removed]",
            "text/plain": [
              "<Figure size 576x396 with 1 Axes>"
            ]
          },
          "metadata": {}
        },
        {
          "output_type": "execute_result",
          "data": {
            "text/plain": [
              "<matplotlib.axes._subplots.AxesSubplot at 0x7f4ac06ad3d0>"
            ]
          },
          "metadata": {},
          "execution_count": 77
        }
      ]
    },
    {
      "cell_type": "markdown",
      "metadata": {
        "id": "B_T57TpNbV9V"
      },
      "source": [
        "# Lasso"
      ]
    },
    {
      "cell_type": "code",
      "metadata": {
        "id": "MBAiMxBAbV9W"
      },
      "source": [
        "from sklearn.linear_model import Lasso, LassoCV"
      ],
      "execution_count": null,
      "outputs": []
    },
    {
      "cell_type": "code",
      "source": [
        "lasso_model = Lasso()\n",
        "lasso_model.fit(X_train, y_train)\n",
        "y_pred = lasso_model.predict(X_test)\n",
        "show_metrics(y_test,y_pred)"
      ],
      "metadata": {
        "id": "-wx8A2Ag9yZ9",
        "outputId": "bdc5f133-8222-44bd-adf8-6a5af3eefa56",
        "colab": {
          "base_uri": "https://localhost:8080/"
        }
      },
      "execution_count": null,
      "outputs": [
        {
          "output_type": "stream",
          "name": "stdout",
          "text": [
            "Model testing performance:\n",
            "--------------------------\n",
            "RMSE         4.844430603529284\n",
            "MAE          3.198316612453815\n",
            "R2         0.12563974476813833\n"
          ]
        }
      ]
    },
    {
      "cell_type": "code",
      "source": [
        "alpha_space = np.linspace(0.001, 10, 100)\n",
        "lasso_cv_model = LassoCV(alphas = alpha_space, cv = 10).fit(X_train, y_train)"
      ],
      "metadata": {
        "id": "dqYgs5je9yWy"
      },
      "execution_count": null,
      "outputs": []
    },
    {
      "cell_type": "code",
      "source": [
        "y_pred=lasso_cv_model.predict(X_test)\n",
        "show_metrics(y_test,y_pred)"
      ],
      "metadata": {
        "id": "FhvLp5I79yTl",
        "outputId": "95f6a990-2394-48c1-dce2-f94ab24afa7a",
        "colab": {
          "base_uri": "https://localhost:8080/"
        }
      },
      "execution_count": null,
      "outputs": [
        {
          "output_type": "stream",
          "name": "stdout",
          "text": [
            "Model testing performance:\n",
            "--------------------------\n",
            "RMSE        1.9323214066935646\n",
            "MAE         1.1726681712627107\n",
            "R2          0.8608882992084927\n"
          ]
        }
      ]
    },
    {
      "cell_type": "code",
      "source": [
        "lasso_cv_model.alpha_"
      ],
      "metadata": {
        "id": "-u6FQtIK976A",
        "outputId": "5f1c84c5-2aa6-4fb9-b260-6e6e0a72843c",
        "colab": {
          "base_uri": "https://localhost:8080/"
        }
      },
      "execution_count": null,
      "outputs": [
        {
          "output_type": "execute_result",
          "data": {
            "text/plain": [
              "0.001"
            ]
          },
          "metadata": {},
          "execution_count": 48
        }
      ]
    },
    {
      "cell_type": "code",
      "source": [
        "lambdas = np.arange(0, 10, step=0.1)\n",
        "lasso_train, lasso_test = evaluate_model(Lasso, lambdas)\n",
        "plot_errors(lambdas, lasso_train, lasso_test, \"Lasso\")"
      ],
      "metadata": {
        "id": "bqScOkCO9724",
        "outputId": "8f25a8cb-d502-4cac-a1c1-36f9e29c2d20",
        "colab": {
          "base_uri": "https://localhost:8080/",
          "height": 202
        }
      },
      "execution_count": null,
      "outputs": [
        {
          "output_type": "error",
          "ename": "NameError",
          "evalue": "ignored",
          "traceback": [
            "\u001b[0;31m---------------------------------------------------------------------------\u001b[0m",
            "\u001b[0;31mNameError\u001b[0m                                 Traceback (most recent call last)",
            "\u001b[0;32m<ipython-input-49-4748a47d8223>\u001b[0m in \u001b[0;36m<module>\u001b[0;34m()\u001b[0m\n\u001b[1;32m      1\u001b[0m \u001b[0mlambdas\u001b[0m \u001b[0;34m=\u001b[0m \u001b[0mnp\u001b[0m\u001b[0;34m.\u001b[0m\u001b[0marange\u001b[0m\u001b[0;34m(\u001b[0m\u001b[0;36m0\u001b[0m\u001b[0;34m,\u001b[0m \u001b[0;36m10\u001b[0m\u001b[0;34m,\u001b[0m \u001b[0mstep\u001b[0m\u001b[0;34m=\u001b[0m\u001b[0;36m0.1\u001b[0m\u001b[0;34m)\u001b[0m\u001b[0;34m\u001b[0m\u001b[0;34m\u001b[0m\u001b[0m\n\u001b[0;32m----> 2\u001b[0;31m \u001b[0mlasso_train\u001b[0m\u001b[0;34m,\u001b[0m \u001b[0mlasso_test\u001b[0m \u001b[0;34m=\u001b[0m \u001b[0mevaluate_model\u001b[0m\u001b[0;34m(\u001b[0m\u001b[0mLasso\u001b[0m\u001b[0;34m,\u001b[0m \u001b[0mlambdas\u001b[0m\u001b[0;34m)\u001b[0m\u001b[0;34m\u001b[0m\u001b[0;34m\u001b[0m\u001b[0m\n\u001b[0m\u001b[1;32m      3\u001b[0m \u001b[0mplot_errors\u001b[0m\u001b[0;34m(\u001b[0m\u001b[0mlambdas\u001b[0m\u001b[0;34m,\u001b[0m \u001b[0mlasso_train\u001b[0m\u001b[0;34m,\u001b[0m \u001b[0mlasso_test\u001b[0m\u001b[0;34m,\u001b[0m \u001b[0;34m\"Lasso\"\u001b[0m\u001b[0;34m)\u001b[0m\u001b[0;34m\u001b[0m\u001b[0;34m\u001b[0m\u001b[0m\n",
            "\u001b[0;31mNameError\u001b[0m: name 'evaluate_model' is not defined"
          ]
        }
      ]
    },
    {
      "cell_type": "markdown",
      "metadata": {
        "id": "26QEobIEbV9X"
      },
      "source": [
        "## Elastic-Net "
      ]
    },
    {
      "cell_type": "code",
      "metadata": {
        "id": "hIgltF9YbV9Y"
      },
      "source": [
        "from sklearn.linear_model import ElasticNet, ElasticNetCV"
      ],
      "execution_count": null,
      "outputs": []
    },
    {
      "cell_type": "code",
      "source": [
        "elastic_model = ElasticNet()\n",
        "elastic_model.fit(X_train, y_train)"
      ],
      "metadata": {
        "id": "ZOwG7971-FLN",
        "outputId": "afde0186-3c15-4b97-bffe-50170dc32bc8",
        "colab": {
          "base_uri": "https://localhost:8080/"
        }
      },
      "execution_count": null,
      "outputs": [
        {
          "output_type": "execute_result",
          "data": {
            "text/plain": [
              "ElasticNet()"
            ]
          },
          "metadata": {},
          "execution_count": 98
        }
      ]
    },
    {
      "cell_type": "code",
      "source": [
        "elastic_model.l1_ratio"
      ],
      "metadata": {
        "id": "ndMGteF9-FIK",
        "outputId": "baf60800-6795-40d9-ac6f-bfe3131e182a",
        "colab": {
          "base_uri": "https://localhost:8080/"
        }
      },
      "execution_count": null,
      "outputs": [
        {
          "output_type": "execute_result",
          "data": {
            "text/plain": [
              "0.5"
            ]
          },
          "metadata": {},
          "execution_count": 99
        }
      ]
    },
    {
      "cell_type": "code",
      "source": [
        "elastic_model.alpha"
      ],
      "metadata": {
        "id": "lEnUK_gA-FEo",
        "outputId": "4d14d839-6fc8-4d28-bdc0-d6c2fee9d5a6",
        "colab": {
          "base_uri": "https://localhost:8080/"
        }
      },
      "execution_count": null,
      "outputs": [
        {
          "output_type": "execute_result",
          "data": {
            "text/plain": [
              "1.0"
            ]
          },
          "metadata": {},
          "execution_count": 100
        }
      ]
    },
    {
      "cell_type": "code",
      "source": [
        "y_train_pred = elastic_model.predict(X_train)\n",
        "show_metrics(y_train, y_train_pred)"
      ],
      "metadata": {
        "id": "2dvyuBlf-FA2",
        "outputId": "58d56a75-7868-4dbf-83ec-7b8de085d423",
        "colab": {
          "base_uri": "https://localhost:8080/"
        }
      },
      "execution_count": null,
      "outputs": [
        {
          "output_type": "stream",
          "name": "stdout",
          "text": [
            "Model testing performance:\n",
            "--------------------------\n",
            "RMSE         4.556672537035124\n",
            "MAE         2.9737637659724547\n",
            "R2         0.18365441423272466\n"
          ]
        }
      ]
    },
    {
      "cell_type": "code",
      "source": [
        "y_test_pred = elastic_model.predict(X_test)\n",
        "show_metrics(y_test, y_test_pred)"
      ],
      "metadata": {
        "id": "-M65WYEE-Qyn",
        "outputId": "f3d851ea-4274-4e3e-f8f2-89a0791498a1",
        "colab": {
          "base_uri": "https://localhost:8080/"
        }
      },
      "execution_count": null,
      "outputs": [
        {
          "output_type": "stream",
          "name": "stdout",
          "text": [
            "Model testing performance:\n",
            "--------------------------\n",
            "RMSE         4.658279048563928\n",
            "MAE          3.054714362337027\n",
            "R2          0.1915448500897866\n"
          ]
        }
      ]
    },
    {
      "cell_type": "code",
      "source": [
        "elastic_scores = {\"elastic_train\": {\"rmse\" : np.sqrt(mean_squared_error(y_train, y_train_pred)),\n",
        "    \"mae\" : mean_absolute_error(y_train, y_train_pred),\n",
        "    \"mse\" : mean_squared_error(y_train, y_train_pred),\n",
        "    \"R2\" : r2_score(y_train, y_train_pred)}, \n",
        "\n",
        "    \"elastic_test\": {\"rmse\" : np.sqrt(mean_squared_error(y_test, y_test_pred)),\n",
        "    \"mae\" : mean_absolute_error(y_test, y_test_pred),\n",
        "    \"mse\" : mean_squared_error(y_test, y_test_pred),\n",
        "    \"R2\" : r2_score(y_test, y_test_pred)}}\n",
        "es = pd.DataFrame(elastic_scores)\n",
        "es"
      ],
      "metadata": {
        "id": "9EuxL9b7-Qve",
        "outputId": "13e234ae-f82b-4ddd-bd7a-174009d4566f",
        "colab": {
          "base_uri": "https://localhost:8080/",
          "height": 239
        }
      },
      "execution_count": null,
      "outputs": [
        {
          "output_type": "execute_result",
          "data": {
            "text/html": [
              "\n",
              "  <div id=\"df-6d298b42-857a-4c43-9024-c08ee68db2b1\">\n",
              "    <div class=\"colab-df-container\">\n",
              "      <div>\n",
              "<style scoped>\n",
              "    .dataframe tbody tr th:only-of-type {\n",
              "        vertical-align: middle;\n",
              "    }\n",
              "\n",
              "    .dataframe tbody tr th {\n",
              "        vertical-align: top;\n",
              "    }\n",
              "\n",
              "    .dataframe thead th {\n",
              "        text-align: right;\n",
              "    }\n",
              "</style>\n",
              "<table border=\"1\" class=\"dataframe\">\n",
              "  <thead>\n",
              "    <tr style=\"text-align: right;\">\n",
              "      <th></th>\n",
              "      <th>elastic_train</th>\n",
              "      <th>elastic_test</th>\n",
              "    </tr>\n",
              "  </thead>\n",
              "  <tbody>\n",
              "    <tr>\n",
              "      <th>rmse</th>\n",
              "      <td>4.556673</td>\n",
              "      <td>4.658279</td>\n",
              "    </tr>\n",
              "    <tr>\n",
              "      <th>mae</th>\n",
              "      <td>2.973764</td>\n",
              "      <td>3.054714</td>\n",
              "    </tr>\n",
              "    <tr>\n",
              "      <th>mse</th>\n",
              "      <td>20.763265</td>\n",
              "      <td>21.699564</td>\n",
              "    </tr>\n",
              "    <tr>\n",
              "      <th>R2</th>\n",
              "      <td>0.183654</td>\n",
              "      <td>0.191545</td>\n",
              "    </tr>\n",
              "  </tbody>\n",
              "</table>\n",
              "</div>\n",
              "      <button class=\"colab-df-convert\" onclick=\"convertToInteractive('df-6d298b42-857a-4c43-9024-c08ee68db2b1')\"\n",
              "              title=\"Convert this dataframe to an interactive table.\"\n",
              "              style=\"display:none;\">\n",
              "        \n",
              "  <svg xmlns=\"http://www.w3.org/2000/svg\" height=\"24px\"viewBox=\"0 0 24 24\"\n",
              "       width=\"24px\">\n",
              "    <path d=\"M0 0h24v24H0V0z\" fill=\"none\"/>\n",
              "    <path d=\"M18.56 5.44l.94 2.06.94-2.06 2.06-.94-2.06-.94-.94-2.06-.94 2.06-2.06.94zm-11 1L8.5 8.5l.94-2.06 2.06-.94-2.06-.94L8.5 2.5l-.94 2.06-2.06.94zm10 10l.94 2.06.94-2.06 2.06-.94-2.06-.94-.94-2.06-.94 2.06-2.06.94z\"/><path d=\"M17.41 7.96l-1.37-1.37c-.4-.4-.92-.59-1.43-.59-.52 0-1.04.2-1.43.59L10.3 9.45l-7.72 7.72c-.78.78-.78 2.05 0 2.83L4 21.41c.39.39.9.59 1.41.59.51 0 1.02-.2 1.41-.59l7.78-7.78 2.81-2.81c.8-.78.8-2.07 0-2.86zM5.41 20L4 18.59l7.72-7.72 1.47 1.35L5.41 20z\"/>\n",
              "  </svg>\n",
              "      </button>\n",
              "      \n",
              "  <style>\n",
              "    .colab-df-container {\n",
              "      display:flex;\n",
              "      flex-wrap:wrap;\n",
              "      gap: 12px;\n",
              "    }\n",
              "\n",
              "    .colab-df-convert {\n",
              "      background-color: #E8F0FE;\n",
              "      border: none;\n",
              "      border-radius: 50%;\n",
              "      cursor: pointer;\n",
              "      display: none;\n",
              "      fill: #1967D2;\n",
              "      height: 32px;\n",
              "      padding: 0 0 0 0;\n",
              "      width: 32px;\n",
              "    }\n",
              "\n",
              "    .colab-df-convert:hover {\n",
              "      background-color: #E2EBFA;\n",
              "      box-shadow: 0px 1px 2px rgba(60, 64, 67, 0.3), 0px 1px 3px 1px rgba(60, 64, 67, 0.15);\n",
              "      fill: #174EA6;\n",
              "    }\n",
              "\n",
              "    [theme=dark] .colab-df-convert {\n",
              "      background-color: #3B4455;\n",
              "      fill: #D2E3FC;\n",
              "    }\n",
              "\n",
              "    [theme=dark] .colab-df-convert:hover {\n",
              "      background-color: #434B5C;\n",
              "      box-shadow: 0px 1px 3px 1px rgba(0, 0, 0, 0.15);\n",
              "      filter: drop-shadow(0px 1px 2px rgba(0, 0, 0, 0.3));\n",
              "      fill: #FFFFFF;\n",
              "    }\n",
              "  </style>\n",
              "\n",
              "      <script>\n",
              "        const buttonEl =\n",
              "          document.querySelector('#df-6d298b42-857a-4c43-9024-c08ee68db2b1 button.colab-df-convert');\n",
              "        buttonEl.style.display =\n",
              "          google.colab.kernel.accessAllowed ? 'block' : 'none';\n",
              "\n",
              "        async function convertToInteractive(key) {\n",
              "          const element = document.querySelector('#df-6d298b42-857a-4c43-9024-c08ee68db2b1');\n",
              "          const dataTable =\n",
              "            await google.colab.kernel.invokeFunction('convertToInteractive',\n",
              "                                                     [key], {});\n",
              "          if (!dataTable) return;\n",
              "\n",
              "          const docLinkHtml = 'Like what you see? Visit the ' +\n",
              "            '<a target=\"_blank\" href=https://colab.research.google.com/notebooks/data_table.ipynb>data table notebook</a>'\n",
              "            + ' to learn more about interactive tables.';\n",
              "          element.innerHTML = '';\n",
              "          dataTable['output_type'] = 'display_data';\n",
              "          await google.colab.output.renderOutput(dataTable, element);\n",
              "          const docLink = document.createElement('div');\n",
              "          docLink.innerHTML = docLinkHtml;\n",
              "          element.appendChild(docLink);\n",
              "        }\n",
              "      </script>\n",
              "    </div>\n",
              "  </div>\n",
              "  "
            ],
            "text/plain": [
              "      elastic_train  elastic_test\n",
              "rmse       4.556673      4.658279\n",
              "mae        2.973764      3.054714\n",
              "mse       20.763265     21.699564\n",
              "R2         0.183654      0.191545"
            ]
          },
          "metadata": {},
          "execution_count": 103
        }
      ]
    },
    {
      "cell_type": "code",
      "source": [
        "enet_cv  = ElasticNetCV(alphas = 10**np.linspace(10,-2,100)*0.5, l1_ratio=[.1,.2,.3,.5,.7,.8,.9,1], \n",
        "                        max_iter=100000, cv = 10, normalize = True)\n",
        "\n",
        "enet_cv.fit(X_train, y_train)\n",
        "enet_cv.alpha_\n",
        "\n",
        "enet_tuned = ElasticNet(alpha = enet_cv.alpha_, l1_ratio=enet_cv.l1_ratio_).fit(X_train, y_train)\n",
        "\n",
        "y_train_pred = enet_tuned.predict(X_train)\n",
        "rmse_train = np.sqrt(mean_squared_error(y_train, y_train_pred))\n",
        "r2_score_train = r2_score(y_train, y_train_pred)\n",
        "\n",
        "y_test_pred = enet_tuned.predict(X_test)\n",
        "rmse_test= np.sqrt(mean_squared_error(y_test, y_test_pred))\n",
        "r2_score_test = r2_score(y_test, y_test_pred)\n",
        "\n",
        "\n",
        "print('Optimal lambda: ', enet_cv.alpha_)\n",
        "print(\"Optimal l1_ratio\", enet_cv.l1_ratio_)\n",
        "\n",
        "print()\n",
        "\n",
        "print(\"Train Results\")\n",
        "print('rmse:', rmse_train)\n",
        "print('r2: ', r2_score_train)\n",
        "\n",
        "print()\n",
        "\n",
        "print(\"Test Results\")\n",
        "print('rmse:', rmse_test)\n",
        "print('r2: ', r2_score_test)"
      ],
      "metadata": {
        "id": "AZlORU-Y-QqQ",
        "outputId": "66c21578-9268-473d-ae94-f839d4ee468a",
        "colab": {
          "base_uri": "https://localhost:8080/"
        }
      },
      "execution_count": null,
      "outputs": [
        {
          "output_type": "stream",
          "name": "stdout",
          "text": [
            "Optimal lambda:  0.005\n",
            "Optimal l1_ratio 0.9\n",
            "\n",
            "Train Results\n",
            "rmse: 1.7792746125433059\n",
            "r2:  0.8755300903741501\n",
            "\n",
            "Test Results\n",
            "rmse: 1.8136459931297642\n",
            "r2:  0.8774509436017539\n"
          ]
        }
      ]
    },
    {
      "cell_type": "code",
      "source": [
        "elastic_cv_scores = {\"elastic_cv_train\": {\"rmse\" : np.sqrt(mean_squared_error(y_train, y_train_pred)),\n",
        "    \"mae\" : mean_absolute_error(y_train, y_train_pred),\n",
        "    \"mse\" : mean_squared_error(y_train, y_train_pred),\n",
        "    \"R2\" : r2_score(y_train, y_train_pred)}, \n",
        "\n",
        "    \"elastic_cv_test\": {\"rmse\" : np.sqrt(mean_squared_error(y_test, y_test_pred)),\n",
        "    \"mae\" : mean_absolute_error(y_test, y_test_pred),\n",
        "    \"mse\" : mean_squared_error(y_test, y_test_pred),\n",
        "    \"R2\" : r2_score(y_test, y_test_pred)}}\n",
        "ecvs = pd.DataFrame(elastic_cv_scores)"
      ],
      "metadata": {
        "id": "9ZsQxghB-QmU"
      },
      "execution_count": null,
      "outputs": []
    },
    {
      "cell_type": "code",
      "source": [
        "from sklearn.model_selection import GridSearchCV"
      ],
      "metadata": {
        "id": "73QReVuS-Qh9"
      },
      "execution_count": null,
      "outputs": []
    },
    {
      "cell_type": "code",
      "source": [
        "elastic_model = ElasticNet(max_iter=100000)"
      ],
      "metadata": {
        "id": "oEZrMPbM-x9e"
      },
      "execution_count": null,
      "outputs": []
    },
    {
      "cell_type": "code",
      "source": [
        "param_grid ={\"alpha\":[0.01, 0.02, 0.1, 1, 5, 10, 50, 100],\n",
        "            \"l1_ratio\":[0.1, 0.5, 0.7, 0.9, 0.95, 0.99, 1]}"
      ],
      "metadata": {
        "id": "tJeX0ySw-x5J"
      },
      "execution_count": null,
      "outputs": []
    },
    {
      "cell_type": "code",
      "source": [
        "grid_model = GridSearchCV(estimator = elastic_model, param_grid = param_grid, scoring = 'neg_root_mean_squared_error',\n",
        "                         cv =10, verbose =2)"
      ],
      "metadata": {
        "id": "oh1h3vS_-1ZU"
      },
      "execution_count": null,
      "outputs": []
    },
    {
      "cell_type": "code",
      "source": [
        "grid_model.fit(X_train, y_train)"
      ],
      "metadata": {
        "id": "xIW2-YcV-6uI",
        "outputId": "62a5bd62-c8fc-426e-c182-ad39e128d197",
        "colab": {
          "base_uri": "https://localhost:8080/"
        }
      },
      "execution_count": null,
      "outputs": [
        {
          "output_type": "stream",
          "name": "stdout",
          "text": [
            "Fitting 10 folds for each of 56 candidates, totalling 560 fits\n",
            "[CV] END ...........................alpha=0.01, l1_ratio=0.1; total time=   0.0s\n",
            "[CV] END ...........................alpha=0.01, l1_ratio=0.1; total time=   0.0s\n",
            "[CV] END ...........................alpha=0.01, l1_ratio=0.1; total time=   0.0s\n",
            "[CV] END ...........................alpha=0.01, l1_ratio=0.1; total time=   0.0s\n",
            "[CV] END ...........................alpha=0.01, l1_ratio=0.1; total time=   0.0s\n",
            "[CV] END ...........................alpha=0.01, l1_ratio=0.1; total time=   0.0s\n",
            "[CV] END ...........................alpha=0.01, l1_ratio=0.1; total time=   0.0s\n",
            "[CV] END ...........................alpha=0.01, l1_ratio=0.1; total time=   0.0s\n",
            "[CV] END ...........................alpha=0.01, l1_ratio=0.1; total time=   0.0s\n",
            "[CV] END ...........................alpha=0.01, l1_ratio=0.1; total time=   0.0s\n",
            "[CV] END ...........................alpha=0.01, l1_ratio=0.5; total time=   0.0s\n",
            "[CV] END ...........................alpha=0.01, l1_ratio=0.5; total time=   0.0s\n",
            "[CV] END ...........................alpha=0.01, l1_ratio=0.5; total time=   0.0s\n",
            "[CV] END ...........................alpha=0.01, l1_ratio=0.5; total time=   0.0s\n",
            "[CV] END ...........................alpha=0.01, l1_ratio=0.5; total time=   0.0s\n",
            "[CV] END ...........................alpha=0.01, l1_ratio=0.5; total time=   0.0s\n",
            "[CV] END ...........................alpha=0.01, l1_ratio=0.5; total time=   0.0s\n",
            "[CV] END ...........................alpha=0.01, l1_ratio=0.5; total time=   0.0s\n",
            "[CV] END ...........................alpha=0.01, l1_ratio=0.5; total time=   0.0s\n",
            "[CV] END ...........................alpha=0.01, l1_ratio=0.5; total time=   0.0s\n",
            "[CV] END ...........................alpha=0.01, l1_ratio=0.7; total time=   0.0s\n",
            "[CV] END ...........................alpha=0.01, l1_ratio=0.7; total time=   0.0s\n",
            "[CV] END ...........................alpha=0.01, l1_ratio=0.7; total time=   0.0s\n",
            "[CV] END ...........................alpha=0.01, l1_ratio=0.7; total time=   0.0s\n",
            "[CV] END ...........................alpha=0.01, l1_ratio=0.7; total time=   0.0s\n",
            "[CV] END ...........................alpha=0.01, l1_ratio=0.7; total time=   0.0s\n",
            "[CV] END ...........................alpha=0.01, l1_ratio=0.7; total time=   0.0s\n",
            "[CV] END ...........................alpha=0.01, l1_ratio=0.7; total time=   0.0s\n",
            "[CV] END ...........................alpha=0.01, l1_ratio=0.7; total time=   0.0s\n",
            "[CV] END ...........................alpha=0.01, l1_ratio=0.7; total time=   0.0s\n",
            "[CV] END ...........................alpha=0.01, l1_ratio=0.9; total time=   0.0s\n",
            "[CV] END ...........................alpha=0.01, l1_ratio=0.9; total time=   0.0s\n",
            "[CV] END ...........................alpha=0.01, l1_ratio=0.9; total time=   0.0s\n",
            "[CV] END ...........................alpha=0.01, l1_ratio=0.9; total time=   0.0s\n",
            "[CV] END ...........................alpha=0.01, l1_ratio=0.9; total time=   0.0s\n",
            "[CV] END ...........................alpha=0.01, l1_ratio=0.9; total time=   0.0s\n",
            "[CV] END ...........................alpha=0.01, l1_ratio=0.9; total time=   0.0s\n",
            "[CV] END ...........................alpha=0.01, l1_ratio=0.9; total time=   0.0s\n",
            "[CV] END ...........................alpha=0.01, l1_ratio=0.9; total time=   0.0s\n",
            "[CV] END ...........................alpha=0.01, l1_ratio=0.9; total time=   0.0s\n",
            "[CV] END ..........................alpha=0.01, l1_ratio=0.95; total time=   0.0s\n",
            "[CV] END ..........................alpha=0.01, l1_ratio=0.95; total time=   0.0s\n",
            "[CV] END ..........................alpha=0.01, l1_ratio=0.95; total time=   0.0s\n",
            "[CV] END ..........................alpha=0.01, l1_ratio=0.95; total time=   0.0s\n",
            "[CV] END ..........................alpha=0.01, l1_ratio=0.95; total time=   0.0s\n",
            "[CV] END ..........................alpha=0.01, l1_ratio=0.95; total time=   0.0s\n",
            "[CV] END ..........................alpha=0.01, l1_ratio=0.95; total time=   0.0s\n",
            "[CV] END ..........................alpha=0.01, l1_ratio=0.95; total time=   0.0s\n",
            "[CV] END ..........................alpha=0.01, l1_ratio=0.95; total time=   0.0s\n",
            "[CV] END ..........................alpha=0.01, l1_ratio=0.95; total time=   0.0s\n",
            "[CV] END ..........................alpha=0.01, l1_ratio=0.99; total time=   0.0s\n",
            "[CV] END ..........................alpha=0.01, l1_ratio=0.99; total time=   0.0s\n",
            "[CV] END ..........................alpha=0.01, l1_ratio=0.99; total time=   0.0s\n",
            "[CV] END ..........................alpha=0.01, l1_ratio=0.99; total time=   0.0s\n",
            "[CV] END ..........................alpha=0.01, l1_ratio=0.99; total time=   0.0s\n",
            "[CV] END ..........................alpha=0.01, l1_ratio=0.99; total time=   0.0s\n",
            "[CV] END ..........................alpha=0.01, l1_ratio=0.99; total time=   0.0s\n",
            "[CV] END ..........................alpha=0.01, l1_ratio=0.99; total time=   0.0s\n",
            "[CV] END ..........................alpha=0.01, l1_ratio=0.99; total time=   0.0s\n",
            "[CV] END ..........................alpha=0.01, l1_ratio=0.99; total time=   0.0s\n",
            "[CV] END .............................alpha=0.01, l1_ratio=1; total time=   0.0s\n",
            "[CV] END .............................alpha=0.01, l1_ratio=1; total time=   0.0s\n",
            "[CV] END .............................alpha=0.01, l1_ratio=1; total time=   0.0s\n",
            "[CV] END .............................alpha=0.01, l1_ratio=1; total time=   0.0s\n",
            "[CV] END .............................alpha=0.01, l1_ratio=1; total time=   0.0s\n",
            "[CV] END .............................alpha=0.01, l1_ratio=1; total time=   0.0s\n",
            "[CV] END .............................alpha=0.01, l1_ratio=1; total time=   0.0s\n",
            "[CV] END .............................alpha=0.01, l1_ratio=1; total time=   0.0s\n",
            "[CV] END .............................alpha=0.01, l1_ratio=1; total time=   0.0s\n",
            "[CV] END .............................alpha=0.01, l1_ratio=1; total time=   0.0s\n",
            "[CV] END ...........................alpha=0.02, l1_ratio=0.1; total time=   0.0s\n",
            "[CV] END ...........................alpha=0.02, l1_ratio=0.1; total time=   0.0s\n",
            "[CV] END ...........................alpha=0.02, l1_ratio=0.1; total time=   0.0s\n",
            "[CV] END ...........................alpha=0.02, l1_ratio=0.1; total time=   0.0s\n",
            "[CV] END ...........................alpha=0.02, l1_ratio=0.1; total time=   0.0s\n",
            "[CV] END ...........................alpha=0.02, l1_ratio=0.1; total time=   0.0s\n",
            "[CV] END ...........................alpha=0.02, l1_ratio=0.1; total time=   0.0s\n",
            "[CV] END ...........................alpha=0.02, l1_ratio=0.1; total time=   0.0s\n",
            "[CV] END ...........................alpha=0.02, l1_ratio=0.1; total time=   0.0s\n",
            "[CV] END ...........................alpha=0.02, l1_ratio=0.1; total time=   0.0s\n",
            "[CV] END ...........................alpha=0.02, l1_ratio=0.5; total time=   0.0s\n",
            "[CV] END ...........................alpha=0.02, l1_ratio=0.5; total time=   0.0s\n",
            "[CV] END ...........................alpha=0.02, l1_ratio=0.5; total time=   0.0s\n",
            "[CV] END ...........................alpha=0.02, l1_ratio=0.5; total time=   0.0s\n",
            "[CV] END ...........................alpha=0.02, l1_ratio=0.5; total time=   0.0s\n",
            "[CV] END ...........................alpha=0.02, l1_ratio=0.5; total time=   0.0s\n",
            "[CV] END ...........................alpha=0.02, l1_ratio=0.5; total time=   0.0s\n",
            "[CV] END ...........................alpha=0.02, l1_ratio=0.5; total time=   0.0s\n",
            "[CV] END ...........................alpha=0.02, l1_ratio=0.5; total time=   0.0s\n",
            "[CV] END ...........................alpha=0.02, l1_ratio=0.5; total time=   0.0s\n",
            "[CV] END ...........................alpha=0.02, l1_ratio=0.7; total time=   0.0s\n",
            "[CV] END ...........................alpha=0.02, l1_ratio=0.7; total time=   0.0s\n",
            "[CV] END ...........................alpha=0.02, l1_ratio=0.7; total time=   0.0s\n",
            "[CV] END ...........................alpha=0.02, l1_ratio=0.7; total time=   0.0s\n",
            "[CV] END ...........................alpha=0.02, l1_ratio=0.7; total time=   0.0s\n",
            "[CV] END ...........................alpha=0.02, l1_ratio=0.7; total time=   0.0s\n",
            "[CV] END ...........................alpha=0.02, l1_ratio=0.7; total time=   0.0s\n",
            "[CV] END ...........................alpha=0.02, l1_ratio=0.7; total time=   0.0s\n",
            "[CV] END ...........................alpha=0.02, l1_ratio=0.7; total time=   0.0s\n",
            "[CV] END ...........................alpha=0.02, l1_ratio=0.7; total time=   0.0s\n",
            "[CV] END ...........................alpha=0.02, l1_ratio=0.9; total time=   0.0s\n",
            "[CV] END ...........................alpha=0.02, l1_ratio=0.9; total time=   0.0s\n",
            "[CV] END ...........................alpha=0.02, l1_ratio=0.9; total time=   0.0s\n",
            "[CV] END ...........................alpha=0.02, l1_ratio=0.9; total time=   0.0s\n",
            "[CV] END ...........................alpha=0.02, l1_ratio=0.9; total time=   0.0s\n",
            "[CV] END ...........................alpha=0.02, l1_ratio=0.9; total time=   0.0s\n",
            "[CV] END ...........................alpha=0.02, l1_ratio=0.9; total time=   0.0s\n",
            "[CV] END ...........................alpha=0.02, l1_ratio=0.9; total time=   0.0s\n",
            "[CV] END ...........................alpha=0.02, l1_ratio=0.9; total time=   0.0s\n",
            "[CV] END ...........................alpha=0.02, l1_ratio=0.9; total time=   0.0s\n",
            "[CV] END ..........................alpha=0.02, l1_ratio=0.95; total time=   0.0s\n",
            "[CV] END ..........................alpha=0.02, l1_ratio=0.95; total time=   0.0s\n",
            "[CV] END ..........................alpha=0.02, l1_ratio=0.95; total time=   0.0s\n",
            "[CV] END ..........................alpha=0.02, l1_ratio=0.95; total time=   0.0s\n",
            "[CV] END ..........................alpha=0.02, l1_ratio=0.95; total time=   0.0s\n",
            "[CV] END ..........................alpha=0.02, l1_ratio=0.95; total time=   0.0s\n",
            "[CV] END ..........................alpha=0.02, l1_ratio=0.95; total time=   0.0s\n",
            "[CV] END ..........................alpha=0.02, l1_ratio=0.95; total time=   0.0s\n",
            "[CV] END ..........................alpha=0.02, l1_ratio=0.95; total time=   0.0s\n",
            "[CV] END ..........................alpha=0.02, l1_ratio=0.95; total time=   0.0s\n",
            "[CV] END ..........................alpha=0.02, l1_ratio=0.99; total time=   0.0s\n",
            "[CV] END ..........................alpha=0.02, l1_ratio=0.99; total time=   0.0s\n",
            "[CV] END ..........................alpha=0.02, l1_ratio=0.99; total time=   0.0s\n",
            "[CV] END ..........................alpha=0.02, l1_ratio=0.99; total time=   0.0s\n",
            "[CV] END ..........................alpha=0.02, l1_ratio=0.99; total time=   0.0s\n",
            "[CV] END ..........................alpha=0.02, l1_ratio=0.99; total time=   0.0s\n",
            "[CV] END ..........................alpha=0.02, l1_ratio=0.99; total time=   0.0s\n",
            "[CV] END ..........................alpha=0.02, l1_ratio=0.99; total time=   0.0s\n",
            "[CV] END ..........................alpha=0.02, l1_ratio=0.99; total time=   0.0s\n",
            "[CV] END ..........................alpha=0.02, l1_ratio=0.99; total time=   0.0s\n",
            "[CV] END .............................alpha=0.02, l1_ratio=1; total time=   0.0s\n",
            "[CV] END .............................alpha=0.02, l1_ratio=1; total time=   0.0s\n",
            "[CV] END .............................alpha=0.02, l1_ratio=1; total time=   0.0s\n",
            "[CV] END .............................alpha=0.02, l1_ratio=1; total time=   0.0s\n",
            "[CV] END .............................alpha=0.02, l1_ratio=1; total time=   0.0s\n",
            "[CV] END .............................alpha=0.02, l1_ratio=1; total time=   0.0s\n",
            "[CV] END .............................alpha=0.02, l1_ratio=1; total time=   0.0s\n",
            "[CV] END .............................alpha=0.02, l1_ratio=1; total time=   0.0s\n",
            "[CV] END .............................alpha=0.02, l1_ratio=1; total time=   0.0s\n",
            "[CV] END .............................alpha=0.02, l1_ratio=1; total time=   0.0s\n",
            "[CV] END ............................alpha=0.1, l1_ratio=0.1; total time=   0.0s\n",
            "[CV] END ............................alpha=0.1, l1_ratio=0.1; total time=   0.0s\n",
            "[CV] END ............................alpha=0.1, l1_ratio=0.1; total time=   0.0s\n",
            "[CV] END ............................alpha=0.1, l1_ratio=0.1; total time=   0.0s\n",
            "[CV] END ............................alpha=0.1, l1_ratio=0.1; total time=   0.0s\n",
            "[CV] END ............................alpha=0.1, l1_ratio=0.1; total time=   0.0s\n",
            "[CV] END ............................alpha=0.1, l1_ratio=0.1; total time=   0.0s\n",
            "[CV] END ............................alpha=0.1, l1_ratio=0.1; total time=   0.0s\n",
            "[CV] END ............................alpha=0.1, l1_ratio=0.1; total time=   0.0s\n",
            "[CV] END ............................alpha=0.1, l1_ratio=0.1; total time=   0.0s\n",
            "[CV] END ............................alpha=0.1, l1_ratio=0.5; total time=   0.0s\n",
            "[CV] END ............................alpha=0.1, l1_ratio=0.5; total time=   0.0s\n",
            "[CV] END ............................alpha=0.1, l1_ratio=0.5; total time=   0.0s\n",
            "[CV] END ............................alpha=0.1, l1_ratio=0.5; total time=   0.0s\n",
            "[CV] END ............................alpha=0.1, l1_ratio=0.5; total time=   0.0s\n",
            "[CV] END ............................alpha=0.1, l1_ratio=0.5; total time=   0.0s\n",
            "[CV] END ............................alpha=0.1, l1_ratio=0.5; total time=   0.0s\n",
            "[CV] END ............................alpha=0.1, l1_ratio=0.5; total time=   0.0s\n",
            "[CV] END ............................alpha=0.1, l1_ratio=0.5; total time=   0.0s\n",
            "[CV] END ............................alpha=0.1, l1_ratio=0.5; total time=   0.0s\n",
            "[CV] END ............................alpha=0.1, l1_ratio=0.7; total time=   0.0s\n",
            "[CV] END ............................alpha=0.1, l1_ratio=0.7; total time=   0.0s\n",
            "[CV] END ............................alpha=0.1, l1_ratio=0.7; total time=   0.0s\n",
            "[CV] END ............................alpha=0.1, l1_ratio=0.7; total time=   0.0s\n",
            "[CV] END ............................alpha=0.1, l1_ratio=0.7; total time=   0.0s\n",
            "[CV] END ............................alpha=0.1, l1_ratio=0.7; total time=   0.0s\n",
            "[CV] END ............................alpha=0.1, l1_ratio=0.7; total time=   0.0s\n",
            "[CV] END ............................alpha=0.1, l1_ratio=0.7; total time=   0.0s\n",
            "[CV] END ............................alpha=0.1, l1_ratio=0.7; total time=   0.0s\n",
            "[CV] END ............................alpha=0.1, l1_ratio=0.7; total time=   0.0s\n",
            "[CV] END ............................alpha=0.1, l1_ratio=0.9; total time=   0.0s\n",
            "[CV] END ............................alpha=0.1, l1_ratio=0.9; total time=   0.0s\n",
            "[CV] END ............................alpha=0.1, l1_ratio=0.9; total time=   0.0s\n",
            "[CV] END ............................alpha=0.1, l1_ratio=0.9; total time=   0.0s\n",
            "[CV] END ............................alpha=0.1, l1_ratio=0.9; total time=   0.0s\n",
            "[CV] END ............................alpha=0.1, l1_ratio=0.9; total time=   0.0s\n",
            "[CV] END ............................alpha=0.1, l1_ratio=0.9; total time=   0.0s\n",
            "[CV] END ............................alpha=0.1, l1_ratio=0.9; total time=   0.0s\n",
            "[CV] END ............................alpha=0.1, l1_ratio=0.9; total time=   0.0s\n",
            "[CV] END ............................alpha=0.1, l1_ratio=0.9; total time=   0.0s\n",
            "[CV] END ...........................alpha=0.1, l1_ratio=0.95; total time=   0.0s\n",
            "[CV] END ...........................alpha=0.1, l1_ratio=0.95; total time=   0.0s\n",
            "[CV] END ...........................alpha=0.1, l1_ratio=0.95; total time=   0.0s\n",
            "[CV] END ...........................alpha=0.1, l1_ratio=0.95; total time=   0.0s\n",
            "[CV] END ...........................alpha=0.1, l1_ratio=0.95; total time=   0.0s\n",
            "[CV] END ...........................alpha=0.1, l1_ratio=0.95; total time=   0.0s\n",
            "[CV] END ...........................alpha=0.1, l1_ratio=0.95; total time=   0.0s\n",
            "[CV] END ...........................alpha=0.1, l1_ratio=0.95; total time=   0.0s\n",
            "[CV] END ...........................alpha=0.1, l1_ratio=0.95; total time=   0.0s\n",
            "[CV] END ...........................alpha=0.1, l1_ratio=0.95; total time=   0.0s\n",
            "[CV] END ...........................alpha=0.1, l1_ratio=0.99; total time=   0.0s\n",
            "[CV] END ...........................alpha=0.1, l1_ratio=0.99; total time=   0.0s\n",
            "[CV] END ...........................alpha=0.1, l1_ratio=0.99; total time=   0.0s\n",
            "[CV] END ...........................alpha=0.1, l1_ratio=0.99; total time=   0.0s\n",
            "[CV] END ...........................alpha=0.1, l1_ratio=0.99; total time=   0.0s\n",
            "[CV] END ...........................alpha=0.1, l1_ratio=0.99; total time=   0.0s\n",
            "[CV] END ...........................alpha=0.1, l1_ratio=0.99; total time=   0.0s\n",
            "[CV] END ...........................alpha=0.1, l1_ratio=0.99; total time=   0.0s\n",
            "[CV] END ...........................alpha=0.1, l1_ratio=0.99; total time=   0.0s\n",
            "[CV] END ...........................alpha=0.1, l1_ratio=0.99; total time=   0.0s\n",
            "[CV] END ..............................alpha=0.1, l1_ratio=1; total time=   0.0s\n",
            "[CV] END ..............................alpha=0.1, l1_ratio=1; total time=   0.0s\n",
            "[CV] END ..............................alpha=0.1, l1_ratio=1; total time=   0.0s\n",
            "[CV] END ..............................alpha=0.1, l1_ratio=1; total time=   0.0s\n",
            "[CV] END ..............................alpha=0.1, l1_ratio=1; total time=   0.0s\n",
            "[CV] END ..............................alpha=0.1, l1_ratio=1; total time=   0.0s\n",
            "[CV] END ..............................alpha=0.1, l1_ratio=1; total time=   0.0s\n",
            "[CV] END ..............................alpha=0.1, l1_ratio=1; total time=   0.0s\n",
            "[CV] END ..............................alpha=0.1, l1_ratio=1; total time=   0.0s\n",
            "[CV] END ..............................alpha=0.1, l1_ratio=1; total time=   0.0s\n",
            "[CV] END ..............................alpha=1, l1_ratio=0.1; total time=   0.0s\n",
            "[CV] END ..............................alpha=1, l1_ratio=0.1; total time=   0.0s\n",
            "[CV] END ..............................alpha=1, l1_ratio=0.1; total time=   0.0s\n",
            "[CV] END ..............................alpha=1, l1_ratio=0.1; total time=   0.0s\n",
            "[CV] END ..............................alpha=1, l1_ratio=0.1; total time=   0.0s\n",
            "[CV] END ..............................alpha=1, l1_ratio=0.1; total time=   0.0s\n",
            "[CV] END ..............................alpha=1, l1_ratio=0.1; total time=   0.0s\n",
            "[CV] END ..............................alpha=1, l1_ratio=0.1; total time=   0.0s\n",
            "[CV] END ..............................alpha=1, l1_ratio=0.1; total time=   0.0s\n",
            "[CV] END ..............................alpha=1, l1_ratio=0.1; total time=   0.0s\n",
            "[CV] END ..............................alpha=1, l1_ratio=0.5; total time=   0.0s\n",
            "[CV] END ..............................alpha=1, l1_ratio=0.5; total time=   0.0s\n",
            "[CV] END ..............................alpha=1, l1_ratio=0.5; total time=   0.0s\n",
            "[CV] END ..............................alpha=1, l1_ratio=0.5; total time=   0.0s\n",
            "[CV] END ..............................alpha=1, l1_ratio=0.5; total time=   0.0s\n",
            "[CV] END ..............................alpha=1, l1_ratio=0.5; total time=   0.0s\n",
            "[CV] END ..............................alpha=1, l1_ratio=0.5; total time=   0.0s\n",
            "[CV] END ..............................alpha=1, l1_ratio=0.5; total time=   0.0s\n",
            "[CV] END ..............................alpha=1, l1_ratio=0.5; total time=   0.0s\n",
            "[CV] END ..............................alpha=1, l1_ratio=0.5; total time=   0.0s\n",
            "[CV] END ..............................alpha=1, l1_ratio=0.7; total time=   0.0s\n",
            "[CV] END ..............................alpha=1, l1_ratio=0.7; total time=   0.0s\n",
            "[CV] END ..............................alpha=1, l1_ratio=0.7; total time=   0.0s\n",
            "[CV] END ..............................alpha=1, l1_ratio=0.7; total time=   0.0s\n",
            "[CV] END ..............................alpha=1, l1_ratio=0.7; total time=   0.0s\n",
            "[CV] END ..............................alpha=1, l1_ratio=0.7; total time=   0.0s\n",
            "[CV] END ..............................alpha=1, l1_ratio=0.7; total time=   0.0s\n",
            "[CV] END ..............................alpha=1, l1_ratio=0.7; total time=   0.0s\n",
            "[CV] END ..............................alpha=1, l1_ratio=0.7; total time=   0.0s\n",
            "[CV] END ..............................alpha=1, l1_ratio=0.7; total time=   0.0s\n",
            "[CV] END ..............................alpha=1, l1_ratio=0.9; total time=   0.0s\n",
            "[CV] END ..............................alpha=1, l1_ratio=0.9; total time=   0.0s\n",
            "[CV] END ..............................alpha=1, l1_ratio=0.9; total time=   0.0s\n",
            "[CV] END ..............................alpha=1, l1_ratio=0.9; total time=   0.0s\n",
            "[CV] END ..............................alpha=1, l1_ratio=0.9; total time=   0.0s\n",
            "[CV] END ..............................alpha=1, l1_ratio=0.9; total time=   0.0s\n",
            "[CV] END ..............................alpha=1, l1_ratio=0.9; total time=   0.0s\n",
            "[CV] END ..............................alpha=1, l1_ratio=0.9; total time=   0.0s\n",
            "[CV] END ..............................alpha=1, l1_ratio=0.9; total time=   0.0s\n",
            "[CV] END ..............................alpha=1, l1_ratio=0.9; total time=   0.0s\n",
            "[CV] END .............................alpha=1, l1_ratio=0.95; total time=   0.0s\n",
            "[CV] END .............................alpha=1, l1_ratio=0.95; total time=   0.0s\n",
            "[CV] END .............................alpha=1, l1_ratio=0.95; total time=   0.0s\n",
            "[CV] END .............................alpha=1, l1_ratio=0.95; total time=   0.0s\n",
            "[CV] END .............................alpha=1, l1_ratio=0.95; total time=   0.0s\n",
            "[CV] END .............................alpha=1, l1_ratio=0.95; total time=   0.0s\n",
            "[CV] END .............................alpha=1, l1_ratio=0.95; total time=   0.0s\n",
            "[CV] END .............................alpha=1, l1_ratio=0.95; total time=   0.0s\n",
            "[CV] END .............................alpha=1, l1_ratio=0.95; total time=   0.0s\n",
            "[CV] END .............................alpha=1, l1_ratio=0.95; total time=   0.0s\n",
            "[CV] END .............................alpha=1, l1_ratio=0.99; total time=   0.0s\n",
            "[CV] END .............................alpha=1, l1_ratio=0.99; total time=   0.0s\n",
            "[CV] END .............................alpha=1, l1_ratio=0.99; total time=   0.0s\n",
            "[CV] END .............................alpha=1, l1_ratio=0.99; total time=   0.0s\n",
            "[CV] END .............................alpha=1, l1_ratio=0.99; total time=   0.0s\n",
            "[CV] END .............................alpha=1, l1_ratio=0.99; total time=   0.0s\n",
            "[CV] END .............................alpha=1, l1_ratio=0.99; total time=   0.0s\n",
            "[CV] END .............................alpha=1, l1_ratio=0.99; total time=   0.0s\n",
            "[CV] END .............................alpha=1, l1_ratio=0.99; total time=   0.0s\n",
            "[CV] END .............................alpha=1, l1_ratio=0.99; total time=   0.0s\n",
            "[CV] END ................................alpha=1, l1_ratio=1; total time=   0.0s\n",
            "[CV] END ................................alpha=1, l1_ratio=1; total time=   0.0s\n",
            "[CV] END ................................alpha=1, l1_ratio=1; total time=   0.0s\n",
            "[CV] END ................................alpha=1, l1_ratio=1; total time=   0.0s\n",
            "[CV] END ................................alpha=1, l1_ratio=1; total time=   0.0s\n",
            "[CV] END ................................alpha=1, l1_ratio=1; total time=   0.0s\n",
            "[CV] END ................................alpha=1, l1_ratio=1; total time=   0.0s\n",
            "[CV] END ................................alpha=1, l1_ratio=1; total time=   0.0s\n",
            "[CV] END ................................alpha=1, l1_ratio=1; total time=   0.0s\n",
            "[CV] END ................................alpha=1, l1_ratio=1; total time=   0.0s\n",
            "[CV] END ..............................alpha=5, l1_ratio=0.1; total time=   0.0s\n",
            "[CV] END ..............................alpha=5, l1_ratio=0.1; total time=   0.0s\n",
            "[CV] END ..............................alpha=5, l1_ratio=0.1; total time=   0.0s\n",
            "[CV] END ..............................alpha=5, l1_ratio=0.1; total time=   0.0s\n",
            "[CV] END ..............................alpha=5, l1_ratio=0.1; total time=   0.0s\n",
            "[CV] END ..............................alpha=5, l1_ratio=0.1; total time=   0.0s\n",
            "[CV] END ..............................alpha=5, l1_ratio=0.1; total time=   0.0s\n",
            "[CV] END ..............................alpha=5, l1_ratio=0.1; total time=   0.0s\n",
            "[CV] END ..............................alpha=5, l1_ratio=0.1; total time=   0.0s\n",
            "[CV] END ..............................alpha=5, l1_ratio=0.1; total time=   0.0s\n",
            "[CV] END ..............................alpha=5, l1_ratio=0.5; total time=   0.0s\n",
            "[CV] END ..............................alpha=5, l1_ratio=0.5; total time=   0.0s\n",
            "[CV] END ..............................alpha=5, l1_ratio=0.5; total time=   0.0s\n",
            "[CV] END ..............................alpha=5, l1_ratio=0.5; total time=   0.0s\n",
            "[CV] END ..............................alpha=5, l1_ratio=0.5; total time=   0.0s\n",
            "[CV] END ..............................alpha=5, l1_ratio=0.5; total time=   0.0s\n",
            "[CV] END ..............................alpha=5, l1_ratio=0.5; total time=   0.0s\n",
            "[CV] END ..............................alpha=5, l1_ratio=0.5; total time=   0.0s\n",
            "[CV] END ..............................alpha=5, l1_ratio=0.5; total time=   0.0s\n",
            "[CV] END ..............................alpha=5, l1_ratio=0.5; total time=   0.0s\n",
            "[CV] END ..............................alpha=5, l1_ratio=0.7; total time=   0.0s\n",
            "[CV] END ..............................alpha=5, l1_ratio=0.7; total time=   0.0s\n",
            "[CV] END ..............................alpha=5, l1_ratio=0.7; total time=   0.0s\n",
            "[CV] END ..............................alpha=5, l1_ratio=0.7; total time=   0.0s\n",
            "[CV] END ..............................alpha=5, l1_ratio=0.7; total time=   0.0s\n",
            "[CV] END ..............................alpha=5, l1_ratio=0.7; total time=   0.0s\n",
            "[CV] END ..............................alpha=5, l1_ratio=0.7; total time=   0.0s\n",
            "[CV] END ..............................alpha=5, l1_ratio=0.7; total time=   0.0s\n",
            "[CV] END ..............................alpha=5, l1_ratio=0.7; total time=   0.0s\n",
            "[CV] END ..............................alpha=5, l1_ratio=0.7; total time=   0.0s\n",
            "[CV] END ..............................alpha=5, l1_ratio=0.9; total time=   0.0s\n",
            "[CV] END ..............................alpha=5, l1_ratio=0.9; total time=   0.0s\n",
            "[CV] END ..............................alpha=5, l1_ratio=0.9; total time=   0.0s\n",
            "[CV] END ..............................alpha=5, l1_ratio=0.9; total time=   0.0s\n",
            "[CV] END ..............................alpha=5, l1_ratio=0.9; total time=   0.0s\n",
            "[CV] END ..............................alpha=5, l1_ratio=0.9; total time=   0.0s\n",
            "[CV] END ..............................alpha=5, l1_ratio=0.9; total time=   0.0s\n",
            "[CV] END ..............................alpha=5, l1_ratio=0.9; total time=   0.0s\n",
            "[CV] END ..............................alpha=5, l1_ratio=0.9; total time=   0.0s\n",
            "[CV] END ..............................alpha=5, l1_ratio=0.9; total time=   0.0s\n",
            "[CV] END .............................alpha=5, l1_ratio=0.95; total time=   0.0s\n",
            "[CV] END .............................alpha=5, l1_ratio=0.95; total time=   0.0s\n",
            "[CV] END .............................alpha=5, l1_ratio=0.95; total time=   0.0s\n",
            "[CV] END .............................alpha=5, l1_ratio=0.95; total time=   0.0s\n",
            "[CV] END .............................alpha=5, l1_ratio=0.95; total time=   0.0s\n",
            "[CV] END .............................alpha=5, l1_ratio=0.95; total time=   0.0s\n",
            "[CV] END .............................alpha=5, l1_ratio=0.95; total time=   0.0s\n",
            "[CV] END .............................alpha=5, l1_ratio=0.95; total time=   0.0s\n",
            "[CV] END .............................alpha=5, l1_ratio=0.95; total time=   0.0s\n",
            "[CV] END .............................alpha=5, l1_ratio=0.95; total time=   0.0s\n",
            "[CV] END .............................alpha=5, l1_ratio=0.99; total time=   0.0s\n",
            "[CV] END .............................alpha=5, l1_ratio=0.99; total time=   0.0s\n",
            "[CV] END .............................alpha=5, l1_ratio=0.99; total time=   0.0s\n",
            "[CV] END .............................alpha=5, l1_ratio=0.99; total time=   0.0s\n",
            "[CV] END .............................alpha=5, l1_ratio=0.99; total time=   0.0s\n",
            "[CV] END .............................alpha=5, l1_ratio=0.99; total time=   0.0s\n",
            "[CV] END .............................alpha=5, l1_ratio=0.99; total time=   0.0s\n",
            "[CV] END .............................alpha=5, l1_ratio=0.99; total time=   0.0s\n",
            "[CV] END .............................alpha=5, l1_ratio=0.99; total time=   0.0s\n",
            "[CV] END .............................alpha=5, l1_ratio=0.99; total time=   0.0s\n",
            "[CV] END ................................alpha=5, l1_ratio=1; total time=   0.0s\n",
            "[CV] END ................................alpha=5, l1_ratio=1; total time=   0.0s\n",
            "[CV] END ................................alpha=5, l1_ratio=1; total time=   0.0s\n",
            "[CV] END ................................alpha=5, l1_ratio=1; total time=   0.0s\n",
            "[CV] END ................................alpha=5, l1_ratio=1; total time=   0.0s\n",
            "[CV] END ................................alpha=5, l1_ratio=1; total time=   0.0s\n",
            "[CV] END ................................alpha=5, l1_ratio=1; total time=   0.0s\n",
            "[CV] END ................................alpha=5, l1_ratio=1; total time=   0.0s\n",
            "[CV] END ................................alpha=5, l1_ratio=1; total time=   0.0s\n",
            "[CV] END ................................alpha=5, l1_ratio=1; total time=   0.0s\n",
            "[CV] END .............................alpha=10, l1_ratio=0.1; total time=   0.0s\n",
            "[CV] END .............................alpha=10, l1_ratio=0.1; total time=   0.0s\n",
            "[CV] END .............................alpha=10, l1_ratio=0.1; total time=   0.0s\n",
            "[CV] END .............................alpha=10, l1_ratio=0.1; total time=   0.0s\n",
            "[CV] END .............................alpha=10, l1_ratio=0.1; total time=   0.0s\n",
            "[CV] END .............................alpha=10, l1_ratio=0.1; total time=   0.0s\n",
            "[CV] END .............................alpha=10, l1_ratio=0.1; total time=   0.0s\n",
            "[CV] END .............................alpha=10, l1_ratio=0.1; total time=   0.0s\n",
            "[CV] END .............................alpha=10, l1_ratio=0.1; total time=   0.0s\n",
            "[CV] END .............................alpha=10, l1_ratio=0.1; total time=   0.0s\n",
            "[CV] END .............................alpha=10, l1_ratio=0.5; total time=   0.0s\n",
            "[CV] END .............................alpha=10, l1_ratio=0.5; total time=   0.0s\n",
            "[CV] END .............................alpha=10, l1_ratio=0.5; total time=   0.0s\n",
            "[CV] END .............................alpha=10, l1_ratio=0.5; total time=   0.0s\n",
            "[CV] END .............................alpha=10, l1_ratio=0.5; total time=   0.0s\n",
            "[CV] END .............................alpha=10, l1_ratio=0.5; total time=   0.0s\n",
            "[CV] END .............................alpha=10, l1_ratio=0.5; total time=   0.0s\n",
            "[CV] END .............................alpha=10, l1_ratio=0.5; total time=   0.0s\n",
            "[CV] END .............................alpha=10, l1_ratio=0.5; total time=   0.0s\n",
            "[CV] END .............................alpha=10, l1_ratio=0.5; total time=   0.0s\n",
            "[CV] END .............................alpha=10, l1_ratio=0.7; total time=   0.0s\n",
            "[CV] END .............................alpha=10, l1_ratio=0.7; total time=   0.0s\n",
            "[CV] END .............................alpha=10, l1_ratio=0.7; total time=   0.0s\n",
            "[CV] END .............................alpha=10, l1_ratio=0.7; total time=   0.0s\n",
            "[CV] END .............................alpha=10, l1_ratio=0.7; total time=   0.0s\n",
            "[CV] END .............................alpha=10, l1_ratio=0.7; total time=   0.0s\n",
            "[CV] END .............................alpha=10, l1_ratio=0.7; total time=   0.0s\n",
            "[CV] END .............................alpha=10, l1_ratio=0.7; total time=   0.0s\n",
            "[CV] END .............................alpha=10, l1_ratio=0.7; total time=   0.0s\n",
            "[CV] END .............................alpha=10, l1_ratio=0.7; total time=   0.0s\n",
            "[CV] END .............................alpha=10, l1_ratio=0.9; total time=   0.0s\n",
            "[CV] END .............................alpha=10, l1_ratio=0.9; total time=   0.0s\n",
            "[CV] END .............................alpha=10, l1_ratio=0.9; total time=   0.0s\n",
            "[CV] END .............................alpha=10, l1_ratio=0.9; total time=   0.0s\n",
            "[CV] END .............................alpha=10, l1_ratio=0.9; total time=   0.0s\n",
            "[CV] END .............................alpha=10, l1_ratio=0.9; total time=   0.0s\n",
            "[CV] END .............................alpha=10, l1_ratio=0.9; total time=   0.0s\n",
            "[CV] END .............................alpha=10, l1_ratio=0.9; total time=   0.0s\n",
            "[CV] END .............................alpha=10, l1_ratio=0.9; total time=   0.0s\n",
            "[CV] END .............................alpha=10, l1_ratio=0.9; total time=   0.0s\n",
            "[CV] END ............................alpha=10, l1_ratio=0.95; total time=   0.0s\n",
            "[CV] END ............................alpha=10, l1_ratio=0.95; total time=   0.0s\n",
            "[CV] END ............................alpha=10, l1_ratio=0.95; total time=   0.0s\n",
            "[CV] END ............................alpha=10, l1_ratio=0.95; total time=   0.0s\n",
            "[CV] END ............................alpha=10, l1_ratio=0.95; total time=   0.0s\n",
            "[CV] END ............................alpha=10, l1_ratio=0.95; total time=   0.0s\n",
            "[CV] END ............................alpha=10, l1_ratio=0.95; total time=   0.0s\n",
            "[CV] END ............................alpha=10, l1_ratio=0.95; total time=   0.0s\n",
            "[CV] END ............................alpha=10, l1_ratio=0.95; total time=   0.0s\n",
            "[CV] END ............................alpha=10, l1_ratio=0.95; total time=   0.0s\n",
            "[CV] END ............................alpha=10, l1_ratio=0.99; total time=   0.0s\n",
            "[CV] END ............................alpha=10, l1_ratio=0.99; total time=   0.0s\n",
            "[CV] END ............................alpha=10, l1_ratio=0.99; total time=   0.0s\n",
            "[CV] END ............................alpha=10, l1_ratio=0.99; total time=   0.0s\n",
            "[CV] END ............................alpha=10, l1_ratio=0.99; total time=   0.0s\n",
            "[CV] END ............................alpha=10, l1_ratio=0.99; total time=   0.0s\n",
            "[CV] END ............................alpha=10, l1_ratio=0.99; total time=   0.0s\n",
            "[CV] END ............................alpha=10, l1_ratio=0.99; total time=   0.0s\n",
            "[CV] END ............................alpha=10, l1_ratio=0.99; total time=   0.0s\n",
            "[CV] END ............................alpha=10, l1_ratio=0.99; total time=   0.0s\n",
            "[CV] END ...............................alpha=10, l1_ratio=1; total time=   0.0s\n",
            "[CV] END ...............................alpha=10, l1_ratio=1; total time=   0.0s\n",
            "[CV] END ...............................alpha=10, l1_ratio=1; total time=   0.0s\n",
            "[CV] END ...............................alpha=10, l1_ratio=1; total time=   0.0s\n",
            "[CV] END ...............................alpha=10, l1_ratio=1; total time=   0.0s\n",
            "[CV] END ...............................alpha=10, l1_ratio=1; total time=   0.0s\n",
            "[CV] END ...............................alpha=10, l1_ratio=1; total time=   0.0s\n",
            "[CV] END ...............................alpha=10, l1_ratio=1; total time=   0.0s\n",
            "[CV] END ...............................alpha=10, l1_ratio=1; total time=   0.0s\n",
            "[CV] END ...............................alpha=10, l1_ratio=1; total time=   0.0s\n",
            "[CV] END .............................alpha=50, l1_ratio=0.1; total time=   0.0s\n",
            "[CV] END .............................alpha=50, l1_ratio=0.1; total time=   0.0s\n",
            "[CV] END .............................alpha=50, l1_ratio=0.1; total time=   0.0s\n",
            "[CV] END .............................alpha=50, l1_ratio=0.1; total time=   0.0s\n",
            "[CV] END .............................alpha=50, l1_ratio=0.1; total time=   0.0s\n",
            "[CV] END .............................alpha=50, l1_ratio=0.1; total time=   0.0s\n",
            "[CV] END .............................alpha=50, l1_ratio=0.1; total time=   0.0s\n",
            "[CV] END .............................alpha=50, l1_ratio=0.1; total time=   0.0s\n",
            "[CV] END .............................alpha=50, l1_ratio=0.1; total time=   0.0s\n",
            "[CV] END .............................alpha=50, l1_ratio=0.1; total time=   0.0s\n",
            "[CV] END .............................alpha=50, l1_ratio=0.5; total time=   0.0s\n",
            "[CV] END .............................alpha=50, l1_ratio=0.5; total time=   0.0s\n",
            "[CV] END .............................alpha=50, l1_ratio=0.5; total time=   0.0s\n",
            "[CV] END .............................alpha=50, l1_ratio=0.5; total time=   0.0s\n",
            "[CV] END .............................alpha=50, l1_ratio=0.5; total time=   0.0s\n",
            "[CV] END .............................alpha=50, l1_ratio=0.5; total time=   0.0s\n",
            "[CV] END .............................alpha=50, l1_ratio=0.5; total time=   0.0s\n",
            "[CV] END .............................alpha=50, l1_ratio=0.5; total time=   0.0s\n",
            "[CV] END .............................alpha=50, l1_ratio=0.5; total time=   0.0s\n",
            "[CV] END .............................alpha=50, l1_ratio=0.5; total time=   0.0s\n",
            "[CV] END .............................alpha=50, l1_ratio=0.7; total time=   0.0s\n",
            "[CV] END .............................alpha=50, l1_ratio=0.7; total time=   0.0s\n",
            "[CV] END .............................alpha=50, l1_ratio=0.7; total time=   0.0s\n",
            "[CV] END .............................alpha=50, l1_ratio=0.7; total time=   0.0s\n",
            "[CV] END .............................alpha=50, l1_ratio=0.7; total time=   0.0s\n",
            "[CV] END .............................alpha=50, l1_ratio=0.7; total time=   0.0s\n",
            "[CV] END .............................alpha=50, l1_ratio=0.7; total time=   0.0s\n",
            "[CV] END .............................alpha=50, l1_ratio=0.7; total time=   0.0s\n",
            "[CV] END .............................alpha=50, l1_ratio=0.7; total time=   0.0s\n",
            "[CV] END .............................alpha=50, l1_ratio=0.7; total time=   0.0s\n",
            "[CV] END .............................alpha=50, l1_ratio=0.9; total time=   0.0s\n",
            "[CV] END .............................alpha=50, l1_ratio=0.9; total time=   0.0s\n",
            "[CV] END .............................alpha=50, l1_ratio=0.9; total time=   0.0s\n",
            "[CV] END .............................alpha=50, l1_ratio=0.9; total time=   0.0s\n",
            "[CV] END .............................alpha=50, l1_ratio=0.9; total time=   0.0s\n",
            "[CV] END .............................alpha=50, l1_ratio=0.9; total time=   0.0s\n",
            "[CV] END .............................alpha=50, l1_ratio=0.9; total time=   0.0s\n",
            "[CV] END .............................alpha=50, l1_ratio=0.9; total time=   0.0s\n",
            "[CV] END .............................alpha=50, l1_ratio=0.9; total time=   0.0s\n",
            "[CV] END .............................alpha=50, l1_ratio=0.9; total time=   0.0s\n",
            "[CV] END ............................alpha=50, l1_ratio=0.95; total time=   0.0s\n",
            "[CV] END ............................alpha=50, l1_ratio=0.95; total time=   0.0s\n",
            "[CV] END ............................alpha=50, l1_ratio=0.95; total time=   0.0s\n",
            "[CV] END ............................alpha=50, l1_ratio=0.95; total time=   0.0s\n",
            "[CV] END ............................alpha=50, l1_ratio=0.95; total time=   0.0s\n",
            "[CV] END ............................alpha=50, l1_ratio=0.95; total time=   0.0s\n",
            "[CV] END ............................alpha=50, l1_ratio=0.95; total time=   0.0s\n",
            "[CV] END ............................alpha=50, l1_ratio=0.95; total time=   0.0s\n",
            "[CV] END ............................alpha=50, l1_ratio=0.95; total time=   0.0s\n",
            "[CV] END ............................alpha=50, l1_ratio=0.95; total time=   0.0s\n",
            "[CV] END ............................alpha=50, l1_ratio=0.99; total time=   0.0s\n",
            "[CV] END ............................alpha=50, l1_ratio=0.99; total time=   0.0s\n",
            "[CV] END ............................alpha=50, l1_ratio=0.99; total time=   0.0s\n",
            "[CV] END ............................alpha=50, l1_ratio=0.99; total time=   0.0s\n",
            "[CV] END ............................alpha=50, l1_ratio=0.99; total time=   0.0s\n",
            "[CV] END ............................alpha=50, l1_ratio=0.99; total time=   0.0s\n",
            "[CV] END ............................alpha=50, l1_ratio=0.99; total time=   0.0s\n",
            "[CV] END ............................alpha=50, l1_ratio=0.99; total time=   0.0s\n",
            "[CV] END ............................alpha=50, l1_ratio=0.99; total time=   0.0s\n",
            "[CV] END ............................alpha=50, l1_ratio=0.99; total time=   0.0s\n",
            "[CV] END ...............................alpha=50, l1_ratio=1; total time=   0.0s\n",
            "[CV] END ...............................alpha=50, l1_ratio=1; total time=   0.0s\n",
            "[CV] END ...............................alpha=50, l1_ratio=1; total time=   0.0s\n",
            "[CV] END ...............................alpha=50, l1_ratio=1; total time=   0.0s\n",
            "[CV] END ...............................alpha=50, l1_ratio=1; total time=   0.0s\n",
            "[CV] END ...............................alpha=50, l1_ratio=1; total time=   0.0s\n",
            "[CV] END ...............................alpha=50, l1_ratio=1; total time=   0.0s\n",
            "[CV] END ...............................alpha=50, l1_ratio=1; total time=   0.0s\n",
            "[CV] END ...............................alpha=50, l1_ratio=1; total time=   0.0s\n",
            "[CV] END ...............................alpha=50, l1_ratio=1; total time=   0.0s\n",
            "[CV] END ............................alpha=100, l1_ratio=0.1; total time=   0.0s\n",
            "[CV] END ............................alpha=100, l1_ratio=0.1; total time=   0.0s\n",
            "[CV] END ............................alpha=100, l1_ratio=0.1; total time=   0.0s\n",
            "[CV] END ............................alpha=100, l1_ratio=0.1; total time=   0.0s\n",
            "[CV] END ............................alpha=100, l1_ratio=0.1; total time=   0.0s\n",
            "[CV] END ............................alpha=100, l1_ratio=0.1; total time=   0.0s\n",
            "[CV] END ............................alpha=100, l1_ratio=0.1; total time=   0.0s\n",
            "[CV] END ............................alpha=100, l1_ratio=0.1; total time=   0.0s\n",
            "[CV] END ............................alpha=100, l1_ratio=0.1; total time=   0.0s\n",
            "[CV] END ............................alpha=100, l1_ratio=0.1; total time=   0.0s\n",
            "[CV] END ............................alpha=100, l1_ratio=0.5; total time=   0.0s\n",
            "[CV] END ............................alpha=100, l1_ratio=0.5; total time=   0.0s\n",
            "[CV] END ............................alpha=100, l1_ratio=0.5; total time=   0.0s\n",
            "[CV] END ............................alpha=100, l1_ratio=0.5; total time=   0.0s\n",
            "[CV] END ............................alpha=100, l1_ratio=0.5; total time=   0.0s\n",
            "[CV] END ............................alpha=100, l1_ratio=0.5; total time=   0.0s\n",
            "[CV] END ............................alpha=100, l1_ratio=0.5; total time=   0.0s\n",
            "[CV] END ............................alpha=100, l1_ratio=0.5; total time=   0.0s\n",
            "[CV] END ............................alpha=100, l1_ratio=0.5; total time=   0.0s\n",
            "[CV] END ............................alpha=100, l1_ratio=0.5; total time=   0.0s\n",
            "[CV] END ............................alpha=100, l1_ratio=0.7; total time=   0.0s\n",
            "[CV] END ............................alpha=100, l1_ratio=0.7; total time=   0.0s\n",
            "[CV] END ............................alpha=100, l1_ratio=0.7; total time=   0.0s\n",
            "[CV] END ............................alpha=100, l1_ratio=0.7; total time=   0.0s\n",
            "[CV] END ............................alpha=100, l1_ratio=0.7; total time=   0.0s\n",
            "[CV] END ............................alpha=100, l1_ratio=0.7; total time=   0.0s\n",
            "[CV] END ............................alpha=100, l1_ratio=0.7; total time=   0.0s\n",
            "[CV] END ............................alpha=100, l1_ratio=0.7; total time=   0.0s\n",
            "[CV] END ............................alpha=100, l1_ratio=0.7; total time=   0.0s\n",
            "[CV] END ............................alpha=100, l1_ratio=0.7; total time=   0.0s\n",
            "[CV] END ............................alpha=100, l1_ratio=0.9; total time=   0.0s\n",
            "[CV] END ............................alpha=100, l1_ratio=0.9; total time=   0.0s\n",
            "[CV] END ............................alpha=100, l1_ratio=0.9; total time=   0.0s\n",
            "[CV] END ............................alpha=100, l1_ratio=0.9; total time=   0.0s\n",
            "[CV] END ............................alpha=100, l1_ratio=0.9; total time=   0.0s\n",
            "[CV] END ............................alpha=100, l1_ratio=0.9; total time=   0.0s\n",
            "[CV] END ............................alpha=100, l1_ratio=0.9; total time=   0.0s\n",
            "[CV] END ............................alpha=100, l1_ratio=0.9; total time=   0.0s\n",
            "[CV] END ............................alpha=100, l1_ratio=0.9; total time=   0.0s\n",
            "[CV] END ............................alpha=100, l1_ratio=0.9; total time=   0.0s\n",
            "[CV] END ...........................alpha=100, l1_ratio=0.95; total time=   0.0s\n",
            "[CV] END ...........................alpha=100, l1_ratio=0.95; total time=   0.0s\n",
            "[CV] END ...........................alpha=100, l1_ratio=0.95; total time=   0.0s\n",
            "[CV] END ...........................alpha=100, l1_ratio=0.95; total time=   0.0s\n",
            "[CV] END ...........................alpha=100, l1_ratio=0.95; total time=   0.0s\n",
            "[CV] END ...........................alpha=100, l1_ratio=0.95; total time=   0.0s\n",
            "[CV] END ...........................alpha=100, l1_ratio=0.95; total time=   0.0s\n",
            "[CV] END ...........................alpha=100, l1_ratio=0.95; total time=   0.0s\n",
            "[CV] END ...........................alpha=100, l1_ratio=0.95; total time=   0.0s\n",
            "[CV] END ...........................alpha=100, l1_ratio=0.95; total time=   0.0s\n",
            "[CV] END ...........................alpha=100, l1_ratio=0.99; total time=   0.0s\n",
            "[CV] END ...........................alpha=100, l1_ratio=0.99; total time=   0.0s\n",
            "[CV] END ...........................alpha=100, l1_ratio=0.99; total time=   0.0s\n",
            "[CV] END ...........................alpha=100, l1_ratio=0.99; total time=   0.0s\n",
            "[CV] END ...........................alpha=100, l1_ratio=0.99; total time=   0.0s\n",
            "[CV] END ...........................alpha=100, l1_ratio=0.99; total time=   0.0s\n",
            "[CV] END ...........................alpha=100, l1_ratio=0.99; total time=   0.0s\n",
            "[CV] END ...........................alpha=100, l1_ratio=0.99; total time=   0.0s\n",
            "[CV] END ...........................alpha=100, l1_ratio=0.99; total time=   0.0s\n",
            "[CV] END ...........................alpha=100, l1_ratio=0.99; total time=   0.0s\n",
            "[CV] END ..............................alpha=100, l1_ratio=1; total time=   0.0s\n",
            "[CV] END ..............................alpha=100, l1_ratio=1; total time=   0.0s\n",
            "[CV] END ..............................alpha=100, l1_ratio=1; total time=   0.0s\n",
            "[CV] END ..............................alpha=100, l1_ratio=1; total time=   0.0s\n",
            "[CV] END ..............................alpha=100, l1_ratio=1; total time=   0.0s\n",
            "[CV] END ..............................alpha=100, l1_ratio=1; total time=   0.0s\n",
            "[CV] END ..............................alpha=100, l1_ratio=1; total time=   0.0s\n",
            "[CV] END ..............................alpha=100, l1_ratio=1; total time=   0.0s\n",
            "[CV] END ..............................alpha=100, l1_ratio=1; total time=   0.0s\n",
            "[CV] END ..............................alpha=100, l1_ratio=1; total time=   0.0s\n"
          ]
        },
        {
          "output_type": "execute_result",
          "data": {
            "text/plain": [
              "GridSearchCV(cv=10, estimator=ElasticNet(max_iter=100000),\n",
              "             param_grid={'alpha': [0.01, 0.02, 0.1, 1, 5, 10, 50, 100],\n",
              "                         'l1_ratio': [0.1, 0.5, 0.7, 0.9, 0.95, 0.99, 1]},\n",
              "             scoring='neg_root_mean_squared_error', verbose=2)"
            ]
          },
          "metadata": {},
          "execution_count": 110
        }
      ]
    },
    {
      "cell_type": "code",
      "source": [
        "grid_model.best_params_"
      ],
      "metadata": {
        "id": "gf3Z6kLb_Aha",
        "outputId": "b74bbaab-4447-4660-ddee-aa618b823d7b",
        "colab": {
          "base_uri": "https://localhost:8080/"
        }
      },
      "execution_count": null,
      "outputs": [
        {
          "output_type": "execute_result",
          "data": {
            "text/plain": [
              "{'alpha': 0.01, 'l1_ratio': 0.95}"
            ]
          },
          "metadata": {},
          "execution_count": 111
        }
      ]
    },
    {
      "cell_type": "code",
      "source": [
        "pd.DataFrame(grid_model.cv_results_)"
      ],
      "metadata": {
        "id": "Lo_Jizey_D3T",
        "outputId": "7e4a8398-e889-47c7-f24e-54753ea914cd",
        "colab": {
          "base_uri": "https://localhost:8080/",
          "height": 1000
        }
      },
      "execution_count": null,
      "outputs": [
        {
          "output_type": "execute_result",
          "data": {
            "text/html": [
              "\n",
              "  <div id=\"df-873f1448-0032-4c34-9c2e-e196d672d6d6\">\n",
              "    <div class=\"colab-df-container\">\n",
              "      <div>\n",
              "<style scoped>\n",
              "    .dataframe tbody tr th:only-of-type {\n",
              "        vertical-align: middle;\n",
              "    }\n",
              "\n",
              "    .dataframe tbody tr th {\n",
              "        vertical-align: top;\n",
              "    }\n",
              "\n",
              "    .dataframe thead th {\n",
              "        text-align: right;\n",
              "    }\n",
              "</style>\n",
              "<table border=\"1\" class=\"dataframe\">\n",
              "  <thead>\n",
              "    <tr style=\"text-align: right;\">\n",
              "      <th></th>\n",
              "      <th>mean_fit_time</th>\n",
              "      <th>std_fit_time</th>\n",
              "      <th>mean_score_time</th>\n",
              "      <th>std_score_time</th>\n",
              "      <th>param_alpha</th>\n",
              "      <th>param_l1_ratio</th>\n",
              "      <th>params</th>\n",
              "      <th>split0_test_score</th>\n",
              "      <th>split1_test_score</th>\n",
              "      <th>split2_test_score</th>\n",
              "      <th>split3_test_score</th>\n",
              "      <th>split4_test_score</th>\n",
              "      <th>split5_test_score</th>\n",
              "      <th>split6_test_score</th>\n",
              "      <th>split7_test_score</th>\n",
              "      <th>split8_test_score</th>\n",
              "      <th>split9_test_score</th>\n",
              "      <th>mean_test_score</th>\n",
              "      <th>std_test_score</th>\n",
              "      <th>rank_test_score</th>\n",
              "    </tr>\n",
              "  </thead>\n",
              "  <tbody>\n",
              "    <tr>\n",
              "      <th>0</th>\n",
              "      <td>0.002327</td>\n",
              "      <td>0.000359</td>\n",
              "      <td>0.000791</td>\n",
              "      <td>0.000042</td>\n",
              "      <td>0.01</td>\n",
              "      <td>0.1</td>\n",
              "      <td>{'alpha': 0.01, 'l1_ratio': 0.1}</td>\n",
              "      <td>-2.358338</td>\n",
              "      <td>-1.579239</td>\n",
              "      <td>-2.652723</td>\n",
              "      <td>-2.505880</td>\n",
              "      <td>-2.365599</td>\n",
              "      <td>-2.095531</td>\n",
              "      <td>-4.458016</td>\n",
              "      <td>-1.970121</td>\n",
              "      <td>-1.753473</td>\n",
              "      <td>-4.286782</td>\n",
              "      <td>-2.602570</td>\n",
              "      <td>0.939796</td>\n",
              "      <td>14</td>\n",
              "    </tr>\n",
              "    <tr>\n",
              "      <th>1</th>\n",
              "      <td>0.001754</td>\n",
              "      <td>0.000368</td>\n",
              "      <td>0.000497</td>\n",
              "      <td>0.000055</td>\n",
              "      <td>0.01</td>\n",
              "      <td>0.5</td>\n",
              "      <td>{'alpha': 0.01, 'l1_ratio': 0.5}</td>\n",
              "      <td>-2.149865</td>\n",
              "      <td>-1.481102</td>\n",
              "      <td>-2.364189</td>\n",
              "      <td>-2.292595</td>\n",
              "      <td>-2.088488</td>\n",
              "      <td>-1.940098</td>\n",
              "      <td>-4.175131</td>\n",
              "      <td>-1.924213</td>\n",
              "      <td>-1.705817</td>\n",
              "      <td>-3.472532</td>\n",
              "      <td>-2.359403</td>\n",
              "      <td>0.788765</td>\n",
              "      <td>11</td>\n",
              "    </tr>\n",
              "    <tr>\n",
              "      <th>2</th>\n",
              "      <td>0.002227</td>\n",
              "      <td>0.000362</td>\n",
              "      <td>0.000761</td>\n",
              "      <td>0.000624</td>\n",
              "      <td>0.01</td>\n",
              "      <td>0.7</td>\n",
              "      <td>{'alpha': 0.01, 'l1_ratio': 0.7}</td>\n",
              "      <td>-1.984463</td>\n",
              "      <td>-1.417909</td>\n",
              "      <td>-2.131644</td>\n",
              "      <td>-2.118570</td>\n",
              "      <td>-1.874917</td>\n",
              "      <td>-1.819774</td>\n",
              "      <td>-3.942071</td>\n",
              "      <td>-1.906619</td>\n",
              "      <td>-1.691525</td>\n",
              "      <td>-2.660403</td>\n",
              "      <td>-2.154790</td>\n",
              "      <td>0.670122</td>\n",
              "      <td>9</td>\n",
              "    </tr>\n",
              "    <tr>\n",
              "      <th>3</th>\n",
              "      <td>0.002179</td>\n",
              "      <td>0.000489</td>\n",
              "      <td>0.000665</td>\n",
              "      <td>0.000279</td>\n",
              "      <td>0.01</td>\n",
              "      <td>0.9</td>\n",
              "      <td>{'alpha': 0.01, 'l1_ratio': 0.9}</td>\n",
              "      <td>-1.754747</td>\n",
              "      <td>-1.357504</td>\n",
              "      <td>-1.786920</td>\n",
              "      <td>-1.855842</td>\n",
              "      <td>-1.583434</td>\n",
              "      <td>-1.666893</td>\n",
              "      <td>-3.572391</td>\n",
              "      <td>-1.927520</td>\n",
              "      <td>-1.740842</td>\n",
              "      <td>-1.691797</td>\n",
              "      <td>-1.893789</td>\n",
              "      <td>0.578846</td>\n",
              "      <td>2</td>\n",
              "    </tr>\n",
              "    <tr>\n",
              "      <th>4</th>\n",
              "      <td>0.002238</td>\n",
              "      <td>0.000643</td>\n",
              "      <td>0.000580</td>\n",
              "      <td>0.000088</td>\n",
              "      <td>0.01</td>\n",
              "      <td>0.95</td>\n",
              "      <td>{'alpha': 0.01, 'l1_ratio': 0.95}</td>\n",
              "      <td>-1.691840</td>\n",
              "      <td>-1.349651</td>\n",
              "      <td>-1.677567</td>\n",
              "      <td>-1.768556</td>\n",
              "      <td>-1.502503</td>\n",
              "      <td>-1.626775</td>\n",
              "      <td>-3.443639</td>\n",
              "      <td>-1.948983</td>\n",
              "      <td>-1.783699</td>\n",
              "      <td>-2.092504</td>\n",
              "      <td>-1.888572</td>\n",
              "      <td>0.554988</td>\n",
              "      <td>1</td>\n",
              "    </tr>\n",
              "    <tr>\n",
              "      <th>5</th>\n",
              "      <td>0.001948</td>\n",
              "      <td>0.000392</td>\n",
              "      <td>0.000560</td>\n",
              "      <td>0.000091</td>\n",
              "      <td>0.01</td>\n",
              "      <td>0.99</td>\n",
              "      <td>{'alpha': 0.01, 'l1_ratio': 0.99}</td>\n",
              "      <td>-1.640071</td>\n",
              "      <td>-1.348857</td>\n",
              "      <td>-1.583740</td>\n",
              "      <td>-1.690657</td>\n",
              "      <td>-1.441261</td>\n",
              "      <td>-1.596723</td>\n",
              "      <td>-3.325038</td>\n",
              "      <td>-1.975212</td>\n",
              "      <td>-1.837199</td>\n",
              "      <td>-2.980241</td>\n",
              "      <td>-1.941900</td>\n",
              "      <td>0.633031</td>\n",
              "      <td>6</td>\n",
              "    </tr>\n",
              "    <tr>\n",
              "      <th>6</th>\n",
              "      <td>0.001979</td>\n",
              "      <td>0.000285</td>\n",
              "      <td>0.000492</td>\n",
              "      <td>0.000072</td>\n",
              "      <td>0.01</td>\n",
              "      <td>1</td>\n",
              "      <td>{'alpha': 0.01, 'l1_ratio': 1}</td>\n",
              "      <td>-1.627215</td>\n",
              "      <td>-1.349726</td>\n",
              "      <td>-1.559613</td>\n",
              "      <td>-1.670042</td>\n",
              "      <td>-1.427241</td>\n",
              "      <td>-1.589853</td>\n",
              "      <td>-3.292882</td>\n",
              "      <td>-1.983374</td>\n",
              "      <td>-1.854112</td>\n",
              "      <td>-3.297483</td>\n",
              "      <td>-1.965154</td>\n",
              "      <td>0.687411</td>\n",
              "      <td>7</td>\n",
              "    </tr>\n",
              "    <tr>\n",
              "      <th>7</th>\n",
              "      <td>0.001887</td>\n",
              "      <td>0.000163</td>\n",
              "      <td>0.000469</td>\n",
              "      <td>0.000015</td>\n",
              "      <td>0.02</td>\n",
              "      <td>0.1</td>\n",
              "      <td>{'alpha': 0.02, 'l1_ratio': 0.1}</td>\n",
              "      <td>-2.588684</td>\n",
              "      <td>-1.706222</td>\n",
              "      <td>-2.993424</td>\n",
              "      <td>-2.744486</td>\n",
              "      <td>-2.733051</td>\n",
              "      <td>-2.258891</td>\n",
              "      <td>-4.841619</td>\n",
              "      <td>-2.057284</td>\n",
              "      <td>-1.806896</td>\n",
              "      <td>-5.029287</td>\n",
              "      <td>-2.875985</td>\n",
              "      <td>1.104394</td>\n",
              "      <td>17</td>\n",
              "    </tr>\n",
              "    <tr>\n",
              "      <th>8</th>\n",
              "      <td>0.002147</td>\n",
              "      <td>0.000474</td>\n",
              "      <td>0.000544</td>\n",
              "      <td>0.000111</td>\n",
              "      <td>0.02</td>\n",
              "      <td>0.5</td>\n",
              "      <td>{'alpha': 0.02, 'l1_ratio': 0.5}</td>\n",
              "      <td>-2.409288</td>\n",
              "      <td>-1.603521</td>\n",
              "      <td>-2.739080</td>\n",
              "      <td>-2.565381</td>\n",
              "      <td>-2.474191</td>\n",
              "      <td>-2.128016</td>\n",
              "      <td>-4.589877</td>\n",
              "      <td>-1.997587</td>\n",
              "      <td>-1.740275</td>\n",
              "      <td>-4.520688</td>\n",
              "      <td>-2.676790</td>\n",
              "      <td>0.999009</td>\n",
              "      <td>15</td>\n",
              "    </tr>\n",
              "    <tr>\n",
              "      <th>9</th>\n",
              "      <td>0.002072</td>\n",
              "      <td>0.000317</td>\n",
              "      <td>0.000581</td>\n",
              "      <td>0.000089</td>\n",
              "      <td>0.02</td>\n",
              "      <td>0.7</td>\n",
              "      <td>{'alpha': 0.02, 'l1_ratio': 0.7}</td>\n",
              "      <td>-2.229483</td>\n",
              "      <td>-1.515404</td>\n",
              "      <td>-2.495136</td>\n",
              "      <td>-2.387981</td>\n",
              "      <td>-2.238417</td>\n",
              "      <td>-1.996769</td>\n",
              "      <td>-4.356206</td>\n",
              "      <td>-1.953451</td>\n",
              "      <td>-1.683067</td>\n",
              "      <td>-3.907065</td>\n",
              "      <td>-2.476298</td>\n",
              "      <td>0.881060</td>\n",
              "      <td>12</td>\n",
              "    </tr>\n",
              "    <tr>\n",
              "      <th>10</th>\n",
              "      <td>0.002158</td>\n",
              "      <td>0.000540</td>\n",
              "      <td>0.000538</td>\n",
              "      <td>0.000067</td>\n",
              "      <td>0.02</td>\n",
              "      <td>0.9</td>\n",
              "      <td>{'alpha': 0.02, 'l1_ratio': 0.9}</td>\n",
              "      <td>-1.893704</td>\n",
              "      <td>-1.390580</td>\n",
              "      <td>-2.032226</td>\n",
              "      <td>-2.046213</td>\n",
              "      <td>-1.808426</td>\n",
              "      <td>-1.760754</td>\n",
              "      <td>-3.914829</td>\n",
              "      <td>-1.933584</td>\n",
              "      <td>-1.627477</td>\n",
              "      <td>-2.313705</td>\n",
              "      <td>-2.072150</td>\n",
              "      <td>0.658477</td>\n",
              "      <td>8</td>\n",
              "    </tr>\n",
              "    <tr>\n",
              "      <th>11</th>\n",
              "      <td>0.001769</td>\n",
              "      <td>0.000099</td>\n",
              "      <td>0.000472</td>\n",
              "      <td>0.000032</td>\n",
              "      <td>0.02</td>\n",
              "      <td>0.95</td>\n",
              "      <td>{'alpha': 0.02, 'l1_ratio': 0.95}</td>\n",
              "      <td>-1.768675</td>\n",
              "      <td>-1.360591</td>\n",
              "      <td>-1.847949</td>\n",
              "      <td>-1.905908</td>\n",
              "      <td>-1.645351</td>\n",
              "      <td>-1.683108</td>\n",
              "      <td>-3.719636</td>\n",
              "      <td>-1.954397</td>\n",
              "      <td>-1.641569</td>\n",
              "      <td>-1.718011</td>\n",
              "      <td>-1.924520</td>\n",
              "      <td>0.618932</td>\n",
              "      <td>5</td>\n",
              "    </tr>\n",
              "    <tr>\n",
              "      <th>12</th>\n",
              "      <td>0.001876</td>\n",
              "      <td>0.000340</td>\n",
              "      <td>0.000675</td>\n",
              "      <td>0.000227</td>\n",
              "      <td>0.02</td>\n",
              "      <td>0.99</td>\n",
              "      <td>{'alpha': 0.02, 'l1_ratio': 0.99}</td>\n",
              "      <td>-1.661020</td>\n",
              "      <td>-1.347051</td>\n",
              "      <td>-1.672411</td>\n",
              "      <td>-1.765870</td>\n",
              "      <td>-1.499447</td>\n",
              "      <td>-1.619212</td>\n",
              "      <td>-3.516310</td>\n",
              "      <td>-1.994881</td>\n",
              "      <td>-1.689595</td>\n",
              "      <td>-2.193486</td>\n",
              "      <td>-1.895928</td>\n",
              "      <td>0.585118</td>\n",
              "      <td>3</td>\n",
              "    </tr>\n",
              "    <tr>\n",
              "      <th>13</th>\n",
              "      <td>0.001829</td>\n",
              "      <td>0.000120</td>\n",
              "      <td>0.000484</td>\n",
              "      <td>0.000053</td>\n",
              "      <td>0.02</td>\n",
              "      <td>1</td>\n",
              "      <td>{'alpha': 0.02, 'l1_ratio': 1}</td>\n",
              "      <td>-1.632572</td>\n",
              "      <td>-1.346608</td>\n",
              "      <td>-1.624876</td>\n",
              "      <td>-1.726243</td>\n",
              "      <td>-1.462707</td>\n",
              "      <td>-1.604375</td>\n",
              "      <td>-3.456672</td>\n",
              "      <td>-2.010293</td>\n",
              "      <td>-1.710955</td>\n",
              "      <td>-2.657649</td>\n",
              "      <td>-1.923295</td>\n",
              "      <td>0.616604</td>\n",
              "      <td>4</td>\n",
              "    </tr>\n",
              "    <tr>\n",
              "      <th>14</th>\n",
              "      <td>0.001769</td>\n",
              "      <td>0.000111</td>\n",
              "      <td>0.000443</td>\n",
              "      <td>0.000022</td>\n",
              "      <td>0.1</td>\n",
              "      <td>0.1</td>\n",
              "      <td>{'alpha': 0.1, 'l1_ratio': 0.1}</td>\n",
              "      <td>-2.803358</td>\n",
              "      <td>-1.935224</td>\n",
              "      <td>-3.683718</td>\n",
              "      <td>-3.028329</td>\n",
              "      <td>-3.595406</td>\n",
              "      <td>-2.485918</td>\n",
              "      <td>-5.717512</td>\n",
              "      <td>-2.170570</td>\n",
              "      <td>-1.949839</td>\n",
              "      <td>-5.802430</td>\n",
              "      <td>-3.317231</td>\n",
              "      <td>1.352124</td>\n",
              "      <td>21</td>\n",
              "    </tr>\n",
              "    <tr>\n",
              "      <th>15</th>\n",
              "      <td>0.002186</td>\n",
              "      <td>0.001463</td>\n",
              "      <td>0.000764</td>\n",
              "      <td>0.000532</td>\n",
              "      <td>0.1</td>\n",
              "      <td>0.5</td>\n",
              "      <td>{'alpha': 0.1, 'l1_ratio': 0.5}</td>\n",
              "      <td>-2.796016</td>\n",
              "      <td>-1.896808</td>\n",
              "      <td>-3.534162</td>\n",
              "      <td>-3.005225</td>\n",
              "      <td>-3.428493</td>\n",
              "      <td>-2.436437</td>\n",
              "      <td>-5.571531</td>\n",
              "      <td>-2.165187</td>\n",
              "      <td>-1.896446</td>\n",
              "      <td>-5.735185</td>\n",
              "      <td>-3.246549</td>\n",
              "      <td>1.320837</td>\n",
              "      <td>20</td>\n",
              "    </tr>\n",
              "    <tr>\n",
              "      <th>16</th>\n",
              "      <td>0.002021</td>\n",
              "      <td>0.000979</td>\n",
              "      <td>0.000894</td>\n",
              "      <td>0.000578</td>\n",
              "      <td>0.1</td>\n",
              "      <td>0.7</td>\n",
              "      <td>{'alpha': 0.1, 'l1_ratio': 0.7}</td>\n",
              "      <td>-2.751365</td>\n",
              "      <td>-1.859364</td>\n",
              "      <td>-3.417664</td>\n",
              "      <td>-2.962651</td>\n",
              "      <td>-3.286716</td>\n",
              "      <td>-2.378392</td>\n",
              "      <td>-5.448760</td>\n",
              "      <td>-2.144776</td>\n",
              "      <td>-1.855484</td>\n",
              "      <td>-5.661016</td>\n",
              "      <td>-3.176619</td>\n",
              "      <td>1.296693</td>\n",
              "      <td>19</td>\n",
              "    </tr>\n",
              "    <tr>\n",
              "      <th>17</th>\n",
              "      <td>0.001929</td>\n",
              "      <td>0.000406</td>\n",
              "      <td>0.000529</td>\n",
              "      <td>0.000062</td>\n",
              "      <td>0.1</td>\n",
              "      <td>0.9</td>\n",
              "      <td>{'alpha': 0.1, 'l1_ratio': 0.9}</td>\n",
              "      <td>-2.542482</td>\n",
              "      <td>-1.747169</td>\n",
              "      <td>-3.113777</td>\n",
              "      <td>-2.783172</td>\n",
              "      <td>-2.955651</td>\n",
              "      <td>-2.189433</td>\n",
              "      <td>-5.162227</td>\n",
              "      <td>-2.068553</td>\n",
              "      <td>-1.744339</td>\n",
              "      <td>-5.368176</td>\n",
              "      <td>-2.967498</td>\n",
              "      <td>1.233493</td>\n",
              "      <td>18</td>\n",
              "    </tr>\n",
              "    <tr>\n",
              "      <th>18</th>\n",
              "      <td>0.001480</td>\n",
              "      <td>0.000529</td>\n",
              "      <td>0.000659</td>\n",
              "      <td>0.000505</td>\n",
              "      <td>0.1</td>\n",
              "      <td>0.95</td>\n",
              "      <td>{'alpha': 0.1, 'l1_ratio': 0.95}</td>\n",
              "      <td>-2.360792</td>\n",
              "      <td>-1.668244</td>\n",
              "      <td>-2.889291</td>\n",
              "      <td>-2.626634</td>\n",
              "      <td>-2.729990</td>\n",
              "      <td>-2.041280</td>\n",
              "      <td>-4.966275</td>\n",
              "      <td>-2.022595</td>\n",
              "      <td>-1.661281</td>\n",
              "      <td>-5.048977</td>\n",
              "      <td>-2.801536</td>\n",
              "      <td>1.172349</td>\n",
              "      <td>16</td>\n",
              "    </tr>\n",
              "    <tr>\n",
              "      <th>19</th>\n",
              "      <td>0.001400</td>\n",
              "      <td>0.000485</td>\n",
              "      <td>0.000438</td>\n",
              "      <td>0.000032</td>\n",
              "      <td>0.1</td>\n",
              "      <td>0.99</td>\n",
              "      <td>{'alpha': 0.1, 'l1_ratio': 0.99}</td>\n",
              "      <td>-2.041143</td>\n",
              "      <td>-1.553158</td>\n",
              "      <td>-2.484260</td>\n",
              "      <td>-2.339430</td>\n",
              "      <td>-2.342383</td>\n",
              "      <td>-1.808834</td>\n",
              "      <td>-4.622187</td>\n",
              "      <td>-1.994865</td>\n",
              "      <td>-1.531838</td>\n",
              "      <td>-4.124461</td>\n",
              "      <td>-2.484256</td>\n",
              "      <td>0.998409</td>\n",
              "      <td>13</td>\n",
              "    </tr>\n",
              "    <tr>\n",
              "      <th>20</th>\n",
              "      <td>0.002098</td>\n",
              "      <td>0.000271</td>\n",
              "      <td>0.000485</td>\n",
              "      <td>0.000052</td>\n",
              "      <td>0.1</td>\n",
              "      <td>1</td>\n",
              "      <td>{'alpha': 0.1, 'l1_ratio': 1}</td>\n",
              "      <td>-1.908849</td>\n",
              "      <td>-1.517532</td>\n",
              "      <td>-2.304913</td>\n",
              "      <td>-2.208769</td>\n",
              "      <td>-2.172663</td>\n",
              "      <td>-1.727724</td>\n",
              "      <td>-4.466525</td>\n",
              "      <td>-2.010833</td>\n",
              "      <td>-1.484627</td>\n",
              "      <td>-3.426501</td>\n",
              "      <td>-2.322894</td>\n",
              "      <td>0.884498</td>\n",
              "      <td>10</td>\n",
              "    </tr>\n",
              "    <tr>\n",
              "      <th>21</th>\n",
              "      <td>0.001880</td>\n",
              "      <td>0.000144</td>\n",
              "      <td>0.000465</td>\n",
              "      <td>0.000036</td>\n",
              "      <td>1</td>\n",
              "      <td>0.1</td>\n",
              "      <td>{'alpha': 1, 'l1_ratio': 0.1}</td>\n",
              "      <td>-2.952362</td>\n",
              "      <td>-2.716509</td>\n",
              "      <td>-5.109553</td>\n",
              "      <td>-3.397684</td>\n",
              "      <td>-5.160541</td>\n",
              "      <td>-3.287161</td>\n",
              "      <td>-7.195428</td>\n",
              "      <td>-2.521815</td>\n",
              "      <td>-3.044366</td>\n",
              "      <td>-6.610260</td>\n",
              "      <td>-4.199568</td>\n",
              "      <td>1.609907</td>\n",
              "      <td>22</td>\n",
              "    </tr>\n",
              "    <tr>\n",
              "      <th>22</th>\n",
              "      <td>0.002260</td>\n",
              "      <td>0.000950</td>\n",
              "      <td>0.001175</td>\n",
              "      <td>0.001158</td>\n",
              "      <td>1</td>\n",
              "      <td>0.5</td>\n",
              "      <td>{'alpha': 1, 'l1_ratio': 0.5}</td>\n",
              "      <td>-2.991582</td>\n",
              "      <td>-2.810614</td>\n",
              "      <td>-5.304893</td>\n",
              "      <td>-3.406967</td>\n",
              "      <td>-5.328889</td>\n",
              "      <td>-3.389646</td>\n",
              "      <td>-7.363065</td>\n",
              "      <td>-2.568315</td>\n",
              "      <td>-3.107009</td>\n",
              "      <td>-6.693152</td>\n",
              "      <td>-4.296413</td>\n",
              "      <td>1.647916</td>\n",
              "      <td>23</td>\n",
              "    </tr>\n",
              "    <tr>\n",
              "      <th>23</th>\n",
              "      <td>0.002279</td>\n",
              "      <td>0.000512</td>\n",
              "      <td>0.000592</td>\n",
              "      <td>0.000113</td>\n",
              "      <td>1</td>\n",
              "      <td>0.7</td>\n",
              "      <td>{'alpha': 1, 'l1_ratio': 0.7}</td>\n",
              "      <td>-2.997524</td>\n",
              "      <td>-2.851129</td>\n",
              "      <td>-5.401342</td>\n",
              "      <td>-3.407123</td>\n",
              "      <td>-5.387495</td>\n",
              "      <td>-3.417888</td>\n",
              "      <td>-7.438325</td>\n",
              "      <td>-2.581041</td>\n",
              "      <td>-3.148426</td>\n",
              "      <td>-6.747798</td>\n",
              "      <td>-4.337809</td>\n",
              "      <td>1.669553</td>\n",
              "      <td>24</td>\n",
              "    </tr>\n",
              "    <tr>\n",
              "      <th>24</th>\n",
              "      <td>0.002375</td>\n",
              "      <td>0.000664</td>\n",
              "      <td>0.000643</td>\n",
              "      <td>0.000078</td>\n",
              "      <td>1</td>\n",
              "      <td>0.9</td>\n",
              "      <td>{'alpha': 1, 'l1_ratio': 0.9}</td>\n",
              "      <td>-3.002309</td>\n",
              "      <td>-2.928717</td>\n",
              "      <td>-5.590553</td>\n",
              "      <td>-3.408303</td>\n",
              "      <td>-5.492405</td>\n",
              "      <td>-3.467877</td>\n",
              "      <td>-7.575363</td>\n",
              "      <td>-2.598015</td>\n",
              "      <td>-3.215143</td>\n",
              "      <td>-6.862992</td>\n",
              "      <td>-4.414168</td>\n",
              "      <td>1.714047</td>\n",
              "      <td>25</td>\n",
              "    </tr>\n",
              "    <tr>\n",
              "      <th>25</th>\n",
              "      <td>0.002684</td>\n",
              "      <td>0.001991</td>\n",
              "      <td>0.000586</td>\n",
              "      <td>0.000124</td>\n",
              "      <td>1</td>\n",
              "      <td>0.95</td>\n",
              "      <td>{'alpha': 1, 'l1_ratio': 0.95}</td>\n",
              "      <td>-3.002165</td>\n",
              "      <td>-2.964102</td>\n",
              "      <td>-5.599475</td>\n",
              "      <td>-3.404318</td>\n",
              "      <td>-5.529079</td>\n",
              "      <td>-3.486167</td>\n",
              "      <td>-7.600265</td>\n",
              "      <td>-2.604405</td>\n",
              "      <td>-3.236412</td>\n",
              "      <td>-6.901604</td>\n",
              "      <td>-4.432799</td>\n",
              "      <td>1.721129</td>\n",
              "      <td>26</td>\n",
              "    </tr>\n",
              "    <tr>\n",
              "      <th>26</th>\n",
              "      <td>0.001850</td>\n",
              "      <td>0.000206</td>\n",
              "      <td>0.000491</td>\n",
              "      <td>0.000041</td>\n",
              "      <td>1</td>\n",
              "      <td>0.99</td>\n",
              "      <td>{'alpha': 1, 'l1_ratio': 0.99}</td>\n",
              "      <td>-2.998014</td>\n",
              "      <td>-2.993103</td>\n",
              "      <td>-5.591601</td>\n",
              "      <td>-3.397282</td>\n",
              "      <td>-5.554868</td>\n",
              "      <td>-3.501004</td>\n",
              "      <td>-7.601154</td>\n",
              "      <td>-2.607045</td>\n",
              "      <td>-3.250221</td>\n",
              "      <td>-6.895716</td>\n",
              "      <td>-4.439001</td>\n",
              "      <td>1.717837</td>\n",
              "      <td>27</td>\n",
              "    </tr>\n",
              "    <tr>\n",
              "      <th>27</th>\n",
              "      <td>0.001833</td>\n",
              "      <td>0.000249</td>\n",
              "      <td>0.000544</td>\n",
              "      <td>0.000137</td>\n",
              "      <td>1</td>\n",
              "      <td>1</td>\n",
              "      <td>{'alpha': 1, 'l1_ratio': 1}</td>\n",
              "      <td>-2.997587</td>\n",
              "      <td>-3.003495</td>\n",
              "      <td>-5.589229</td>\n",
              "      <td>-3.394858</td>\n",
              "      <td>-5.553450</td>\n",
              "      <td>-3.505572</td>\n",
              "      <td>-7.601425</td>\n",
              "      <td>-2.607352</td>\n",
              "      <td>-3.253186</td>\n",
              "      <td>-6.893932</td>\n",
              "      <td>-4.440009</td>\n",
              "      <td>1.716205</td>\n",
              "      <td>28</td>\n",
              "    </tr>\n",
              "    <tr>\n",
              "      <th>28</th>\n",
              "      <td>0.002115</td>\n",
              "      <td>0.000622</td>\n",
              "      <td>0.000485</td>\n",
              "      <td>0.000041</td>\n",
              "      <td>5</td>\n",
              "      <td>0.1</td>\n",
              "      <td>{'alpha': 5, 'l1_ratio': 0.1}</td>\n",
              "      <td>-3.319516</td>\n",
              "      <td>-3.240382</td>\n",
              "      <td>-5.721464</td>\n",
              "      <td>-3.721503</td>\n",
              "      <td>-5.761188</td>\n",
              "      <td>-3.815773</td>\n",
              "      <td>-7.751362</td>\n",
              "      <td>-2.916589</td>\n",
              "      <td>-3.677032</td>\n",
              "      <td>-7.037096</td>\n",
              "      <td>-4.696190</td>\n",
              "      <td>1.641485</td>\n",
              "      <td>29</td>\n",
              "    </tr>\n",
              "    <tr>\n",
              "      <th>29</th>\n",
              "      <td>0.001833</td>\n",
              "      <td>0.000089</td>\n",
              "      <td>0.000467</td>\n",
              "      <td>0.000046</td>\n",
              "      <td>5</td>\n",
              "      <td>0.5</td>\n",
              "      <td>{'alpha': 5, 'l1_ratio': 0.5}</td>\n",
              "      <td>-3.410550</td>\n",
              "      <td>-3.346510</td>\n",
              "      <td>-5.819850</td>\n",
              "      <td>-3.799538</td>\n",
              "      <td>-5.859560</td>\n",
              "      <td>-3.919722</td>\n",
              "      <td>-7.839667</td>\n",
              "      <td>-3.008705</td>\n",
              "      <td>-3.804650</td>\n",
              "      <td>-7.119205</td>\n",
              "      <td>-4.792796</td>\n",
              "      <td>1.637040</td>\n",
              "      <td>31</td>\n",
              "    </tr>\n",
              "    <tr>\n",
              "      <th>30</th>\n",
              "      <td>0.001922</td>\n",
              "      <td>0.000205</td>\n",
              "      <td>0.000461</td>\n",
              "      <td>0.000025</td>\n",
              "      <td>5</td>\n",
              "      <td>0.7</td>\n",
              "      <td>{'alpha': 5, 'l1_ratio': 0.7}</td>\n",
              "      <td>-3.410550</td>\n",
              "      <td>-3.346510</td>\n",
              "      <td>-5.819850</td>\n",
              "      <td>-3.799538</td>\n",
              "      <td>-5.859560</td>\n",
              "      <td>-3.919722</td>\n",
              "      <td>-7.839667</td>\n",
              "      <td>-3.008705</td>\n",
              "      <td>-3.804650</td>\n",
              "      <td>-7.119205</td>\n",
              "      <td>-4.792796</td>\n",
              "      <td>1.637040</td>\n",
              "      <td>31</td>\n",
              "    </tr>\n",
              "    <tr>\n",
              "      <th>31</th>\n",
              "      <td>0.002563</td>\n",
              "      <td>0.001558</td>\n",
              "      <td>0.000625</td>\n",
              "      <td>0.000104</td>\n",
              "      <td>5</td>\n",
              "      <td>0.9</td>\n",
              "      <td>{'alpha': 5, 'l1_ratio': 0.9}</td>\n",
              "      <td>-3.410550</td>\n",
              "      <td>-3.346510</td>\n",
              "      <td>-5.819850</td>\n",
              "      <td>-3.799538</td>\n",
              "      <td>-5.859560</td>\n",
              "      <td>-3.919722</td>\n",
              "      <td>-7.839667</td>\n",
              "      <td>-3.008705</td>\n",
              "      <td>-3.804650</td>\n",
              "      <td>-7.119205</td>\n",
              "      <td>-4.792796</td>\n",
              "      <td>1.637040</td>\n",
              "      <td>31</td>\n",
              "    </tr>\n",
              "    <tr>\n",
              "      <th>32</th>\n",
              "      <td>0.001933</td>\n",
              "      <td>0.000408</td>\n",
              "      <td>0.000483</td>\n",
              "      <td>0.000037</td>\n",
              "      <td>5</td>\n",
              "      <td>0.95</td>\n",
              "      <td>{'alpha': 5, 'l1_ratio': 0.95}</td>\n",
              "      <td>-3.410550</td>\n",
              "      <td>-3.346510</td>\n",
              "      <td>-5.819850</td>\n",
              "      <td>-3.799538</td>\n",
              "      <td>-5.859560</td>\n",
              "      <td>-3.919722</td>\n",
              "      <td>-7.839667</td>\n",
              "      <td>-3.008705</td>\n",
              "      <td>-3.804650</td>\n",
              "      <td>-7.119205</td>\n",
              "      <td>-4.792796</td>\n",
              "      <td>1.637040</td>\n",
              "      <td>31</td>\n",
              "    </tr>\n",
              "    <tr>\n",
              "      <th>33</th>\n",
              "      <td>0.001660</td>\n",
              "      <td>0.000170</td>\n",
              "      <td>0.000474</td>\n",
              "      <td>0.000051</td>\n",
              "      <td>5</td>\n",
              "      <td>0.99</td>\n",
              "      <td>{'alpha': 5, 'l1_ratio': 0.99}</td>\n",
              "      <td>-3.410550</td>\n",
              "      <td>-3.346510</td>\n",
              "      <td>-5.819850</td>\n",
              "      <td>-3.799538</td>\n",
              "      <td>-5.859560</td>\n",
              "      <td>-3.919722</td>\n",
              "      <td>-7.839667</td>\n",
              "      <td>-3.008705</td>\n",
              "      <td>-3.804650</td>\n",
              "      <td>-7.119205</td>\n",
              "      <td>-4.792796</td>\n",
              "      <td>1.637040</td>\n",
              "      <td>31</td>\n",
              "    </tr>\n",
              "    <tr>\n",
              "      <th>34</th>\n",
              "      <td>0.001857</td>\n",
              "      <td>0.000327</td>\n",
              "      <td>0.000598</td>\n",
              "      <td>0.000246</td>\n",
              "      <td>5</td>\n",
              "      <td>1</td>\n",
              "      <td>{'alpha': 5, 'l1_ratio': 1}</td>\n",
              "      <td>-3.410550</td>\n",
              "      <td>-3.346510</td>\n",
              "      <td>-5.819850</td>\n",
              "      <td>-3.799538</td>\n",
              "      <td>-5.859560</td>\n",
              "      <td>-3.919722</td>\n",
              "      <td>-7.839667</td>\n",
              "      <td>-3.008705</td>\n",
              "      <td>-3.804650</td>\n",
              "      <td>-7.119205</td>\n",
              "      <td>-4.792796</td>\n",
              "      <td>1.637040</td>\n",
              "      <td>31</td>\n",
              "    </tr>\n",
              "    <tr>\n",
              "      <th>35</th>\n",
              "      <td>0.001975</td>\n",
              "      <td>0.000446</td>\n",
              "      <td>0.000568</td>\n",
              "      <td>0.000149</td>\n",
              "      <td>10</td>\n",
              "      <td>0.1</td>\n",
              "      <td>{'alpha': 10, 'l1_ratio': 0.1}</td>\n",
              "      <td>-3.394871</td>\n",
              "      <td>-3.331018</td>\n",
              "      <td>-5.813243</td>\n",
              "      <td>-3.785221</td>\n",
              "      <td>-5.848851</td>\n",
              "      <td>-3.904082</td>\n",
              "      <td>-7.833490</td>\n",
              "      <td>-2.992664</td>\n",
              "      <td>-3.786348</td>\n",
              "      <td>-7.112132</td>\n",
              "      <td>-4.780192</td>\n",
              "      <td>1.641022</td>\n",
              "      <td>30</td>\n",
              "    </tr>\n",
              "    <tr>\n",
              "      <th>36</th>\n",
              "      <td>0.001709</td>\n",
              "      <td>0.000371</td>\n",
              "      <td>0.000479</td>\n",
              "      <td>0.000066</td>\n",
              "      <td>10</td>\n",
              "      <td>0.5</td>\n",
              "      <td>{'alpha': 10, 'l1_ratio': 0.5}</td>\n",
              "      <td>-3.410550</td>\n",
              "      <td>-3.346510</td>\n",
              "      <td>-5.819850</td>\n",
              "      <td>-3.799538</td>\n",
              "      <td>-5.859560</td>\n",
              "      <td>-3.919722</td>\n",
              "      <td>-7.839667</td>\n",
              "      <td>-3.008705</td>\n",
              "      <td>-3.804650</td>\n",
              "      <td>-7.119205</td>\n",
              "      <td>-4.792796</td>\n",
              "      <td>1.637040</td>\n",
              "      <td>31</td>\n",
              "    </tr>\n",
              "    <tr>\n",
              "      <th>37</th>\n",
              "      <td>0.001850</td>\n",
              "      <td>0.000338</td>\n",
              "      <td>0.000494</td>\n",
              "      <td>0.000092</td>\n",
              "      <td>10</td>\n",
              "      <td>0.7</td>\n",
              "      <td>{'alpha': 10, 'l1_ratio': 0.7}</td>\n",
              "      <td>-3.410550</td>\n",
              "      <td>-3.346510</td>\n",
              "      <td>-5.819850</td>\n",
              "      <td>-3.799538</td>\n",
              "      <td>-5.859560</td>\n",
              "      <td>-3.919722</td>\n",
              "      <td>-7.839667</td>\n",
              "      <td>-3.008705</td>\n",
              "      <td>-3.804650</td>\n",
              "      <td>-7.119205</td>\n",
              "      <td>-4.792796</td>\n",
              "      <td>1.637040</td>\n",
              "      <td>31</td>\n",
              "    </tr>\n",
              "    <tr>\n",
              "      <th>38</th>\n",
              "      <td>0.002024</td>\n",
              "      <td>0.000371</td>\n",
              "      <td>0.000592</td>\n",
              "      <td>0.000190</td>\n",
              "      <td>10</td>\n",
              "      <td>0.9</td>\n",
              "      <td>{'alpha': 10, 'l1_ratio': 0.9}</td>\n",
              "      <td>-3.410550</td>\n",
              "      <td>-3.346510</td>\n",
              "      <td>-5.819850</td>\n",
              "      <td>-3.799538</td>\n",
              "      <td>-5.859560</td>\n",
              "      <td>-3.919722</td>\n",
              "      <td>-7.839667</td>\n",
              "      <td>-3.008705</td>\n",
              "      <td>-3.804650</td>\n",
              "      <td>-7.119205</td>\n",
              "      <td>-4.792796</td>\n",
              "      <td>1.637040</td>\n",
              "      <td>31</td>\n",
              "    </tr>\n",
              "    <tr>\n",
              "      <th>39</th>\n",
              "      <td>0.002114</td>\n",
              "      <td>0.000638</td>\n",
              "      <td>0.000624</td>\n",
              "      <td>0.000431</td>\n",
              "      <td>10</td>\n",
              "      <td>0.95</td>\n",
              "      <td>{'alpha': 10, 'l1_ratio': 0.95}</td>\n",
              "      <td>-3.410550</td>\n",
              "      <td>-3.346510</td>\n",
              "      <td>-5.819850</td>\n",
              "      <td>-3.799538</td>\n",
              "      <td>-5.859560</td>\n",
              "      <td>-3.919722</td>\n",
              "      <td>-7.839667</td>\n",
              "      <td>-3.008705</td>\n",
              "      <td>-3.804650</td>\n",
              "      <td>-7.119205</td>\n",
              "      <td>-4.792796</td>\n",
              "      <td>1.637040</td>\n",
              "      <td>31</td>\n",
              "    </tr>\n",
              "    <tr>\n",
              "      <th>40</th>\n",
              "      <td>0.001762</td>\n",
              "      <td>0.000133</td>\n",
              "      <td>0.000537</td>\n",
              "      <td>0.000210</td>\n",
              "      <td>10</td>\n",
              "      <td>0.99</td>\n",
              "      <td>{'alpha': 10, 'l1_ratio': 0.99}</td>\n",
              "      <td>-3.410550</td>\n",
              "      <td>-3.346510</td>\n",
              "      <td>-5.819850</td>\n",
              "      <td>-3.799538</td>\n",
              "      <td>-5.859560</td>\n",
              "      <td>-3.919722</td>\n",
              "      <td>-7.839667</td>\n",
              "      <td>-3.008705</td>\n",
              "      <td>-3.804650</td>\n",
              "      <td>-7.119205</td>\n",
              "      <td>-4.792796</td>\n",
              "      <td>1.637040</td>\n",
              "      <td>31</td>\n",
              "    </tr>\n",
              "    <tr>\n",
              "      <th>41</th>\n",
              "      <td>0.002072</td>\n",
              "      <td>0.000916</td>\n",
              "      <td>0.000593</td>\n",
              "      <td>0.000189</td>\n",
              "      <td>10</td>\n",
              "      <td>1</td>\n",
              "      <td>{'alpha': 10, 'l1_ratio': 1}</td>\n",
              "      <td>-3.410550</td>\n",
              "      <td>-3.346510</td>\n",
              "      <td>-5.819850</td>\n",
              "      <td>-3.799538</td>\n",
              "      <td>-5.859560</td>\n",
              "      <td>-3.919722</td>\n",
              "      <td>-7.839667</td>\n",
              "      <td>-3.008705</td>\n",
              "      <td>-3.804650</td>\n",
              "      <td>-7.119205</td>\n",
              "      <td>-4.792796</td>\n",
              "      <td>1.637040</td>\n",
              "      <td>31</td>\n",
              "    </tr>\n",
              "    <tr>\n",
              "      <th>42</th>\n",
              "      <td>0.001878</td>\n",
              "      <td>0.000310</td>\n",
              "      <td>0.000590</td>\n",
              "      <td>0.000209</td>\n",
              "      <td>50</td>\n",
              "      <td>0.1</td>\n",
              "      <td>{'alpha': 50, 'l1_ratio': 0.1}</td>\n",
              "      <td>-3.410550</td>\n",
              "      <td>-3.346510</td>\n",
              "      <td>-5.819850</td>\n",
              "      <td>-3.799538</td>\n",
              "      <td>-5.859560</td>\n",
              "      <td>-3.919722</td>\n",
              "      <td>-7.839667</td>\n",
              "      <td>-3.008705</td>\n",
              "      <td>-3.804650</td>\n",
              "      <td>-7.119205</td>\n",
              "      <td>-4.792796</td>\n",
              "      <td>1.637040</td>\n",
              "      <td>31</td>\n",
              "    </tr>\n",
              "    <tr>\n",
              "      <th>43</th>\n",
              "      <td>0.001960</td>\n",
              "      <td>0.000231</td>\n",
              "      <td>0.000491</td>\n",
              "      <td>0.000037</td>\n",
              "      <td>50</td>\n",
              "      <td>0.5</td>\n",
              "      <td>{'alpha': 50, 'l1_ratio': 0.5}</td>\n",
              "      <td>-3.410550</td>\n",
              "      <td>-3.346510</td>\n",
              "      <td>-5.819850</td>\n",
              "      <td>-3.799538</td>\n",
              "      <td>-5.859560</td>\n",
              "      <td>-3.919722</td>\n",
              "      <td>-7.839667</td>\n",
              "      <td>-3.008705</td>\n",
              "      <td>-3.804650</td>\n",
              "      <td>-7.119205</td>\n",
              "      <td>-4.792796</td>\n",
              "      <td>1.637040</td>\n",
              "      <td>31</td>\n",
              "    </tr>\n",
              "    <tr>\n",
              "      <th>44</th>\n",
              "      <td>0.001825</td>\n",
              "      <td>0.000207</td>\n",
              "      <td>0.000487</td>\n",
              "      <td>0.000080</td>\n",
              "      <td>50</td>\n",
              "      <td>0.7</td>\n",
              "      <td>{'alpha': 50, 'l1_ratio': 0.7}</td>\n",
              "      <td>-3.410550</td>\n",
              "      <td>-3.346510</td>\n",
              "      <td>-5.819850</td>\n",
              "      <td>-3.799538</td>\n",
              "      <td>-5.859560</td>\n",
              "      <td>-3.919722</td>\n",
              "      <td>-7.839667</td>\n",
              "      <td>-3.008705</td>\n",
              "      <td>-3.804650</td>\n",
              "      <td>-7.119205</td>\n",
              "      <td>-4.792796</td>\n",
              "      <td>1.637040</td>\n",
              "      <td>31</td>\n",
              "    </tr>\n",
              "    <tr>\n",
              "      <th>45</th>\n",
              "      <td>0.001967</td>\n",
              "      <td>0.000199</td>\n",
              "      <td>0.000468</td>\n",
              "      <td>0.000027</td>\n",
              "      <td>50</td>\n",
              "      <td>0.9</td>\n",
              "      <td>{'alpha': 50, 'l1_ratio': 0.9}</td>\n",
              "      <td>-3.410550</td>\n",
              "      <td>-3.346510</td>\n",
              "      <td>-5.819850</td>\n",
              "      <td>-3.799538</td>\n",
              "      <td>-5.859560</td>\n",
              "      <td>-3.919722</td>\n",
              "      <td>-7.839667</td>\n",
              "      <td>-3.008705</td>\n",
              "      <td>-3.804650</td>\n",
              "      <td>-7.119205</td>\n",
              "      <td>-4.792796</td>\n",
              "      <td>1.637040</td>\n",
              "      <td>31</td>\n",
              "    </tr>\n",
              "    <tr>\n",
              "      <th>46</th>\n",
              "      <td>0.001868</td>\n",
              "      <td>0.000440</td>\n",
              "      <td>0.000657</td>\n",
              "      <td>0.000353</td>\n",
              "      <td>50</td>\n",
              "      <td>0.95</td>\n",
              "      <td>{'alpha': 50, 'l1_ratio': 0.95}</td>\n",
              "      <td>-3.410550</td>\n",
              "      <td>-3.346510</td>\n",
              "      <td>-5.819850</td>\n",
              "      <td>-3.799538</td>\n",
              "      <td>-5.859560</td>\n",
              "      <td>-3.919722</td>\n",
              "      <td>-7.839667</td>\n",
              "      <td>-3.008705</td>\n",
              "      <td>-3.804650</td>\n",
              "      <td>-7.119205</td>\n",
              "      <td>-4.792796</td>\n",
              "      <td>1.637040</td>\n",
              "      <td>31</td>\n",
              "    </tr>\n",
              "    <tr>\n",
              "      <th>47</th>\n",
              "      <td>0.001054</td>\n",
              "      <td>0.000233</td>\n",
              "      <td>0.000468</td>\n",
              "      <td>0.000105</td>\n",
              "      <td>50</td>\n",
              "      <td>0.99</td>\n",
              "      <td>{'alpha': 50, 'l1_ratio': 0.99}</td>\n",
              "      <td>-3.410550</td>\n",
              "      <td>-3.346510</td>\n",
              "      <td>-5.819850</td>\n",
              "      <td>-3.799538</td>\n",
              "      <td>-5.859560</td>\n",
              "      <td>-3.919722</td>\n",
              "      <td>-7.839667</td>\n",
              "      <td>-3.008705</td>\n",
              "      <td>-3.804650</td>\n",
              "      <td>-7.119205</td>\n",
              "      <td>-4.792796</td>\n",
              "      <td>1.637040</td>\n",
              "      <td>31</td>\n",
              "    </tr>\n",
              "    <tr>\n",
              "      <th>48</th>\n",
              "      <td>0.001213</td>\n",
              "      <td>0.000610</td>\n",
              "      <td>0.000622</td>\n",
              "      <td>0.000350</td>\n",
              "      <td>50</td>\n",
              "      <td>1</td>\n",
              "      <td>{'alpha': 50, 'l1_ratio': 1}</td>\n",
              "      <td>-3.410550</td>\n",
              "      <td>-3.346510</td>\n",
              "      <td>-5.819850</td>\n",
              "      <td>-3.799538</td>\n",
              "      <td>-5.859560</td>\n",
              "      <td>-3.919722</td>\n",
              "      <td>-7.839667</td>\n",
              "      <td>-3.008705</td>\n",
              "      <td>-3.804650</td>\n",
              "      <td>-7.119205</td>\n",
              "      <td>-4.792796</td>\n",
              "      <td>1.637040</td>\n",
              "      <td>31</td>\n",
              "    </tr>\n",
              "    <tr>\n",
              "      <th>49</th>\n",
              "      <td>0.001630</td>\n",
              "      <td>0.000522</td>\n",
              "      <td>0.000538</td>\n",
              "      <td>0.000093</td>\n",
              "      <td>100</td>\n",
              "      <td>0.1</td>\n",
              "      <td>{'alpha': 100, 'l1_ratio': 0.1}</td>\n",
              "      <td>-3.410550</td>\n",
              "      <td>-3.346510</td>\n",
              "      <td>-5.819850</td>\n",
              "      <td>-3.799538</td>\n",
              "      <td>-5.859560</td>\n",
              "      <td>-3.919722</td>\n",
              "      <td>-7.839667</td>\n",
              "      <td>-3.008705</td>\n",
              "      <td>-3.804650</td>\n",
              "      <td>-7.119205</td>\n",
              "      <td>-4.792796</td>\n",
              "      <td>1.637040</td>\n",
              "      <td>31</td>\n",
              "    </tr>\n",
              "    <tr>\n",
              "      <th>50</th>\n",
              "      <td>0.002031</td>\n",
              "      <td>0.000297</td>\n",
              "      <td>0.000521</td>\n",
              "      <td>0.000076</td>\n",
              "      <td>100</td>\n",
              "      <td>0.5</td>\n",
              "      <td>{'alpha': 100, 'l1_ratio': 0.5}</td>\n",
              "      <td>-3.410550</td>\n",
              "      <td>-3.346510</td>\n",
              "      <td>-5.819850</td>\n",
              "      <td>-3.799538</td>\n",
              "      <td>-5.859560</td>\n",
              "      <td>-3.919722</td>\n",
              "      <td>-7.839667</td>\n",
              "      <td>-3.008705</td>\n",
              "      <td>-3.804650</td>\n",
              "      <td>-7.119205</td>\n",
              "      <td>-4.792796</td>\n",
              "      <td>1.637040</td>\n",
              "      <td>31</td>\n",
              "    </tr>\n",
              "    <tr>\n",
              "      <th>51</th>\n",
              "      <td>0.001977</td>\n",
              "      <td>0.000529</td>\n",
              "      <td>0.000566</td>\n",
              "      <td>0.000091</td>\n",
              "      <td>100</td>\n",
              "      <td>0.7</td>\n",
              "      <td>{'alpha': 100, 'l1_ratio': 0.7}</td>\n",
              "      <td>-3.410550</td>\n",
              "      <td>-3.346510</td>\n",
              "      <td>-5.819850</td>\n",
              "      <td>-3.799538</td>\n",
              "      <td>-5.859560</td>\n",
              "      <td>-3.919722</td>\n",
              "      <td>-7.839667</td>\n",
              "      <td>-3.008705</td>\n",
              "      <td>-3.804650</td>\n",
              "      <td>-7.119205</td>\n",
              "      <td>-4.792796</td>\n",
              "      <td>1.637040</td>\n",
              "      <td>31</td>\n",
              "    </tr>\n",
              "    <tr>\n",
              "      <th>52</th>\n",
              "      <td>0.001924</td>\n",
              "      <td>0.000137</td>\n",
              "      <td>0.000529</td>\n",
              "      <td>0.000084</td>\n",
              "      <td>100</td>\n",
              "      <td>0.9</td>\n",
              "      <td>{'alpha': 100, 'l1_ratio': 0.9}</td>\n",
              "      <td>-3.410550</td>\n",
              "      <td>-3.346510</td>\n",
              "      <td>-5.819850</td>\n",
              "      <td>-3.799538</td>\n",
              "      <td>-5.859560</td>\n",
              "      <td>-3.919722</td>\n",
              "      <td>-7.839667</td>\n",
              "      <td>-3.008705</td>\n",
              "      <td>-3.804650</td>\n",
              "      <td>-7.119205</td>\n",
              "      <td>-4.792796</td>\n",
              "      <td>1.637040</td>\n",
              "      <td>31</td>\n",
              "    </tr>\n",
              "    <tr>\n",
              "      <th>53</th>\n",
              "      <td>0.001966</td>\n",
              "      <td>0.000190</td>\n",
              "      <td>0.000513</td>\n",
              "      <td>0.000064</td>\n",
              "      <td>100</td>\n",
              "      <td>0.95</td>\n",
              "      <td>{'alpha': 100, 'l1_ratio': 0.95}</td>\n",
              "      <td>-3.410550</td>\n",
              "      <td>-3.346510</td>\n",
              "      <td>-5.819850</td>\n",
              "      <td>-3.799538</td>\n",
              "      <td>-5.859560</td>\n",
              "      <td>-3.919722</td>\n",
              "      <td>-7.839667</td>\n",
              "      <td>-3.008705</td>\n",
              "      <td>-3.804650</td>\n",
              "      <td>-7.119205</td>\n",
              "      <td>-4.792796</td>\n",
              "      <td>1.637040</td>\n",
              "      <td>31</td>\n",
              "    </tr>\n",
              "    <tr>\n",
              "      <th>54</th>\n",
              "      <td>0.002191</td>\n",
              "      <td>0.000887</td>\n",
              "      <td>0.000626</td>\n",
              "      <td>0.000207</td>\n",
              "      <td>100</td>\n",
              "      <td>0.99</td>\n",
              "      <td>{'alpha': 100, 'l1_ratio': 0.99}</td>\n",
              "      <td>-3.410550</td>\n",
              "      <td>-3.346510</td>\n",
              "      <td>-5.819850</td>\n",
              "      <td>-3.799538</td>\n",
              "      <td>-5.859560</td>\n",
              "      <td>-3.919722</td>\n",
              "      <td>-7.839667</td>\n",
              "      <td>-3.008705</td>\n",
              "      <td>-3.804650</td>\n",
              "      <td>-7.119205</td>\n",
              "      <td>-4.792796</td>\n",
              "      <td>1.637040</td>\n",
              "      <td>31</td>\n",
              "    </tr>\n",
              "    <tr>\n",
              "      <th>55</th>\n",
              "      <td>0.002000</td>\n",
              "      <td>0.000341</td>\n",
              "      <td>0.000582</td>\n",
              "      <td>0.000104</td>\n",
              "      <td>100</td>\n",
              "      <td>1</td>\n",
              "      <td>{'alpha': 100, 'l1_ratio': 1}</td>\n",
              "      <td>-3.410550</td>\n",
              "      <td>-3.346510</td>\n",
              "      <td>-5.819850</td>\n",
              "      <td>-3.799538</td>\n",
              "      <td>-5.859560</td>\n",
              "      <td>-3.919722</td>\n",
              "      <td>-7.839667</td>\n",
              "      <td>-3.008705</td>\n",
              "      <td>-3.804650</td>\n",
              "      <td>-7.119205</td>\n",
              "      <td>-4.792796</td>\n",
              "      <td>1.637040</td>\n",
              "      <td>31</td>\n",
              "    </tr>\n",
              "  </tbody>\n",
              "</table>\n",
              "</div>\n",
              "      <button class=\"colab-df-convert\" onclick=\"convertToInteractive('df-873f1448-0032-4c34-9c2e-e196d672d6d6')\"\n",
              "              title=\"Convert this dataframe to an interactive table.\"\n",
              "              style=\"display:none;\">\n",
              "        \n",
              "  <svg xmlns=\"http://www.w3.org/2000/svg\" height=\"24px\"viewBox=\"0 0 24 24\"\n",
              "       width=\"24px\">\n",
              "    <path d=\"M0 0h24v24H0V0z\" fill=\"none\"/>\n",
              "    <path d=\"M18.56 5.44l.94 2.06.94-2.06 2.06-.94-2.06-.94-.94-2.06-.94 2.06-2.06.94zm-11 1L8.5 8.5l.94-2.06 2.06-.94-2.06-.94L8.5 2.5l-.94 2.06-2.06.94zm10 10l.94 2.06.94-2.06 2.06-.94-2.06-.94-.94-2.06-.94 2.06-2.06.94z\"/><path d=\"M17.41 7.96l-1.37-1.37c-.4-.4-.92-.59-1.43-.59-.52 0-1.04.2-1.43.59L10.3 9.45l-7.72 7.72c-.78.78-.78 2.05 0 2.83L4 21.41c.39.39.9.59 1.41.59.51 0 1.02-.2 1.41-.59l7.78-7.78 2.81-2.81c.8-.78.8-2.07 0-2.86zM5.41 20L4 18.59l7.72-7.72 1.47 1.35L5.41 20z\"/>\n",
              "  </svg>\n",
              "      </button>\n",
              "      \n",
              "  <style>\n",
              "    .colab-df-container {\n",
              "      display:flex;\n",
              "      flex-wrap:wrap;\n",
              "      gap: 12px;\n",
              "    }\n",
              "\n",
              "    .colab-df-convert {\n",
              "      background-color: #E8F0FE;\n",
              "      border: none;\n",
              "      border-radius: 50%;\n",
              "      cursor: pointer;\n",
              "      display: none;\n",
              "      fill: #1967D2;\n",
              "      height: 32px;\n",
              "      padding: 0 0 0 0;\n",
              "      width: 32px;\n",
              "    }\n",
              "\n",
              "    .colab-df-convert:hover {\n",
              "      background-color: #E2EBFA;\n",
              "      box-shadow: 0px 1px 2px rgba(60, 64, 67, 0.3), 0px 1px 3px 1px rgba(60, 64, 67, 0.15);\n",
              "      fill: #174EA6;\n",
              "    }\n",
              "\n",
              "    [theme=dark] .colab-df-convert {\n",
              "      background-color: #3B4455;\n",
              "      fill: #D2E3FC;\n",
              "    }\n",
              "\n",
              "    [theme=dark] .colab-df-convert:hover {\n",
              "      background-color: #434B5C;\n",
              "      box-shadow: 0px 1px 3px 1px rgba(0, 0, 0, 0.15);\n",
              "      filter: drop-shadow(0px 1px 2px rgba(0, 0, 0, 0.3));\n",
              "      fill: #FFFFFF;\n",
              "    }\n",
              "  </style>\n",
              "\n",
              "      <script>\n",
              "        const buttonEl =\n",
              "          document.querySelector('#df-873f1448-0032-4c34-9c2e-e196d672d6d6 button.colab-df-convert');\n",
              "        buttonEl.style.display =\n",
              "          google.colab.kernel.accessAllowed ? 'block' : 'none';\n",
              "\n",
              "        async function convertToInteractive(key) {\n",
              "          const element = document.querySelector('#df-873f1448-0032-4c34-9c2e-e196d672d6d6');\n",
              "          const dataTable =\n",
              "            await google.colab.kernel.invokeFunction('convertToInteractive',\n",
              "                                                     [key], {});\n",
              "          if (!dataTable) return;\n",
              "\n",
              "          const docLinkHtml = 'Like what you see? Visit the ' +\n",
              "            '<a target=\"_blank\" href=https://colab.research.google.com/notebooks/data_table.ipynb>data table notebook</a>'\n",
              "            + ' to learn more about interactive tables.';\n",
              "          element.innerHTML = '';\n",
              "          dataTable['output_type'] = 'display_data';\n",
              "          await google.colab.output.renderOutput(dataTable, element);\n",
              "          const docLink = document.createElement('div');\n",
              "          docLink.innerHTML = docLinkHtml;\n",
              "          element.appendChild(docLink);\n",
              "        }\n",
              "      </script>\n",
              "    </div>\n",
              "  </div>\n",
              "  "
            ],
            "text/plain": [
              "    mean_fit_time  std_fit_time  ...  std_test_score  rank_test_score\n",
              "0        0.002327      0.000359  ...        0.939796               14\n",
              "1        0.001754      0.000368  ...        0.788765               11\n",
              "2        0.002227      0.000362  ...        0.670122                9\n",
              "3        0.002179      0.000489  ...        0.578846                2\n",
              "4        0.002238      0.000643  ...        0.554988                1\n",
              "5        0.001948      0.000392  ...        0.633031                6\n",
              "6        0.001979      0.000285  ...        0.687411                7\n",
              "7        0.001887      0.000163  ...        1.104394               17\n",
              "8        0.002147      0.000474  ...        0.999009               15\n",
              "9        0.002072      0.000317  ...        0.881060               12\n",
              "10       0.002158      0.000540  ...        0.658477                8\n",
              "11       0.001769      0.000099  ...        0.618932                5\n",
              "12       0.001876      0.000340  ...        0.585118                3\n",
              "13       0.001829      0.000120  ...        0.616604                4\n",
              "14       0.001769      0.000111  ...        1.352124               21\n",
              "15       0.002186      0.001463  ...        1.320837               20\n",
              "16       0.002021      0.000979  ...        1.296693               19\n",
              "17       0.001929      0.000406  ...        1.233493               18\n",
              "18       0.001480      0.000529  ...        1.172349               16\n",
              "19       0.001400      0.000485  ...        0.998409               13\n",
              "20       0.002098      0.000271  ...        0.884498               10\n",
              "21       0.001880      0.000144  ...        1.609907               22\n",
              "22       0.002260      0.000950  ...        1.647916               23\n",
              "23       0.002279      0.000512  ...        1.669553               24\n",
              "24       0.002375      0.000664  ...        1.714047               25\n",
              "25       0.002684      0.001991  ...        1.721129               26\n",
              "26       0.001850      0.000206  ...        1.717837               27\n",
              "27       0.001833      0.000249  ...        1.716205               28\n",
              "28       0.002115      0.000622  ...        1.641485               29\n",
              "29       0.001833      0.000089  ...        1.637040               31\n",
              "30       0.001922      0.000205  ...        1.637040               31\n",
              "31       0.002563      0.001558  ...        1.637040               31\n",
              "32       0.001933      0.000408  ...        1.637040               31\n",
              "33       0.001660      0.000170  ...        1.637040               31\n",
              "34       0.001857      0.000327  ...        1.637040               31\n",
              "35       0.001975      0.000446  ...        1.641022               30\n",
              "36       0.001709      0.000371  ...        1.637040               31\n",
              "37       0.001850      0.000338  ...        1.637040               31\n",
              "38       0.002024      0.000371  ...        1.637040               31\n",
              "39       0.002114      0.000638  ...        1.637040               31\n",
              "40       0.001762      0.000133  ...        1.637040               31\n",
              "41       0.002072      0.000916  ...        1.637040               31\n",
              "42       0.001878      0.000310  ...        1.637040               31\n",
              "43       0.001960      0.000231  ...        1.637040               31\n",
              "44       0.001825      0.000207  ...        1.637040               31\n",
              "45       0.001967      0.000199  ...        1.637040               31\n",
              "46       0.001868      0.000440  ...        1.637040               31\n",
              "47       0.001054      0.000233  ...        1.637040               31\n",
              "48       0.001213      0.000610  ...        1.637040               31\n",
              "49       0.001630      0.000522  ...        1.637040               31\n",
              "50       0.002031      0.000297  ...        1.637040               31\n",
              "51       0.001977      0.000529  ...        1.637040               31\n",
              "52       0.001924      0.000137  ...        1.637040               31\n",
              "53       0.001966      0.000190  ...        1.637040               31\n",
              "54       0.002191      0.000887  ...        1.637040               31\n",
              "55       0.002000      0.000341  ...        1.637040               31\n",
              "\n",
              "[56 rows x 20 columns]"
            ]
          },
          "metadata": {},
          "execution_count": 112
        }
      ]
    },
    {
      "cell_type": "code",
      "source": [
        "ElasticNet(alpha=0.1, l1_ratio=0.1)"
      ],
      "metadata": {
        "id": "FS_gb6hK_Qu5",
        "outputId": "d0ca55c7-7f90-47e9-c212-5fc8dc338752",
        "colab": {
          "base_uri": "https://localhost:8080/"
        }
      },
      "execution_count": null,
      "outputs": [
        {
          "output_type": "execute_result",
          "data": {
            "text/plain": [
              "ElasticNet(alpha=0.1, l1_ratio=0.1)"
            ]
          },
          "metadata": {},
          "execution_count": 113
        }
      ]
    },
    {
      "cell_type": "code",
      "source": [
        "y_test_pred = grid_model.predict(X_test)"
      ],
      "metadata": {
        "id": "O4ZrmnLD_Xzo"
      },
      "execution_count": null,
      "outputs": []
    },
    {
      "cell_type": "code",
      "source": [
        "show_metrics(y_test, y_test_pred)"
      ],
      "metadata": {
        "id": "K2Dw17TB_Xu8",
        "outputId": "b54d192b-b987-4b32-ba01-c5f9e638f448",
        "colab": {
          "base_uri": "https://localhost:8080/"
        }
      },
      "execution_count": null,
      "outputs": [
        {
          "output_type": "stream",
          "name": "stdout",
          "text": [
            "Model testing performance:\n",
            "--------------------------\n",
            "RMSE        1.7770543563621737\n",
            "MAE         1.1067866972278728\n",
            "R2          0.8823460927683366\n"
          ]
        }
      ]
    }
  ]
}